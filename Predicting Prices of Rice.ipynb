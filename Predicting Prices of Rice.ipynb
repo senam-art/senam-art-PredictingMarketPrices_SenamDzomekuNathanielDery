{
 "cells": [
  {
   "cell_type": "code",
   "execution_count": null,
   "id": "b4461681",
   "metadata": {},
   "outputs": [],
   "source": [
    "pip install xgb"
   ]
  },
  {
   "cell_type": "code",
   "execution_count": 21,
   "id": "2b5daf45",
   "metadata": {
    "scrolled": false
   },
   "outputs": [
    {
     "name": "stdout",
     "output_type": "stream",
     "text": [
      "Requirement already satisfied: nixtla in /opt/anaconda3/lib/python3.11/site-packages (0.5.2)\n",
      "Requirement already satisfied: httpx in /opt/anaconda3/lib/python3.11/site-packages (from nixtla) (0.26.0)\n",
      "Requirement already satisfied: pandas in /opt/anaconda3/lib/python3.11/site-packages (from nixtla) (2.1.4)\n",
      "Requirement already satisfied: pydantic in /opt/anaconda3/lib/python3.11/site-packages (from nixtla) (1.10.12)\n",
      "Requirement already satisfied: requests in /opt/anaconda3/lib/python3.11/site-packages (from nixtla) (2.31.0)\n",
      "Requirement already satisfied: tenacity in /opt/anaconda3/lib/python3.11/site-packages (from nixtla) (8.2.2)\n",
      "Requirement already satisfied: utilsforecast>=0.1.7 in /opt/anaconda3/lib/python3.11/site-packages (from nixtla) (0.2.2)\n",
      "Requirement already satisfied: numpy in /opt/anaconda3/lib/python3.11/site-packages (from utilsforecast>=0.1.7->nixtla) (1.26.4)\n",
      "Requirement already satisfied: packaging in /opt/anaconda3/lib/python3.11/site-packages (from utilsforecast>=0.1.7->nixtla) (23.1)\n",
      "Requirement already satisfied: python-dateutil>=2.8.2 in /opt/anaconda3/lib/python3.11/site-packages (from pandas->nixtla) (2.8.2)\n",
      "Requirement already satisfied: pytz>=2020.1 in /opt/anaconda3/lib/python3.11/site-packages (from pandas->nixtla) (2023.3.post1)\n",
      "Requirement already satisfied: tzdata>=2022.1 in /opt/anaconda3/lib/python3.11/site-packages (from pandas->nixtla) (2023.3)\n",
      "Requirement already satisfied: anyio in /opt/anaconda3/lib/python3.11/site-packages (from httpx->nixtla) (4.2.0)\n",
      "Requirement already satisfied: certifi in /opt/anaconda3/lib/python3.11/site-packages (from httpx->nixtla) (2024.6.2)\n",
      "Requirement already satisfied: httpcore==1.* in /opt/anaconda3/lib/python3.11/site-packages (from httpx->nixtla) (1.0.2)\n",
      "Requirement already satisfied: idna in /opt/anaconda3/lib/python3.11/site-packages (from httpx->nixtla) (3.4)\n",
      "Requirement already satisfied: sniffio in /opt/anaconda3/lib/python3.11/site-packages (from httpx->nixtla) (1.3.0)\n",
      "Requirement already satisfied: h11<0.15,>=0.13 in /opt/anaconda3/lib/python3.11/site-packages (from httpcore==1.*->httpx->nixtla) (0.14.0)\n",
      "Requirement already satisfied: typing-extensions>=4.2.0 in /opt/anaconda3/lib/python3.11/site-packages (from pydantic->nixtla) (4.9.0)\n",
      "Requirement already satisfied: charset-normalizer<4,>=2 in /opt/anaconda3/lib/python3.11/site-packages (from requests->nixtla) (2.0.4)\n",
      "Requirement already satisfied: urllib3<3,>=1.21.1 in /opt/anaconda3/lib/python3.11/site-packages (from requests->nixtla) (2.0.7)\n",
      "Requirement already satisfied: six>=1.5 in /opt/anaconda3/lib/python3.11/site-packages (from python-dateutil>=2.8.2->pandas->nixtla) (1.16.0)\n",
      "Note: you may need to restart the kernel to use updated packages.\n"
     ]
    }
   ],
   "source": [
    "pip install nixtla"
   ]
  },
  {
   "cell_type": "markdown",
   "id": "03798243",
   "metadata": {},
   "source": [
    "Using transfer methods other methods especially for time series predictions proved to have some bias and were not accurate. So for accuracy we leveraged on NIXTLA TimeGPT model to predict the prices of Rice in Ghana using economic extrogenous features "
   ]
  },
  {
   "cell_type": "markdown",
   "id": "b5145043",
   "metadata": {},
   "source": [
    "# Imports"
   ]
  },
  {
   "cell_type": "code",
   "execution_count": 136,
   "id": "94d1aca2",
   "metadata": {},
   "outputs": [],
   "source": [
    "import pandas as pd\n",
    "import numpy as np\n",
    "import matplotlib.pyplot as plt\n",
    "import seaborn as sns\n",
    "from sklearn.model_selection import train_test_split\n",
    "from sklearn.ensemble import RandomForestRegressor\n",
    "import xgboost as xgb\n",
    "from nixtla import NixtlaClient\n",
    "from sklearn.preprocessing import StandardScaler\n",
    "import pandas as pd\n",
    "from sklearn.metrics import mean_squared_error\n",
    "import matplotlib.pyplot as plt\n",
    "import joblib\n",
    "from utilsforecast.losses import mae\n",
    "\n"
   ]
  },
  {
   "cell_type": "code",
   "execution_count": 68,
   "id": "cc8919e3",
   "metadata": {},
   "outputs": [],
   "source": [
    "file_path = '/Users/senamdzomeku/Downloads/research/rice prices with exogenous.csv'\n",
    "df = pd.read_csv(file_path)"
   ]
  },
  {
   "cell_type": "markdown",
   "id": "47874587",
   "metadata": {},
   "source": [
    "# Data Preprocessing / Exploratory Data Analysis"
   ]
  },
  {
   "cell_type": "code",
   "execution_count": 69,
   "id": "2f1c628e",
   "metadata": {},
   "outputs": [],
   "source": [
    "# Convert 'ds' to datetime format (assuming 'MM-YYYY' format)\n",
    "\n",
    "df['ds'] = pd.to_datetime(df['ds'], format='%Y-%m-%d')\n",
    "\n",
    "# Convert to 'YYYY-MM-DD' format, start of the month\n",
    "df['ds'] = df['ds'].dt.to_period('M').dt.to_timestamp()"
   ]
  },
  {
   "cell_type": "code",
   "execution_count": 70,
   "id": "13e34765",
   "metadata": {},
   "outputs": [],
   "source": [
    "eda = df.copy()"
   ]
  },
  {
   "cell_type": "code",
   "execution_count": 71,
   "id": "5c57e435",
   "metadata": {},
   "outputs": [],
   "source": [
    "eda.set_index('ds', inplace=True)"
   ]
  },
  {
   "cell_type": "code",
   "execution_count": 72,
   "id": "c4112a59",
   "metadata": {
    "scrolled": false
   },
   "outputs": [
    {
     "data": {
      "text/html": [
       "<div>\n",
       "<style scoped>\n",
       "    .dataframe tbody tr th:only-of-type {\n",
       "        vertical-align: middle;\n",
       "    }\n",
       "\n",
       "    .dataframe tbody tr th {\n",
       "        vertical-align: top;\n",
       "    }\n",
       "\n",
       "    .dataframe thead th {\n",
       "        text-align: right;\n",
       "    }\n",
       "</style>\n",
       "<table border=\"1\" class=\"dataframe\">\n",
       "  <thead>\n",
       "    <tr style=\"text-align: right;\">\n",
       "      <th></th>\n",
       "      <th>riceusdprice</th>\n",
       "      <th>maizeusdprice</th>\n",
       "      <th>exchangerate</th>\n",
       "      <th>Inflation</th>\n",
       "    </tr>\n",
       "    <tr>\n",
       "      <th>ds</th>\n",
       "      <th></th>\n",
       "      <th></th>\n",
       "      <th></th>\n",
       "      <th></th>\n",
       "    </tr>\n",
       "  </thead>\n",
       "  <tbody>\n",
       "    <tr>\n",
       "      <th>2007-01-01</th>\n",
       "      <td>37.844100</td>\n",
       "      <td>20.495183</td>\n",
       "      <td>0.9210</td>\n",
       "      <td>18.541578</td>\n",
       "    </tr>\n",
       "    <tr>\n",
       "      <th>2007-02-01</th>\n",
       "      <td>36.425600</td>\n",
       "      <td>22.002383</td>\n",
       "      <td>0.9295</td>\n",
       "      <td>14.262831</td>\n",
       "    </tr>\n",
       "    <tr>\n",
       "      <th>2007-03-01</th>\n",
       "      <td>36.701883</td>\n",
       "      <td>23.088567</td>\n",
       "      <td>0.9263</td>\n",
       "      <td>13.017348</td>\n",
       "    </tr>\n",
       "    <tr>\n",
       "      <th>2007-04-01</th>\n",
       "      <td>37.661983</td>\n",
       "      <td>24.117650</td>\n",
       "      <td>0.9270</td>\n",
       "      <td>12.367792</td>\n",
       "    </tr>\n",
       "    <tr>\n",
       "      <th>2007-05-01</th>\n",
       "      <td>38.772450</td>\n",
       "      <td>24.460667</td>\n",
       "      <td>0.9276</td>\n",
       "      <td>12.314164</td>\n",
       "    </tr>\n",
       "  </tbody>\n",
       "</table>\n",
       "</div>"
      ],
      "text/plain": [
       "            riceusdprice  maizeusdprice  exchangerate  Inflation\n",
       "ds                                                              \n",
       "2007-01-01     37.844100      20.495183        0.9210  18.541578\n",
       "2007-02-01     36.425600      22.002383        0.9295  14.262831\n",
       "2007-03-01     36.701883      23.088567        0.9263  13.017348\n",
       "2007-04-01     37.661983      24.117650        0.9270  12.367792\n",
       "2007-05-01     38.772450      24.460667        0.9276  12.314164"
      ]
     },
     "execution_count": 72,
     "metadata": {},
     "output_type": "execute_result"
    }
   ],
   "source": [
    "eda.head()"
   ]
  },
  {
   "cell_type": "markdown",
   "id": "6242c47a",
   "metadata": {},
   "source": [
    "# Visualisation/EDA"
   ]
  },
  {
   "cell_type": "code",
   "execution_count": 73,
   "id": "fe0b13b4",
   "metadata": {},
   "outputs": [
    {
     "data": {
      "text/html": [
       "<div>\n",
       "<style scoped>\n",
       "    .dataframe tbody tr th:only-of-type {\n",
       "        vertical-align: middle;\n",
       "    }\n",
       "\n",
       "    .dataframe tbody tr th {\n",
       "        vertical-align: top;\n",
       "    }\n",
       "\n",
       "    .dataframe thead th {\n",
       "        text-align: right;\n",
       "    }\n",
       "</style>\n",
       "<table border=\"1\" class=\"dataframe\">\n",
       "  <thead>\n",
       "    <tr style=\"text-align: right;\">\n",
       "      <th></th>\n",
       "      <th>riceusdprice</th>\n",
       "      <th>maizeusdprice</th>\n",
       "      <th>exchangerate</th>\n",
       "      <th>Inflation</th>\n",
       "    </tr>\n",
       "  </thead>\n",
       "  <tbody>\n",
       "    <tr>\n",
       "      <th>count</th>\n",
       "      <td>199.000000</td>\n",
       "      <td>199.000000</td>\n",
       "      <td>199.000000</td>\n",
       "      <td>199.000000</td>\n",
       "    </tr>\n",
       "    <tr>\n",
       "      <th>mean</th>\n",
       "      <td>55.245394</td>\n",
       "      <td>37.533759</td>\n",
       "      <td>3.831651</td>\n",
       "      <td>19.504045</td>\n",
       "    </tr>\n",
       "    <tr>\n",
       "      <th>std</th>\n",
       "      <td>14.004332</td>\n",
       "      <td>9.662863</td>\n",
       "      <td>2.754113</td>\n",
       "      <td>12.281528</td>\n",
       "    </tr>\n",
       "    <tr>\n",
       "      <th>min</th>\n",
       "      <td>33.153808</td>\n",
       "      <td>20.495183</td>\n",
       "      <td>0.921000</td>\n",
       "      <td>8.405687</td>\n",
       "    </tr>\n",
       "    <tr>\n",
       "      <th>25%</th>\n",
       "      <td>45.190233</td>\n",
       "      <td>30.470422</td>\n",
       "      <td>1.505250</td>\n",
       "      <td>10.798171</td>\n",
       "    </tr>\n",
       "    <tr>\n",
       "      <th>50%</th>\n",
       "      <td>49.494950</td>\n",
       "      <td>35.937100</td>\n",
       "      <td>3.773800</td>\n",
       "      <td>15.441009</td>\n",
       "    </tr>\n",
       "    <tr>\n",
       "      <th>75%</th>\n",
       "      <td>66.878801</td>\n",
       "      <td>42.164807</td>\n",
       "      <td>5.425000</td>\n",
       "      <td>20.946911</td>\n",
       "    </tr>\n",
       "    <tr>\n",
       "      <th>max</th>\n",
       "      <td>84.441483</td>\n",
       "      <td>67.216371</td>\n",
       "      <td>14.400000</td>\n",
       "      <td>55.755276</td>\n",
       "    </tr>\n",
       "  </tbody>\n",
       "</table>\n",
       "</div>"
      ],
      "text/plain": [
       "       riceusdprice  maizeusdprice  exchangerate   Inflation\n",
       "count    199.000000     199.000000    199.000000  199.000000\n",
       "mean      55.245394      37.533759      3.831651   19.504045\n",
       "std       14.004332       9.662863      2.754113   12.281528\n",
       "min       33.153808      20.495183      0.921000    8.405687\n",
       "25%       45.190233      30.470422      1.505250   10.798171\n",
       "50%       49.494950      35.937100      3.773800   15.441009\n",
       "75%       66.878801      42.164807      5.425000   20.946911\n",
       "max       84.441483      67.216371     14.400000   55.755276"
      ]
     },
     "execution_count": 73,
     "metadata": {},
     "output_type": "execute_result"
    }
   ],
   "source": [
    "eda.describe()"
   ]
  },
  {
   "cell_type": "markdown",
   "id": "8ecab85b",
   "metadata": {},
   "source": [
    "## Plotting features"
   ]
  },
  {
   "cell_type": "markdown",
   "id": "881d75d7",
   "metadata": {},
   "source": [
    "### Target Variable (Rice Prices)"
   ]
  },
  {
   "cell_type": "code",
   "execution_count": 74,
   "id": "2733a932",
   "metadata": {},
   "outputs": [
    {
     "data": {
      "image/png": "[encoded data removed]",
      "text/plain": [
       "<Figure size 1200x600 with 1 Axes>"
      ]
     },
     "metadata": {},
     "output_type": "display_data"
    }
   ],
   "source": [
    "plt.figure(figsize=(12, 6))\n",
    "plt.plot(eda.index, eda['riceusdprice'], marker='o', linestyle='-')\n",
    "plt.xlabel('Years')\n",
    "plt.ylabel('Prices($)')\n",
    "plt.title('Time Series Plot of Rice Prices in USD')\n",
    "plt.xticks(rotation=45)  # Rotate x-axis labels for better readability\n",
    "plt.grid(True)\n",
    "plt.show()\n"
   ]
  },
  {
   "cell_type": "markdown",
   "id": "9398b07b",
   "metadata": {},
   "source": [
    "### Maize Prices"
   ]
  },
  {
   "cell_type": "markdown",
   "id": "44c92b20",
   "metadata": {},
   "source": [
    "Included in analysis because maize is considered a substitute to rice, (demand side factors)"
   ]
  },
  {
   "cell_type": "code",
   "execution_count": 75,
   "id": "dbf1a218",
   "metadata": {},
   "outputs": [
    {
     "data": {
      "image/png": "[encoded data removed]",
      "text/plain": [
       "<Figure size 1200x600 with 1 Axes>"
      ]
     },
     "metadata": {},
     "output_type": "display_data"
    }
   ],
   "source": [
    "plt.figure(figsize=(12, 6))\n",
    "plt.plot(eda.index, eda['maizeusdprice'], marker='o', linestyle='-')\n",
    "plt.xlabel('Years')\n",
    "plt.ylabel('Prices($)')\n",
    "plt.title('Time Series Plot of Maize Prices in USD')\n",
    "plt.xticks(rotation=45)  # Rotate x-axis labels for better readability\n",
    "plt.grid(True)\n",
    "plt.show()"
   ]
  },
  {
   "cell_type": "markdown",
   "id": "288f68c6",
   "metadata": {},
   "source": [
    "### Exchange Rate"
   ]
  },
  {
   "cell_type": "code",
   "execution_count": 76,
   "id": "ceeeefe3",
   "metadata": {},
   "outputs": [
    {
     "data": {
      "image/png": "[encoded data removed]",
      "text/plain": [
       "<Figure size 1200x600 with 1 Axes>"
      ]
     },
     "metadata": {},
     "output_type": "display_data"
    }
   ],
   "source": [
    "plt.figure(figsize=(12, 6))\n",
    "plt.plot(eda.index, eda['exchangerate'], marker='o', linestyle='-')\n",
    "plt.xlabel('Years')\n",
    "plt.ylabel('($)')\n",
    "plt.title('Time Series Plot of Exchange Rate ($1 - GHS)')\n",
    "plt.xticks(rotation=45)  # Rotate x-axis labels for better readability\n",
    "plt.grid(True)\n",
    "plt.show()"
   ]
  },
  {
   "cell_type": "markdown",
   "id": "a4c80cfe",
   "metadata": {},
   "source": [
    "## Inflation Rate"
   ]
  },
  {
   "cell_type": "code",
   "execution_count": 77,
   "id": "b4e04d82",
   "metadata": {},
   "outputs": [
    {
     "data": {
      "image/png": "[encoded data removed]",
      "text/plain": [
       "<Figure size 1200x600 with 1 Axes>"
      ]
     },
     "metadata": {},
     "output_type": "display_data"
    }
   ],
   "source": [
    "plt.figure(figsize=(12, 6))\n",
    "plt.plot(eda.index, eda['Inflation'], marker='o', linestyle='-')\n",
    "plt.xlabel('Years')\n",
    "plt.ylabel('(in %)')\n",
    "plt.title('Time Series Plot of the Inflation Rate in Ghana')\n",
    "plt.xticks(rotation=45)  # Rotate x-axis labels for better readability\n",
    "plt.grid(True)\n",
    "plt.show()"
   ]
  },
  {
   "cell_type": "markdown",
   "id": "c7bb4c52",
   "metadata": {},
   "source": [
    "## Correlation Analysis"
   ]
  },
  {
   "cell_type": "code",
   "execution_count": 78,
   "id": "401db903",
   "metadata": {},
   "outputs": [
    {
     "name": "stdout",
     "output_type": "stream",
     "text": [
      "               riceusdprice  maizeusdprice  exchangerate  Inflation\n",
      "riceusdprice       1.000000       0.269918     -0.278425   0.316512\n",
      "maizeusdprice      0.269918       1.000000      0.145797   0.427938\n",
      "exchangerate      -0.278425       0.145797      1.000000   0.318873\n",
      "Inflation          0.316512       0.427938      0.318873   1.000000\n"
     ]
    }
   ],
   "source": [
    "# Calculate the correlation matrix\n",
    "correlation_matrix = df[['riceusdprice', 'maizeusdprice','exchangerate','Inflation']].corr()\n",
    "\n",
    "print(correlation_matrix)\n"
   ]
  },
  {
   "cell_type": "code",
   "execution_count": 79,
   "id": "8a6ff290",
   "metadata": {},
   "outputs": [
    {
     "data": {
      "image/png": "[encoded data removed]",
      "text/plain": [
       "<Figure size 1000x800 with 2 Axes>"
      ]
     },
     "metadata": {},
     "output_type": "display_data"
    }
   ],
   "source": [
    "\n",
    "plt.figure(figsize=(10, 8))\n",
    "sns.heatmap(correlation_matrix, annot=True, cmap='coolwarm', linewidths=0.5)\n",
    "plt.title('Correlation Matrix of Cassava Dataset')\n",
    "plt.show()"
   ]
  },
  {
   "cell_type": "markdown",
   "id": "92d28eb3",
   "metadata": {},
   "source": [
    "From the correlation matrix we see that there is no multicolinearity in the model and all extrogenous features have some correlation to the target variable (riceusdprice)"
   ]
  },
  {
   "cell_type": "code",
   "execution_count": 80,
   "id": "bcdc3cc8",
   "metadata": {},
   "outputs": [],
   "source": [
    "#function for scaling\n",
    "def standard_scale_features(df, feature_columns):\n",
    "    \"\"\"\n",
    "    Parameters:\n",
    "    df (pd.DataFrame):\n",
    "    feature_columns (list)\n",
    "    \"\"\"\n",
    "    scaler = StandardScaler()\n",
    "    df[feature_columns] = scaler.fit_transform(df[feature_columns])\n",
    "    return df"
   ]
  },
  {
   "cell_type": "markdown",
   "id": "df3d8679",
   "metadata": {},
   "source": [
    "## Using tree models to confirm feature importance"
   ]
  },
  {
   "cell_type": "code",
   "execution_count": 82,
   "id": "3812d450",
   "metadata": {},
   "outputs": [
    {
     "data": {
      "text/html": [
       "<div>\n",
       "<style scoped>\n",
       "    .dataframe tbody tr th:only-of-type {\n",
       "        vertical-align: middle;\n",
       "    }\n",
       "\n",
       "    .dataframe tbody tr th {\n",
       "        vertical-align: top;\n",
       "    }\n",
       "\n",
       "    .dataframe thead th {\n",
       "        text-align: right;\n",
       "    }\n",
       "</style>\n",
       "<table border=\"1\" class=\"dataframe\">\n",
       "  <thead>\n",
       "    <tr style=\"text-align: right;\">\n",
       "      <th></th>\n",
       "      <th>riceusdprice</th>\n",
       "      <th>maizeusdprice</th>\n",
       "      <th>exchangerate</th>\n",
       "      <th>Inflation</th>\n",
       "    </tr>\n",
       "    <tr>\n",
       "      <th>ds</th>\n",
       "      <th></th>\n",
       "      <th></th>\n",
       "      <th></th>\n",
       "      <th></th>\n",
       "    </tr>\n",
       "  </thead>\n",
       "  <tbody>\n",
       "    <tr>\n",
       "      <th>2007-01-01</th>\n",
       "      <td>-1.245699</td>\n",
       "      <td>-1.767752</td>\n",
       "      <td>-1.059503</td>\n",
       "      <td>-0.078565</td>\n",
       "    </tr>\n",
       "    <tr>\n",
       "      <th>2007-02-01</th>\n",
       "      <td>-1.347244</td>\n",
       "      <td>-1.611380</td>\n",
       "      <td>-1.056409</td>\n",
       "      <td>-0.427832</td>\n",
       "    </tr>\n",
       "    <tr>\n",
       "      <th>2007-03-01</th>\n",
       "      <td>-1.327466</td>\n",
       "      <td>-1.498689</td>\n",
       "      <td>-1.057574</td>\n",
       "      <td>-0.529499</td>\n",
       "    </tr>\n",
       "    <tr>\n",
       "      <th>2007-04-01</th>\n",
       "      <td>-1.258736</td>\n",
       "      <td>-1.391921</td>\n",
       "      <td>-1.057319</td>\n",
       "      <td>-0.582521</td>\n",
       "    </tr>\n",
       "    <tr>\n",
       "      <th>2007-05-01</th>\n",
       "      <td>-1.179242</td>\n",
       "      <td>-1.356333</td>\n",
       "      <td>-1.057101</td>\n",
       "      <td>-0.586899</td>\n",
       "    </tr>\n",
       "    <tr>\n",
       "      <th>...</th>\n",
       "      <td>...</td>\n",
       "      <td>...</td>\n",
       "      <td>...</td>\n",
       "      <td>...</td>\n",
       "    </tr>\n",
       "    <tr>\n",
       "      <th>2023-03-01</th>\n",
       "      <td>-0.624812</td>\n",
       "      <td>0.860623</td>\n",
       "      <td>2.809549</td>\n",
       "      <td>2.450652</td>\n",
       "    </tr>\n",
       "    <tr>\n",
       "      <th>2023-04-01</th>\n",
       "      <td>-0.782726</td>\n",
       "      <td>1.532878</td>\n",
       "      <td>2.900551</td>\n",
       "      <td>2.577772</td>\n",
       "    </tr>\n",
       "    <tr>\n",
       "      <th>2023-05-01</th>\n",
       "      <td>-0.943091</td>\n",
       "      <td>1.807497</td>\n",
       "      <td>2.700346</td>\n",
       "      <td>2.704892</td>\n",
       "    </tr>\n",
       "    <tr>\n",
       "      <th>2023-06-01</th>\n",
       "      <td>-0.817705</td>\n",
       "      <td>1.823882</td>\n",
       "      <td>2.727647</td>\n",
       "      <td>2.832012</td>\n",
       "    </tr>\n",
       "    <tr>\n",
       "      <th>2023-07-01</th>\n",
       "      <td>-0.462023</td>\n",
       "      <td>1.650016</td>\n",
       "      <td>2.725827</td>\n",
       "      <td>2.959132</td>\n",
       "    </tr>\n",
       "  </tbody>\n",
       "</table>\n",
       "<p>199 rows × 4 columns</p>\n",
       "</div>"
      ],
      "text/plain": [
       "            riceusdprice  maizeusdprice  exchangerate  Inflation\n",
       "ds                                                              \n",
       "2007-01-01     -1.245699      -1.767752     -1.059503  -0.078565\n",
       "2007-02-01     -1.347244      -1.611380     -1.056409  -0.427832\n",
       "2007-03-01     -1.327466      -1.498689     -1.057574  -0.529499\n",
       "2007-04-01     -1.258736      -1.391921     -1.057319  -0.582521\n",
       "2007-05-01     -1.179242      -1.356333     -1.057101  -0.586899\n",
       "...                  ...            ...           ...        ...\n",
       "2023-03-01     -0.624812       0.860623      2.809549   2.450652\n",
       "2023-04-01     -0.782726       1.532878      2.900551   2.577772\n",
       "2023-05-01     -0.943091       1.807497      2.700346   2.704892\n",
       "2023-06-01     -0.817705       1.823882      2.727647   2.832012\n",
       "2023-07-01     -0.462023       1.650016      2.725827   2.959132\n",
       "\n",
       "[199 rows x 4 columns]"
      ]
     },
     "execution_count": 82,
     "metadata": {},
     "output_type": "execute_result"
    }
   ],
   "source": [
    "col_scale = ['riceusdprice', 'maizeusdprice', 'exchangerate', 'Inflation']\n",
    "standard_scale_features (eda,col_scale)"
   ]
  },
  {
   "cell_type": "code",
   "execution_count": 83,
   "id": "081ba8aa",
   "metadata": {},
   "outputs": [],
   "source": [
    "#Splitting features and target\n",
    "X = eda.drop(columns=['riceusdprice'])\n",
    "y = eda['riceusdprice']\n",
    "\n",
    "# Convert feature names to strings\n",
    "feature_names = [str(name) for name in X.columns]"
   ]
  },
  {
   "cell_type": "markdown",
   "id": "003a75ae",
   "metadata": {},
   "source": [
    "Using XGboost and Random Tree to assess feature importance"
   ]
  },
  {
   "cell_type": "code",
   "execution_count": 84,
   "id": "c96619f0",
   "metadata": {},
   "outputs": [
    {
     "name": "stderr",
     "output_type": "stream",
     "text": [
      "/opt/anaconda3/lib/python3.11/site-packages/xgboost/core.py:158: UserWarning: [21:11:21] WARNING: /Users/runner/work/xgboost/xgboost/src/learner.cc:740: \n",
      "Parameters: { \"shuffle\" } are not used.\n",
      "\n",
      "  warnings.warn(smsg, UserWarning)\n"
     ]
    },
    {
     "data": {
      "text/html": [
       "<style>#sk-container-id-2 {color: black;background-color: white;}#sk-container-id-2 pre{padding: 0;}#sk-container-id-2 div.sk-toggleable {background-color: white;}#sk-container-id-2 label.sk-toggleable__label {cursor: pointer;display: block;width: 100%;margin-bottom: 0;padding: 0.3em;box-sizing: border-box;text-align: center;}#sk-container-id-2 label.sk-toggleable__label-arrow:before {content: \"▸\";float: left;margin-right: 0.25em;color: #696969;}#sk-container-id-2 label.sk-toggleable__label-arrow:hover:before {color: black;}#sk-container-id-2 div.sk-estimator:hover label.sk-toggleable__label-arrow:before {color: black;}#sk-container-id-2 div.sk-toggleable__content {max-height: 0;max-width: 0;overflow: hidden;text-align: left;background-color: #f0f8ff;}#sk-container-id-2 div.sk-toggleable__content pre {margin: 0.2em;color: black;border-radius: 0.25em;background-color: #f0f8ff;}#sk-container-id-2 input.sk-toggleable__control:checked~div.sk-toggleable__content {max-height: 200px;max-width: 100%;overflow: auto;}#sk-container-id-2 input.sk-toggleable__control:checked~label.sk-toggleable__label-arrow:before {content: \"▾\";}#sk-container-id-2 div.sk-estimator input.sk-toggleable__control:checked~label.sk-toggleable__label {background-color: #d4ebff;}#sk-container-id-2 div.sk-label input.sk-toggleable__control:checked~label.sk-toggleable__label {background-color: #d4ebff;}#sk-container-id-2 input.sk-hidden--visually {border: 0;clip: rect(1px 1px 1px 1px);clip: rect(1px, 1px, 1px, 1px);height: 1px;margin: -1px;overflow: hidden;padding: 0;position: absolute;width: 1px;}#sk-container-id-2 div.sk-estimator {font-family: monospace;background-color: #f0f8ff;border: 1px dotted black;border-radius: 0.25em;box-sizing: border-box;margin-bottom: 0.5em;}#sk-container-id-2 div.sk-estimator:hover {background-color: #d4ebff;}#sk-container-id-2 div.sk-parallel-item::after {content: \"\";width: 100%;border-bottom: 1px solid gray;flex-grow: 1;}#sk-container-id-2 div.sk-label:hover label.sk-toggleable__label {background-color: #d4ebff;}#sk-container-id-2 div.sk-serial::before {content: \"\";position: absolute;border-left: 1px solid gray;box-sizing: border-box;top: 0;bottom: 0;left: 50%;z-index: 0;}#sk-container-id-2 div.sk-serial {display: flex;flex-direction: column;align-items: center;background-color: white;padding-right: 0.2em;padding-left: 0.2em;position: relative;}#sk-container-id-2 div.sk-item {position: relative;z-index: 1;}#sk-container-id-2 div.sk-parallel {display: flex;align-items: stretch;justify-content: center;background-color: white;position: relative;}#sk-container-id-2 div.sk-item::before, #sk-container-id-2 div.sk-parallel-item::before {content: \"\";position: absolute;border-left: 1px solid gray;box-sizing: border-box;top: 0;bottom: 0;left: 50%;z-index: -1;}#sk-container-id-2 div.sk-parallel-item {display: flex;flex-direction: column;z-index: 1;position: relative;background-color: white;}#sk-container-id-2 div.sk-parallel-item:first-child::after {align-self: flex-end;width: 50%;}#sk-container-id-2 div.sk-parallel-item:last-child::after {align-self: flex-start;width: 50%;}#sk-container-id-2 div.sk-parallel-item:only-child::after {width: 0;}#sk-container-id-2 div.sk-dashed-wrapped {border: 1px dashed gray;margin: 0 0.4em 0.5em 0.4em;box-sizing: border-box;padding-bottom: 0.4em;background-color: white;}#sk-container-id-2 div.sk-label label {font-family: monospace;font-weight: bold;display: inline-block;line-height: 1.2em;}#sk-container-id-2 div.sk-label-container {text-align: center;}#sk-container-id-2 div.sk-container {/* jupyter's `normalize.less` sets `[hidden] { display: none; }` but bootstrap.min.css set `[hidden] { display: none !important; }` so we also need the `!important` here to be able to override the default hidden behavior on the sphinx rendered scikit-learn.org. See: https://github.com/scikit-learn/scikit-learn/issues/21755 */display: inline-block !important;position: relative;}#sk-container-id-2 div.sk-text-repr-fallback {display: none;}</style><div id=\"sk-container-id-2\" class=\"sk-top-container\"><div class=\"sk-text-repr-fallback\"><pre>XGBRegressor(base_score=None, booster=None, callbacks=None,\n",
       "             colsample_bylevel=None, colsample_bynode=None,\n",
       "             colsample_bytree=None, device=None, early_stopping_rounds=None,\n",
       "             enable_categorical=False, eval_metric=None, feature_types=None,\n",
       "             gamma=None, grow_policy=None, importance_type=None,\n",
       "             interaction_constraints=None, learning_rate=None, max_bin=None,\n",
       "             max_cat_threshold=None, max_cat_to_onehot=None,\n",
       "             max_delta_step=None, max_depth=None, max_leaves=None,\n",
       "             min_child_weight=None, missing=nan, monotone_constraints=None,\n",
       "             multi_strategy=None, n_estimators=100, n_jobs=None,\n",
       "             num_parallel_tree=None, random_state=42, ...)</pre><b>In a Jupyter environment, please rerun this cell to show the HTML representation or trust the notebook. <br />On GitHub, the HTML representation is unable to render, please try loading this page with nbviewer.org.</b></div><div class=\"sk-container\" hidden><div class=\"sk-item\"><div class=\"sk-estimator sk-toggleable\"><input class=\"sk-toggleable__control sk-hidden--visually\" id=\"sk-estimator-id-2\" type=\"checkbox\" checked><label for=\"sk-estimator-id-2\" class=\"sk-toggleable__label sk-toggleable__label-arrow\">XGBRegressor</label><div class=\"sk-toggleable__content\"><pre>XGBRegressor(base_score=None, booster=None, callbacks=None,\n",
       "             colsample_bylevel=None, colsample_bynode=None,\n",
       "             colsample_bytree=None, device=None, early_stopping_rounds=None,\n",
       "             enable_categorical=False, eval_metric=None, feature_types=None,\n",
       "             gamma=None, grow_policy=None, importance_type=None,\n",
       "             interaction_constraints=None, learning_rate=None, max_bin=None,\n",
       "             max_cat_threshold=None, max_cat_to_onehot=None,\n",
       "             max_delta_step=None, max_depth=None, max_leaves=None,\n",
       "             min_child_weight=None, missing=nan, monotone_constraints=None,\n",
       "             multi_strategy=None, n_estimators=100, n_jobs=None,\n",
       "             num_parallel_tree=None, random_state=42, ...)</pre></div></div></div></div></div>"
      ],
      "text/plain": [
       "XGBRegressor(base_score=None, booster=None, callbacks=None,\n",
       "             colsample_bylevel=None, colsample_bynode=None,\n",
       "             colsample_bytree=None, device=None, early_stopping_rounds=None,\n",
       "             enable_categorical=False, eval_metric=None, feature_types=None,\n",
       "             gamma=None, grow_policy=None, importance_type=None,\n",
       "             interaction_constraints=None, learning_rate=None, max_bin=None,\n",
       "             max_cat_threshold=None, max_cat_to_onehot=None,\n",
       "             max_delta_step=None, max_depth=None, max_leaves=None,\n",
       "             min_child_weight=None, missing=nan, monotone_constraints=None,\n",
       "             multi_strategy=None, n_estimators=100, n_jobs=None,\n",
       "             num_parallel_tree=None, random_state=42, ...)"
      ]
     },
     "execution_count": 84,
     "metadata": {},
     "output_type": "execute_result"
    }
   ],
   "source": [
    "# Assuming X and y are your features and target variable\n",
    "X_train, X_test, y_train, y_test = train_test_split(X, y, test_size=0.2, random_state=42)\n",
    "\n",
    "# Train Random Forest model\n",
    "rf_model = RandomForestRegressor(n_estimators=100, random_state=42)\n",
    "rf_model.fit(X_train, y_train)\n",
    "\n",
    "# Train XGBoost model\n",
    "xgb_model = xgb.XGBRegressor(objective='reg:squarederror', n_estimators=100, random_state=42, shuffle = False)\n",
    "xgb_model.fit(X_train, y_train)"
   ]
  },
  {
   "cell_type": "code",
   "execution_count": 85,
   "id": "60d0812f",
   "metadata": {},
   "outputs": [],
   "source": [
    "importances_rf = rf_model.feature_importances_\n",
    "importances_xgb = xgb_model.feature_importances_\n",
    "\n",
    "# Create DataFrames for easier comparison\n",
    "import pandas as pd\n",
    "\n",
    "# Assuming X_train.columns contains feature names\n",
    "feature_names = X_train.columns\n",
    "\n",
    "importances_rf_df = pd.DataFrame({\n",
    "    'Feature': feature_names,\n",
    "    'Random Forest Importance': importances_rf\n",
    "}).sort_values(by='Random Forest Importance', ascending=False)\n",
    "\n",
    "importances_xgb_df = pd.DataFrame({\n",
    "    'Feature': feature_names,\n",
    "    'XGBoost Importance': importances_xgb\n",
    "}).sort_values(by='XGBoost Importance', ascending=False)\n"
   ]
  },
  {
   "cell_type": "code",
   "execution_count": 86,
   "id": "172eb95b",
   "metadata": {
    "scrolled": true
   },
   "outputs": [
    {
     "data": {
      "text/html": [
       "<div>\n",
       "<style scoped>\n",
       "    .dataframe tbody tr th:only-of-type {\n",
       "        vertical-align: middle;\n",
       "    }\n",
       "\n",
       "    .dataframe tbody tr th {\n",
       "        vertical-align: top;\n",
       "    }\n",
       "\n",
       "    .dataframe thead th {\n",
       "        text-align: right;\n",
       "    }\n",
       "</style>\n",
       "<table border=\"1\" class=\"dataframe\">\n",
       "  <thead>\n",
       "    <tr style=\"text-align: right;\">\n",
       "      <th></th>\n",
       "      <th>Feature</th>\n",
       "      <th>XGBoost Importance</th>\n",
       "    </tr>\n",
       "  </thead>\n",
       "  <tbody>\n",
       "    <tr>\n",
       "      <th>1</th>\n",
       "      <td>exchangerate</td>\n",
       "      <td>0.812465</td>\n",
       "    </tr>\n",
       "    <tr>\n",
       "      <th>2</th>\n",
       "      <td>Inflation</td>\n",
       "      <td>0.098489</td>\n",
       "    </tr>\n",
       "    <tr>\n",
       "      <th>0</th>\n",
       "      <td>maizeusdprice</td>\n",
       "      <td>0.089046</td>\n",
       "    </tr>\n",
       "  </tbody>\n",
       "</table>\n",
       "</div>"
      ],
      "text/plain": [
       "         Feature  XGBoost Importance\n",
       "1   exchangerate            0.812465\n",
       "2      Inflation            0.098489\n",
       "0  maizeusdprice            0.089046"
      ]
     },
     "execution_count": 86,
     "metadata": {},
     "output_type": "execute_result"
    }
   ],
   "source": [
    "importances_xgb_df"
   ]
  },
  {
   "cell_type": "code",
   "execution_count": 87,
   "id": "df9854fc",
   "metadata": {},
   "outputs": [
    {
     "data": {
      "text/html": [
       "<div>\n",
       "<style scoped>\n",
       "    .dataframe tbody tr th:only-of-type {\n",
       "        vertical-align: middle;\n",
       "    }\n",
       "\n",
       "    .dataframe tbody tr th {\n",
       "        vertical-align: top;\n",
       "    }\n",
       "\n",
       "    .dataframe thead th {\n",
       "        text-align: right;\n",
       "    }\n",
       "</style>\n",
       "<table border=\"1\" class=\"dataframe\">\n",
       "  <thead>\n",
       "    <tr style=\"text-align: right;\">\n",
       "      <th></th>\n",
       "      <th>Feature</th>\n",
       "      <th>Random Forest Importance</th>\n",
       "    </tr>\n",
       "  </thead>\n",
       "  <tbody>\n",
       "    <tr>\n",
       "      <th>1</th>\n",
       "      <td>exchangerate</td>\n",
       "      <td>0.725861</td>\n",
       "    </tr>\n",
       "    <tr>\n",
       "      <th>2</th>\n",
       "      <td>Inflation</td>\n",
       "      <td>0.139825</td>\n",
       "    </tr>\n",
       "    <tr>\n",
       "      <th>0</th>\n",
       "      <td>maizeusdprice</td>\n",
       "      <td>0.134313</td>\n",
       "    </tr>\n",
       "  </tbody>\n",
       "</table>\n",
       "</div>"
      ],
      "text/plain": [
       "         Feature  Random Forest Importance\n",
       "1   exchangerate                  0.725861\n",
       "2      Inflation                  0.139825\n",
       "0  maizeusdprice                  0.134313"
      ]
     },
     "execution_count": 87,
     "metadata": {},
     "output_type": "execute_result"
    }
   ],
   "source": [
    "importances_rf_df"
   ]
  },
  {
   "cell_type": "code",
   "execution_count": 88,
   "id": "e0728a1d",
   "metadata": {
    "scrolled": true
   },
   "outputs": [
    {
     "data": {
      "image/png": "[encoded data removed]",
      "text/plain": [
       "<Figure size 1200x600 with 1 Axes>"
      ]
     },
     "metadata": {},
     "output_type": "display_data"
    },
    {
     "data": {
      "image/png": "[encoded data removed]",
      "text/plain": [
       "<Figure size 1200x600 with 1 Axes>"
      ]
     },
     "metadata": {},
     "output_type": "display_data"
    }
   ],
   "source": [
    "# Plot Random Forest feature importances\n",
    "plt.figure(figsize=(12, 6))\n",
    "plt.barh(importances_rf_df['Feature'], importances_rf_df['Random Forest Importance'], color='b')\n",
    "plt.xlabel('Importance')\n",
    "plt.title('Random Forest Feature Importances')\n",
    "plt.gca().invert_yaxis()\n",
    "plt.show()\n",
    "\n",
    "# Plot XGBoost feature importances\n",
    "plt.figure(figsize=(12, 6))\n",
    "plt.barh(importances_xgb_df['Feature'], importances_xgb_df['XGBoost Importance'], color='r')\n",
    "plt.xlabel('Importance')\n",
    "plt.title('XGBoost Feature Importances')\n",
    "plt.gca().invert_yaxis()\n",
    "plt.show()\n"
   ]
  },
  {
   "cell_type": "markdown",
   "id": "2c89fa56",
   "metadata": {},
   "source": [
    "The results show that Exchange rate is the most important feature, but to confirm we will use the TimeGPT model to confirm"
   ]
  },
  {
   "cell_type": "markdown",
   "id": "2f070107",
   "metadata": {},
   "source": [
    "# Functions"
   ]
  },
  {
   "cell_type": "code",
   "execution_count": 89,
   "id": "baa54d5e",
   "metadata": {},
   "outputs": [],
   "source": [
    "def forecast_with_nixtla(client, df, h, exogenous_df):\n",
    "    forecast = client.forecast(\n",
    "        df=df,\n",
    "        h=h,\n",
    "        target_col='riceusdprice',\n",
    "        X_df=exogenous_df\n",
    "    )\n",
    "    return forecast\n"
   ]
  },
  {
   "cell_type": "code",
   "execution_count": 90,
   "id": "81d7e34b",
   "metadata": {},
   "outputs": [],
   "source": [
    "def convert_to_start_of_month(df, date_column):\n",
    "   \n",
    "    # Convert the column to datetime format\n",
    "    df[date_column] = pd.to_datetime(df[date_column], format='%Y-%m-%d')\n",
    "    \n",
    "    # Convert to 'YYYY-MM-DD' format, set to the start of the month\n",
    "    df[date_column] = df[date_column].dt.to_period('M').dt.to_timestamp()\n",
    "    \n",
    "    return df"
   ]
  },
  {
   "cell_type": "markdown",
   "id": "ca41a6d5",
   "metadata": {},
   "source": [
    "# Training TimeGPT model"
   ]
  },
  {
   "cell_type": "markdown",
   "id": "45428975",
   "metadata": {},
   "source": [
    "Aim is to predict the Rice price from 2023-07 to 2024-07"
   ]
  },
  {
   "cell_type": "code",
   "execution_count": 22,
   "id": "67e32505",
   "metadata": {},
   "outputs": [],
   "source": [
    "nix_df = df.copy()"
   ]
  },
  {
   "cell_type": "code",
   "execution_count": 23,
   "id": "3f1123f2",
   "metadata": {},
   "outputs": [
    {
     "data": {
      "text/html": [
       "<div>\n",
       "<style scoped>\n",
       "    .dataframe tbody tr th:only-of-type {\n",
       "        vertical-align: middle;\n",
       "    }\n",
       "\n",
       "    .dataframe tbody tr th {\n",
       "        vertical-align: top;\n",
       "    }\n",
       "\n",
       "    .dataframe thead th {\n",
       "        text-align: right;\n",
       "    }\n",
       "</style>\n",
       "<table border=\"1\" class=\"dataframe\">\n",
       "  <thead>\n",
       "    <tr style=\"text-align: right;\">\n",
       "      <th></th>\n",
       "      <th>ds</th>\n",
       "      <th>riceusdprice</th>\n",
       "      <th>maizeusdprice</th>\n",
       "      <th>exchangerate</th>\n",
       "      <th>Inflation</th>\n",
       "    </tr>\n",
       "  </thead>\n",
       "  <tbody>\n",
       "    <tr>\n",
       "      <th>0</th>\n",
       "      <td>2007-01-01</td>\n",
       "      <td>37.844100</td>\n",
       "      <td>20.495183</td>\n",
       "      <td>0.9210</td>\n",
       "      <td>18.541578</td>\n",
       "    </tr>\n",
       "    <tr>\n",
       "      <th>1</th>\n",
       "      <td>2007-02-01</td>\n",
       "      <td>36.425600</td>\n",
       "      <td>22.002383</td>\n",
       "      <td>0.9295</td>\n",
       "      <td>14.262831</td>\n",
       "    </tr>\n",
       "    <tr>\n",
       "      <th>2</th>\n",
       "      <td>2007-03-01</td>\n",
       "      <td>36.701883</td>\n",
       "      <td>23.088567</td>\n",
       "      <td>0.9263</td>\n",
       "      <td>13.017348</td>\n",
       "    </tr>\n",
       "    <tr>\n",
       "      <th>3</th>\n",
       "      <td>2007-04-01</td>\n",
       "      <td>37.661983</td>\n",
       "      <td>24.117650</td>\n",
       "      <td>0.9270</td>\n",
       "      <td>12.367792</td>\n",
       "    </tr>\n",
       "    <tr>\n",
       "      <th>4</th>\n",
       "      <td>2007-05-01</td>\n",
       "      <td>38.772450</td>\n",
       "      <td>24.460667</td>\n",
       "      <td>0.9276</td>\n",
       "      <td>12.314164</td>\n",
       "    </tr>\n",
       "    <tr>\n",
       "      <th>...</th>\n",
       "      <td>...</td>\n",
       "      <td>...</td>\n",
       "      <td>...</td>\n",
       "      <td>...</td>\n",
       "      <td>...</td>\n",
       "    </tr>\n",
       "    <tr>\n",
       "      <th>194</th>\n",
       "      <td>2023-03-01</td>\n",
       "      <td>46.517338</td>\n",
       "      <td>45.828924</td>\n",
       "      <td>11.5500</td>\n",
       "      <td>49.526084</td>\n",
       "    </tr>\n",
       "    <tr>\n",
       "      <th>195</th>\n",
       "      <td>2023-04-01</td>\n",
       "      <td>44.311413</td>\n",
       "      <td>52.308482</td>\n",
       "      <td>11.8000</td>\n",
       "      <td>51.083382</td>\n",
       "    </tr>\n",
       "    <tr>\n",
       "      <th>196</th>\n",
       "      <td>2023-05-01</td>\n",
       "      <td>42.071260</td>\n",
       "      <td>54.955418</td>\n",
       "      <td>11.2500</td>\n",
       "      <td>52.640680</td>\n",
       "    </tr>\n",
       "    <tr>\n",
       "      <th>197</th>\n",
       "      <td>2023-06-01</td>\n",
       "      <td>43.822793</td>\n",
       "      <td>55.113344</td>\n",
       "      <td>11.3250</td>\n",
       "      <td>54.197978</td>\n",
       "    </tr>\n",
       "    <tr>\n",
       "      <th>198</th>\n",
       "      <td>2023-07-01</td>\n",
       "      <td>48.791354</td>\n",
       "      <td>53.437529</td>\n",
       "      <td>11.3200</td>\n",
       "      <td>55.755276</td>\n",
       "    </tr>\n",
       "  </tbody>\n",
       "</table>\n",
       "<p>199 rows × 5 columns</p>\n",
       "</div>"
      ],
      "text/plain": [
       "            ds  riceusdprice  maizeusdprice  exchangerate  Inflation\n",
       "0   2007-01-01     37.844100      20.495183        0.9210  18.541578\n",
       "1   2007-02-01     36.425600      22.002383        0.9295  14.262831\n",
       "2   2007-03-01     36.701883      23.088567        0.9263  13.017348\n",
       "3   2007-04-01     37.661983      24.117650        0.9270  12.367792\n",
       "4   2007-05-01     38.772450      24.460667        0.9276  12.314164\n",
       "..         ...           ...            ...           ...        ...\n",
       "194 2023-03-01     46.517338      45.828924       11.5500  49.526084\n",
       "195 2023-04-01     44.311413      52.308482       11.8000  51.083382\n",
       "196 2023-05-01     42.071260      54.955418       11.2500  52.640680\n",
       "197 2023-06-01     43.822793      55.113344       11.3250  54.197978\n",
       "198 2023-07-01     48.791354      53.437529       11.3200  55.755276\n",
       "\n",
       "[199 rows x 5 columns]"
      ]
     },
     "execution_count": 23,
     "metadata": {},
     "output_type": "execute_result"
    }
   ],
   "source": [
    "nix_df"
   ]
  },
  {
   "cell_type": "code",
   "execution_count": 24,
   "id": "8842a281",
   "metadata": {},
   "outputs": [],
   "source": [
    "nixtla_client = NixtlaClient(api_key = 'nixtla-tok-AGxYtllDVvOFafOqgELYnxfkJZDTUFgGgK0jEWZWDCfTt2G2b4U7YM1Yd2Svik9PKr914Ef5Ye9Kp7AQ')\n",
    "\n",
    "from nixtla import TimeGPT\n",
    "\n",
    "df_maize = nix_df[['ds', 'maizeusdprice']]\n",
    "df_inf = nix_df[['ds', 'Inflation']]\n",
    "\n"
   ]
  },
  {
   "cell_type": "markdown",
   "id": "13eeffd0",
   "metadata": {},
   "source": [
    "### Forecasting Extrogenous features "
   ]
  },
  {
   "cell_type": "markdown",
   "id": "0a10ef12",
   "metadata": {},
   "source": [
    "(maize prices and inflation, because data is not availble to allow for explicit prediction where model predicts target based on extrogeneous features"
   ]
  },
  {
   "cell_type": "code",
   "execution_count": 25,
   "id": "1b1ef6f6",
   "metadata": {},
   "outputs": [
    {
     "name": "stderr",
     "output_type": "stream",
     "text": [
      "INFO:nixtla.nixtla_client:Validating inputs...\n",
      "INFO:nixtla.nixtla_client:Preprocessing dataframes...\n",
      "INFO:nixtla.nixtla_client:Inferred freq: MS\n",
      "INFO:nixtla.nixtla_client:Restricting input...\n",
      "INFO:nixtla.nixtla_client:Calling Forecast Endpoint...\n"
     ]
    }
   ],
   "source": [
    "maize_forecast = nixtla_client.forecast(df=df_maize, h=12, target_col='maizeusdprice')"
   ]
  },
  {
   "cell_type": "code",
   "execution_count": 26,
   "id": "8002724c",
   "metadata": {},
   "outputs": [
    {
     "name": "stderr",
     "output_type": "stream",
     "text": [
      "INFO:nixtla.nixtla_client:Validating inputs...\n",
      "INFO:nixtla.nixtla_client:Preprocessing dataframes...\n",
      "INFO:nixtla.nixtla_client:Inferred freq: MS\n",
      "INFO:nixtla.nixtla_client:Restricting input...\n",
      "INFO:nixtla.nixtla_client:Calling Forecast Endpoint...\n"
     ]
    }
   ],
   "source": [
    "inflation_forecast = nixtla_client.forecast(df=df_inf, h=12, target_col='Inflation')"
   ]
  },
  {
   "cell_type": "code",
   "execution_count": 27,
   "id": "f641e855",
   "metadata": {},
   "outputs": [],
   "source": [
    "# Rename columns for clarity\n",
    "maize_forecast = maize_forecast.rename(columns={'TimeGPT': 'maizeusdprice_forecast'})\n",
    "inflation_forecast = inflation_forecast.rename(columns={'TimeGPT': 'Inflation_forecast'})\n"
   ]
  },
  {
   "cell_type": "code",
   "execution_count": 42,
   "id": "6060a990",
   "metadata": {},
   "outputs": [
    {
     "data": {
      "text/html": [
       "<div>\n",
       "<style scoped>\n",
       "    .dataframe tbody tr th:only-of-type {\n",
       "        vertical-align: middle;\n",
       "    }\n",
       "\n",
       "    .dataframe tbody tr th {\n",
       "        vertical-align: top;\n",
       "    }\n",
       "\n",
       "    .dataframe thead th {\n",
       "        text-align: right;\n",
       "    }\n",
       "</style>\n",
       "<table border=\"1\" class=\"dataframe\">\n",
       "  <thead>\n",
       "    <tr style=\"text-align: right;\">\n",
       "      <th></th>\n",
       "      <th>ds</th>\n",
       "      <th>exchangerate</th>\n",
       "    </tr>\n",
       "  </thead>\n",
       "  <tbody>\n",
       "    <tr>\n",
       "      <th>0</th>\n",
       "      <td>2023-08-01</td>\n",
       "      <td>11.35</td>\n",
       "    </tr>\n",
       "    <tr>\n",
       "      <th>1</th>\n",
       "      <td>2023-09-01</td>\n",
       "      <td>11.55</td>\n",
       "    </tr>\n",
       "    <tr>\n",
       "      <th>2</th>\n",
       "      <td>2023-10-01</td>\n",
       "      <td>11.88</td>\n",
       "    </tr>\n",
       "    <tr>\n",
       "      <th>3</th>\n",
       "      <td>2023-11-01</td>\n",
       "      <td>11.95</td>\n",
       "    </tr>\n",
       "    <tr>\n",
       "      <th>4</th>\n",
       "      <td>2023-12-01</td>\n",
       "      <td>11.90</td>\n",
       "    </tr>\n",
       "    <tr>\n",
       "      <th>5</th>\n",
       "      <td>2024-01-01</td>\n",
       "      <td>12.30</td>\n",
       "    </tr>\n",
       "    <tr>\n",
       "      <th>6</th>\n",
       "      <td>2024-02-01</td>\n",
       "      <td>12.60</td>\n",
       "    </tr>\n",
       "    <tr>\n",
       "      <th>7</th>\n",
       "      <td>2024-03-01</td>\n",
       "      <td>13.20</td>\n",
       "    </tr>\n",
       "    <tr>\n",
       "      <th>8</th>\n",
       "      <td>2024-04-01</td>\n",
       "      <td>13.62</td>\n",
       "    </tr>\n",
       "    <tr>\n",
       "      <th>9</th>\n",
       "      <td>2024-05-01</td>\n",
       "      <td>14.80</td>\n",
       "    </tr>\n",
       "    <tr>\n",
       "      <th>10</th>\n",
       "      <td>2024-06-01</td>\n",
       "      <td>15.25</td>\n",
       "    </tr>\n",
       "    <tr>\n",
       "      <th>11</th>\n",
       "      <td>2024-07-01</td>\n",
       "      <td>15.55</td>\n",
       "    </tr>\n",
       "  </tbody>\n",
       "</table>\n",
       "</div>"
      ],
      "text/plain": [
       "           ds  exchangerate\n",
       "0  2023-08-01         11.35\n",
       "1  2023-09-01         11.55\n",
       "2  2023-10-01         11.88\n",
       "3  2023-11-01         11.95\n",
       "4  2023-12-01         11.90\n",
       "5  2024-01-01         12.30\n",
       "6  2024-02-01         12.60\n",
       "7  2024-03-01         13.20\n",
       "8  2024-04-01         13.62\n",
       "9  2024-05-01         14.80\n",
       "10 2024-06-01         15.25\n",
       "11 2024-07-01         15.55"
      ]
     },
     "execution_count": 42,
     "metadata": {},
     "output_type": "execute_result"
    }
   ],
   "source": [
    "exchange_rate_actual = pd.read_csv(\"/Users/senamdzomeku/Downloads/research/exchangerate(2023-8 to 2024-7).csv\")\n",
    "\n",
    "convert_to_start_of_month(exchange_rate_actual,'ds')"
   ]
  },
  {
   "cell_type": "code",
   "execution_count": 41,
   "id": "1b41ad02",
   "metadata": {
    "scrolled": true
   },
   "outputs": [
    {
     "name": "stdout",
     "output_type": "stream",
     "text": [
      "<class 'pandas.core.frame.DataFrame'>\n",
      "RangeIndex: 12 entries, 0 to 11\n",
      "Data columns (total 2 columns):\n",
      " #   Column                  Non-Null Count  Dtype  \n",
      "---  ------                  --------------  -----  \n",
      " 0   ds                      12 non-null     object \n",
      " 1   maizeusdprice_forecast  12 non-null     float64\n",
      "dtypes: float64(1), object(1)\n",
      "memory usage: 324.0+ bytes\n"
     ]
    }
   ],
   "source": [
    "maize_forecast.info()"
   ]
  },
  {
   "cell_type": "code",
   "execution_count": 43,
   "id": "92cb4cd2",
   "metadata": {},
   "outputs": [
    {
     "data": {
      "text/html": [
       "<div>\n",
       "<style scoped>\n",
       "    .dataframe tbody tr th:only-of-type {\n",
       "        vertical-align: middle;\n",
       "    }\n",
       "\n",
       "    .dataframe tbody tr th {\n",
       "        vertical-align: top;\n",
       "    }\n",
       "\n",
       "    .dataframe thead th {\n",
       "        text-align: right;\n",
       "    }\n",
       "</style>\n",
       "<table border=\"1\" class=\"dataframe\">\n",
       "  <thead>\n",
       "    <tr style=\"text-align: right;\">\n",
       "      <th></th>\n",
       "      <th>ds</th>\n",
       "      <th>maizeusdprice_forecast</th>\n",
       "    </tr>\n",
       "  </thead>\n",
       "  <tbody>\n",
       "    <tr>\n",
       "      <th>0</th>\n",
       "      <td>2023-08-01</td>\n",
       "      <td>48.955544</td>\n",
       "    </tr>\n",
       "    <tr>\n",
       "      <th>1</th>\n",
       "      <td>2023-09-01</td>\n",
       "      <td>47.431839</td>\n",
       "    </tr>\n",
       "    <tr>\n",
       "      <th>2</th>\n",
       "      <td>2023-10-01</td>\n",
       "      <td>45.445816</td>\n",
       "    </tr>\n",
       "    <tr>\n",
       "      <th>3</th>\n",
       "      <td>2023-11-01</td>\n",
       "      <td>44.532730</td>\n",
       "    </tr>\n",
       "    <tr>\n",
       "      <th>4</th>\n",
       "      <td>2023-12-01</td>\n",
       "      <td>48.592476</td>\n",
       "    </tr>\n",
       "    <tr>\n",
       "      <th>5</th>\n",
       "      <td>2024-01-01</td>\n",
       "      <td>48.660427</td>\n",
       "    </tr>\n",
       "    <tr>\n",
       "      <th>6</th>\n",
       "      <td>2024-02-01</td>\n",
       "      <td>46.452080</td>\n",
       "    </tr>\n",
       "    <tr>\n",
       "      <th>7</th>\n",
       "      <td>2024-03-01</td>\n",
       "      <td>48.442429</td>\n",
       "    </tr>\n",
       "    <tr>\n",
       "      <th>8</th>\n",
       "      <td>2024-04-01</td>\n",
       "      <td>48.314262</td>\n",
       "    </tr>\n",
       "    <tr>\n",
       "      <th>9</th>\n",
       "      <td>2024-05-01</td>\n",
       "      <td>52.092049</td>\n",
       "    </tr>\n",
       "    <tr>\n",
       "      <th>10</th>\n",
       "      <td>2024-06-01</td>\n",
       "      <td>49.812660</td>\n",
       "    </tr>\n",
       "    <tr>\n",
       "      <th>11</th>\n",
       "      <td>2024-07-01</td>\n",
       "      <td>49.061760</td>\n",
       "    </tr>\n",
       "  </tbody>\n",
       "</table>\n",
       "</div>"
      ],
      "text/plain": [
       "           ds  maizeusdprice_forecast\n",
       "0  2023-08-01               48.955544\n",
       "1  2023-09-01               47.431839\n",
       "2  2023-10-01               45.445816\n",
       "3  2023-11-01               44.532730\n",
       "4  2023-12-01               48.592476\n",
       "5  2024-01-01               48.660427\n",
       "6  2024-02-01               46.452080\n",
       "7  2024-03-01               48.442429\n",
       "8  2024-04-01               48.314262\n",
       "9  2024-05-01               52.092049\n",
       "10 2024-06-01               49.812660\n",
       "11 2024-07-01               49.061760"
      ]
     },
     "execution_count": 43,
     "metadata": {},
     "output_type": "execute_result"
    }
   ],
   "source": [
    "convert_to_start_of_month(maize_forecast,'ds')"
   ]
  },
  {
   "cell_type": "code",
   "execution_count": 36,
   "id": "15d7c371",
   "metadata": {
    "scrolled": true
   },
   "outputs": [
    {
     "name": "stdout",
     "output_type": "stream",
     "text": [
      "<class 'pandas.core.frame.DataFrame'>\n",
      "RangeIndex: 12 entries, 0 to 11\n",
      "Data columns (total 2 columns):\n",
      " #   Column              Non-Null Count  Dtype  \n",
      "---  ------              --------------  -----  \n",
      " 0   ds                  12 non-null     object \n",
      " 1   Inflation_forecast  12 non-null     float64\n",
      "dtypes: float64(1), object(1)\n",
      "memory usage: 324.0+ bytes\n"
     ]
    }
   ],
   "source": [
    "inflation_forecast.info()"
   ]
  },
  {
   "cell_type": "code",
   "execution_count": 45,
   "id": "0f153aec",
   "metadata": {},
   "outputs": [
    {
     "data": {
      "text/html": [
       "<div>\n",
       "<style scoped>\n",
       "    .dataframe tbody tr th:only-of-type {\n",
       "        vertical-align: middle;\n",
       "    }\n",
       "\n",
       "    .dataframe tbody tr th {\n",
       "        vertical-align: top;\n",
       "    }\n",
       "\n",
       "    .dataframe thead th {\n",
       "        text-align: right;\n",
       "    }\n",
       "</style>\n",
       "<table border=\"1\" class=\"dataframe\">\n",
       "  <thead>\n",
       "    <tr style=\"text-align: right;\">\n",
       "      <th></th>\n",
       "      <th>ds</th>\n",
       "      <th>Inflation_forecast</th>\n",
       "    </tr>\n",
       "  </thead>\n",
       "  <tbody>\n",
       "    <tr>\n",
       "      <th>0</th>\n",
       "      <td>2023-08-01</td>\n",
       "      <td>58.329655</td>\n",
       "    </tr>\n",
       "    <tr>\n",
       "      <th>1</th>\n",
       "      <td>2023-09-01</td>\n",
       "      <td>59.633240</td>\n",
       "    </tr>\n",
       "    <tr>\n",
       "      <th>2</th>\n",
       "      <td>2023-10-01</td>\n",
       "      <td>61.103840</td>\n",
       "    </tr>\n",
       "    <tr>\n",
       "      <th>3</th>\n",
       "      <td>2023-11-01</td>\n",
       "      <td>62.648769</td>\n",
       "    </tr>\n",
       "    <tr>\n",
       "      <th>4</th>\n",
       "      <td>2023-12-01</td>\n",
       "      <td>63.954609</td>\n",
       "    </tr>\n",
       "    <tr>\n",
       "      <th>5</th>\n",
       "      <td>2024-01-01</td>\n",
       "      <td>65.577896</td>\n",
       "    </tr>\n",
       "    <tr>\n",
       "      <th>6</th>\n",
       "      <td>2024-02-01</td>\n",
       "      <td>66.907761</td>\n",
       "    </tr>\n",
       "    <tr>\n",
       "      <th>7</th>\n",
       "      <td>2024-03-01</td>\n",
       "      <td>68.602654</td>\n",
       "    </tr>\n",
       "    <tr>\n",
       "      <th>8</th>\n",
       "      <td>2024-04-01</td>\n",
       "      <td>69.553314</td>\n",
       "    </tr>\n",
       "    <tr>\n",
       "      <th>9</th>\n",
       "      <td>2024-05-01</td>\n",
       "      <td>70.800751</td>\n",
       "    </tr>\n",
       "    <tr>\n",
       "      <th>10</th>\n",
       "      <td>2024-06-01</td>\n",
       "      <td>71.577591</td>\n",
       "    </tr>\n",
       "    <tr>\n",
       "      <th>11</th>\n",
       "      <td>2024-07-01</td>\n",
       "      <td>72.747345</td>\n",
       "    </tr>\n",
       "  </tbody>\n",
       "</table>\n",
       "</div>"
      ],
      "text/plain": [
       "           ds  Inflation_forecast\n",
       "0  2023-08-01           58.329655\n",
       "1  2023-09-01           59.633240\n",
       "2  2023-10-01           61.103840\n",
       "3  2023-11-01           62.648769\n",
       "4  2023-12-01           63.954609\n",
       "5  2024-01-01           65.577896\n",
       "6  2024-02-01           66.907761\n",
       "7  2024-03-01           68.602654\n",
       "8  2024-04-01           69.553314\n",
       "9  2024-05-01           70.800751\n",
       "10 2024-06-01           71.577591\n",
       "11 2024-07-01           72.747345"
      ]
     },
     "execution_count": 45,
     "metadata": {},
     "output_type": "execute_result"
    }
   ],
   "source": [
    "convert_to_start_of_month(inflation_forecast,'ds')"
   ]
  },
  {
   "cell_type": "code",
   "execution_count": 46,
   "id": "73ac5e7b",
   "metadata": {
    "scrolled": true
   },
   "outputs": [
    {
     "name": "stdout",
     "output_type": "stream",
     "text": [
      "<class 'pandas.core.frame.DataFrame'>\n",
      "RangeIndex: 12 entries, 0 to 11\n",
      "Data columns (total 2 columns):\n",
      " #   Column        Non-Null Count  Dtype         \n",
      "---  ------        --------------  -----         \n",
      " 0   ds            12 non-null     datetime64[ns]\n",
      " 1   exchangerate  12 non-null     float64       \n",
      "dtypes: datetime64[ns](1), float64(1)\n",
      "memory usage: 324.0 bytes\n"
     ]
    }
   ],
   "source": [
    "exchange_rate_actual.info()"
   ]
  },
  {
   "cell_type": "code",
   "execution_count": 48,
   "id": "e1962b26",
   "metadata": {},
   "outputs": [],
   "source": [
    "# Merge forecasts\n",
    "\n",
    "X_df = maize_forecast.merge(inflation_forecast, on='ds').merge(exchange_rate_actual, on='ds')\n",
    "\n",
    "\n",
    "# Convert 'ds' to datetime format (assuming 'MM-YYYY' format)\n",
    "X_df['ds'] = pd.to_datetime(X_df['ds'], format='%Y-%m-%d')"
   ]
  },
  {
   "cell_type": "code",
   "execution_count": 49,
   "id": "488b01df",
   "metadata": {},
   "outputs": [
    {
     "data": {
      "text/html": [
       "<div>\n",
       "<style scoped>\n",
       "    .dataframe tbody tr th:only-of-type {\n",
       "        vertical-align: middle;\n",
       "    }\n",
       "\n",
       "    .dataframe tbody tr th {\n",
       "        vertical-align: top;\n",
       "    }\n",
       "\n",
       "    .dataframe thead th {\n",
       "        text-align: right;\n",
       "    }\n",
       "</style>\n",
       "<table border=\"1\" class=\"dataframe\">\n",
       "  <thead>\n",
       "    <tr style=\"text-align: right;\">\n",
       "      <th></th>\n",
       "      <th>ds</th>\n",
       "      <th>maizeusdprice_forecast</th>\n",
       "      <th>Inflation_forecast</th>\n",
       "      <th>exchangerate</th>\n",
       "    </tr>\n",
       "  </thead>\n",
       "  <tbody>\n",
       "    <tr>\n",
       "      <th>0</th>\n",
       "      <td>2023-08-01</td>\n",
       "      <td>48.955544</td>\n",
       "      <td>58.329655</td>\n",
       "      <td>11.35</td>\n",
       "    </tr>\n",
       "    <tr>\n",
       "      <th>1</th>\n",
       "      <td>2023-09-01</td>\n",
       "      <td>47.431839</td>\n",
       "      <td>59.633240</td>\n",
       "      <td>11.55</td>\n",
       "    </tr>\n",
       "    <tr>\n",
       "      <th>2</th>\n",
       "      <td>2023-10-01</td>\n",
       "      <td>45.445816</td>\n",
       "      <td>61.103840</td>\n",
       "      <td>11.88</td>\n",
       "    </tr>\n",
       "    <tr>\n",
       "      <th>3</th>\n",
       "      <td>2023-11-01</td>\n",
       "      <td>44.532730</td>\n",
       "      <td>62.648769</td>\n",
       "      <td>11.95</td>\n",
       "    </tr>\n",
       "    <tr>\n",
       "      <th>4</th>\n",
       "      <td>2023-12-01</td>\n",
       "      <td>48.592476</td>\n",
       "      <td>63.954609</td>\n",
       "      <td>11.90</td>\n",
       "    </tr>\n",
       "    <tr>\n",
       "      <th>5</th>\n",
       "      <td>2024-01-01</td>\n",
       "      <td>48.660427</td>\n",
       "      <td>65.577896</td>\n",
       "      <td>12.30</td>\n",
       "    </tr>\n",
       "    <tr>\n",
       "      <th>6</th>\n",
       "      <td>2024-02-01</td>\n",
       "      <td>46.452080</td>\n",
       "      <td>66.907761</td>\n",
       "      <td>12.60</td>\n",
       "    </tr>\n",
       "    <tr>\n",
       "      <th>7</th>\n",
       "      <td>2024-03-01</td>\n",
       "      <td>48.442429</td>\n",
       "      <td>68.602654</td>\n",
       "      <td>13.20</td>\n",
       "    </tr>\n",
       "    <tr>\n",
       "      <th>8</th>\n",
       "      <td>2024-04-01</td>\n",
       "      <td>48.314262</td>\n",
       "      <td>69.553314</td>\n",
       "      <td>13.62</td>\n",
       "    </tr>\n",
       "    <tr>\n",
       "      <th>9</th>\n",
       "      <td>2024-05-01</td>\n",
       "      <td>52.092049</td>\n",
       "      <td>70.800751</td>\n",
       "      <td>14.80</td>\n",
       "    </tr>\n",
       "    <tr>\n",
       "      <th>10</th>\n",
       "      <td>2024-06-01</td>\n",
       "      <td>49.812660</td>\n",
       "      <td>71.577591</td>\n",
       "      <td>15.25</td>\n",
       "    </tr>\n",
       "    <tr>\n",
       "      <th>11</th>\n",
       "      <td>2024-07-01</td>\n",
       "      <td>49.061760</td>\n",
       "      <td>72.747345</td>\n",
       "      <td>15.55</td>\n",
       "    </tr>\n",
       "  </tbody>\n",
       "</table>\n",
       "</div>"
      ],
      "text/plain": [
       "           ds  maizeusdprice_forecast  Inflation_forecast  exchangerate\n",
       "0  2023-08-01               48.955544           58.329655         11.35\n",
       "1  2023-09-01               47.431839           59.633240         11.55\n",
       "2  2023-10-01               45.445816           61.103840         11.88\n",
       "3  2023-11-01               44.532730           62.648769         11.95\n",
       "4  2023-12-01               48.592476           63.954609         11.90\n",
       "5  2024-01-01               48.660427           65.577896         12.30\n",
       "6  2024-02-01               46.452080           66.907761         12.60\n",
       "7  2024-03-01               48.442429           68.602654         13.20\n",
       "8  2024-04-01               48.314262           69.553314         13.62\n",
       "9  2024-05-01               52.092049           70.800751         14.80\n",
       "10 2024-06-01               49.812660           71.577591         15.25\n",
       "11 2024-07-01               49.061760           72.747345         15.55"
      ]
     },
     "execution_count": 49,
     "metadata": {},
     "output_type": "execute_result"
    }
   ],
   "source": [
    "X_df"
   ]
  },
  {
   "cell_type": "code",
   "execution_count": 56,
   "id": "8181c883",
   "metadata": {},
   "outputs": [],
   "source": [
    "# Define the forecast horizon\n",
    "forecast_horizon = 12\n",
    "\n",
    "# Create future dates\n",
    "last_date = nix_df['ds'].max()\n",
    "future_dates = pd.date_range(start=last_date + pd.DateOffset(months=1), periods=forecast_horizon, freq='M')\n"
   ]
  },
  {
   "cell_type": "code",
   "execution_count": 57,
   "id": "492ae810",
   "metadata": {},
   "outputs": [],
   "source": [
    "# Extract forecasted values from X_df \n",
    "maize_forecast = X_df['maizeusdprice_forecast'].values  \n",
    "exchangerate_actual = X_df['exchangerate'].values \n",
    "inflation_forecast = X_df['Inflation_forecast'].values  \n",
    "\n",
    "# Create DataFrame with future dates and forecasted values\n",
    "forecast_exogenous_df = pd.DataFrame({\n",
    "    'ds': future_dates,\n",
    "    'maizeusdprice': maize_forecast,\n",
    "    'exchangerate': exchangerate_actual,\n",
    "    'Inflation': inflation_forecast\n",
    "})\n",
    "\n",
    "# Convert 'ds' to datetime format (assuming 'MM-YYYY' format)\n",
    "forecast_exogenous_df['ds'] = pd.to_datetime(forecast_exogenous_df['ds'], format='%Y-%m-%d')\n",
    "\n",
    "# Convert to 'YYYY-MM-DD' format, start of the month\n",
    "forecast_exogenous_df['ds'] = forecast_exogenous_df['ds'].dt.to_period('M').dt.to_timestamp()"
   ]
  },
  {
   "cell_type": "code",
   "execution_count": 58,
   "id": "bc28fc8a",
   "metadata": {},
   "outputs": [
    {
     "name": "stderr",
     "output_type": "stream",
     "text": [
      "INFO:nixtla.nixtla_client:Validating inputs...\n",
      "INFO:nixtla.nixtla_client:Preprocessing dataframes...\n",
      "INFO:nixtla.nixtla_client:Inferred freq: MS\n",
      "INFO:nixtla.nixtla_client:Using the following exogenous variables: maizeusdprice, exchangerate, Inflation\n",
      "INFO:nixtla.nixtla_client:Calling Forecast Endpoint...\n"
     ]
    }
   ],
   "source": [
    "# historical data \n",
    "df_main = nix_df[['ds', 'riceusdprice', 'maizeusdprice', 'exchangerate', 'Inflation']]\n",
    "\n",
    "\n",
    "# Forecast\n",
    "main_forecast = nixtla_client.forecast(\n",
    "    df=df_main, \n",
    "    h=forecast_horizon, \n",
    "    target_col='riceusdprice', \n",
    "    X_df=forecast_exogenous_df\n",
    ")\n",
    "\n",
    "\n",
    "# Convert forecast to DataFrame\n",
    "predictions_df = main_forecast.rename(columns={'TimeGPT': 'Predicted_rice_price'})"
   ]
  },
  {
   "cell_type": "code",
   "execution_count": 59,
   "id": "ddff7e6f",
   "metadata": {},
   "outputs": [],
   "source": [
    "main_forecast = main_forecast.rename(columns={'TimeGPT': 'y'})\n",
    "nix_df = nix_df.rename(columns={'riceusdprice': 'y'})"
   ]
  },
  {
   "cell_type": "code",
   "execution_count": 169,
   "id": "eb7ace20",
   "metadata": {},
   "outputs": [],
   "source": [
    "main_forecast=convert_to_start_of_month(main_forecast, 'ds')"
   ]
  },
  {
   "cell_type": "code",
   "execution_count": 170,
   "id": "397bd912",
   "metadata": {},
   "outputs": [],
   "source": [
    "# Rename the forecasted target column for clarity\n",
    "main_forecast = main_forecast.rename(columns={'y': 'riceusdprice'})\n",
    "\n",
    "# Combine forecasted target with forecasted exogenous variables\n",
    "forecast_combined_df = forecast_exogenous_df.merge(main_forecast[['ds', 'riceusdprice']], on='ds')\n",
    "\n",
    "# Ensure 'ds' column is in the correct datetime format\n",
    "forecast_combined_df['ds'] = pd.to_datetime(forecast_combined_df['ds'], format='%Y-%m-%d')\n"
   ]
  },
  {
   "cell_type": "code",
   "execution_count": 119,
   "id": "7ebbd8c6",
   "metadata": {
    "scrolled": true
   },
   "outputs": [
    {
     "data": {
      "image/png": "[encoded data removed]",
      "text/plain": [
       "<Figure size 1600x350 with 1 Axes>"
      ]
     },
     "execution_count": 119,
     "metadata": {},
     "output_type": "execute_result"
    }
   ],
   "source": [
    "nixtla_client.plot(\n",
    "    main_forecast[['ds', 'y']], \n",
    "    main_forecast, \n",
    "    max_insample_length=365, \n",
    "    level=[80, 90], \n",
    ")"
   ]
  },
  {
   "cell_type": "code",
   "execution_count": 91,
   "id": "0e5c8c26",
   "metadata": {
    "scrolled": true
   },
   "outputs": [
    {
     "data": {
      "text/plain": [
       "<Axes: ylabel='features'>"
      ]
     },
     "execution_count": 91,
     "metadata": {},
     "output_type": "execute_result"
    },
    {
     "data": {
      "image/png": "[encoded data removed]",
      "text/plain": [
       "<Figure size 640x480 with 1 Axes>"
      ]
     },
     "metadata": {},
     "output_type": "display_data"
    }
   ],
   "source": [
    "nixtla_client.weights_x.plot.barh(x='features', y='weights')"
   ]
  },
  {
   "cell_type": "markdown",
   "id": "48c3a361",
   "metadata": {},
   "source": [
    "# Training\n"
   ]
  },
  {
   "cell_type": "code",
   "execution_count": 124,
   "id": "e7d4301c",
   "metadata": {},
   "outputs": [],
   "source": [
    "test = nix_df[-24:]             # 96 = 4 days x 24h/day\n",
    "input_seq = nix_df[:-24]   # Gets a sequence of 1008 observations (1008 = 42 days * 24h/day)"
   ]
  },
  {
   "cell_type": "code",
   "execution_count": 126,
   "id": "5965d7e6",
   "metadata": {},
   "outputs": [
    {
     "data": {
      "text/html": [
       "<div>\n",
       "<style scoped>\n",
       "    .dataframe tbody tr th:only-of-type {\n",
       "        vertical-align: middle;\n",
       "    }\n",
       "\n",
       "    .dataframe tbody tr th {\n",
       "        vertical-align: top;\n",
       "    }\n",
       "\n",
       "    .dataframe thead th {\n",
       "        text-align: right;\n",
       "    }\n",
       "</style>\n",
       "<table border=\"1\" class=\"dataframe\">\n",
       "  <thead>\n",
       "    <tr style=\"text-align: right;\">\n",
       "      <th></th>\n",
       "      <th>ds</th>\n",
       "      <th>y</th>\n",
       "      <th>maizeusdprice</th>\n",
       "      <th>exchangerate</th>\n",
       "      <th>Inflation</th>\n",
       "    </tr>\n",
       "  </thead>\n",
       "  <tbody>\n",
       "    <tr>\n",
       "      <th>175</th>\n",
       "      <td>2021-08-01</td>\n",
       "      <td>48.843042</td>\n",
       "      <td>57.189769</td>\n",
       "      <td>6.040</td>\n",
       "      <td>19.634017</td>\n",
       "    </tr>\n",
       "    <tr>\n",
       "      <th>176</th>\n",
       "      <td>2021-09-01</td>\n",
       "      <td>48.372817</td>\n",
       "      <td>55.879754</td>\n",
       "      <td>6.050</td>\n",
       "      <td>21.137773</td>\n",
       "    </tr>\n",
       "    <tr>\n",
       "      <th>177</th>\n",
       "      <td>2021-10-01</td>\n",
       "      <td>47.663308</td>\n",
       "      <td>51.047985</td>\n",
       "      <td>6.110</td>\n",
       "      <td>22.748613</td>\n",
       "    </tr>\n",
       "    <tr>\n",
       "      <th>178</th>\n",
       "      <td>2021-11-01</td>\n",
       "      <td>47.978858</td>\n",
       "      <td>47.456400</td>\n",
       "      <td>6.135</td>\n",
       "      <td>24.466538</td>\n",
       "    </tr>\n",
       "    <tr>\n",
       "      <th>179</th>\n",
       "      <td>2021-12-01</td>\n",
       "      <td>48.816815</td>\n",
       "      <td>48.097840</td>\n",
       "      <td>6.150</td>\n",
       "      <td>26.291548</td>\n",
       "    </tr>\n",
       "    <tr>\n",
       "      <th>180</th>\n",
       "      <td>2022-01-01</td>\n",
       "      <td>48.930931</td>\n",
       "      <td>50.201780</td>\n",
       "      <td>6.275</td>\n",
       "      <td>28.223642</td>\n",
       "    </tr>\n",
       "    <tr>\n",
       "      <th>181</th>\n",
       "      <td>2022-02-01</td>\n",
       "      <td>42.947918</td>\n",
       "      <td>48.708754</td>\n",
       "      <td>6.725</td>\n",
       "      <td>29.281212</td>\n",
       "    </tr>\n",
       "    <tr>\n",
       "      <th>182</th>\n",
       "      <td>2022-03-01</td>\n",
       "      <td>45.845350</td>\n",
       "      <td>51.271215</td>\n",
       "      <td>7.525</td>\n",
       "      <td>30.838509</td>\n",
       "    </tr>\n",
       "    <tr>\n",
       "      <th>183</th>\n",
       "      <td>2022-04-01</td>\n",
       "      <td>44.021250</td>\n",
       "      <td>48.626015</td>\n",
       "      <td>7.525</td>\n",
       "      <td>32.395807</td>\n",
       "    </tr>\n",
       "    <tr>\n",
       "      <th>184</th>\n",
       "      <td>2022-05-01</td>\n",
       "      <td>47.812533</td>\n",
       "      <td>56.400454</td>\n",
       "      <td>7.800</td>\n",
       "      <td>33.953105</td>\n",
       "    </tr>\n",
       "    <tr>\n",
       "      <th>185</th>\n",
       "      <td>2022-06-01</td>\n",
       "      <td>44.499009</td>\n",
       "      <td>53.642467</td>\n",
       "      <td>8.025</td>\n",
       "      <td>35.510403</td>\n",
       "    </tr>\n",
       "    <tr>\n",
       "      <th>186</th>\n",
       "      <td>2022-07-01</td>\n",
       "      <td>42.448083</td>\n",
       "      <td>50.335269</td>\n",
       "      <td>8.450</td>\n",
       "      <td>37.067701</td>\n",
       "    </tr>\n",
       "    <tr>\n",
       "      <th>187</th>\n",
       "      <td>2022-08-01</td>\n",
       "      <td>35.726690</td>\n",
       "      <td>41.018958</td>\n",
       "      <td>10.100</td>\n",
       "      <td>38.624999</td>\n",
       "    </tr>\n",
       "    <tr>\n",
       "      <th>188</th>\n",
       "      <td>2022-09-01</td>\n",
       "      <td>35.582220</td>\n",
       "      <td>37.097882</td>\n",
       "      <td>10.375</td>\n",
       "      <td>40.182297</td>\n",
       "    </tr>\n",
       "    <tr>\n",
       "      <th>189</th>\n",
       "      <td>2022-10-01</td>\n",
       "      <td>40.374733</td>\n",
       "      <td>31.189954</td>\n",
       "      <td>14.000</td>\n",
       "      <td>41.739595</td>\n",
       "    </tr>\n",
       "    <tr>\n",
       "      <th>190</th>\n",
       "      <td>2022-11-01</td>\n",
       "      <td>37.046618</td>\n",
       "      <td>31.868292</td>\n",
       "      <td>14.400</td>\n",
       "      <td>43.296893</td>\n",
       "    </tr>\n",
       "    <tr>\n",
       "      <th>191</th>\n",
       "      <td>2022-12-01</td>\n",
       "      <td>63.651100</td>\n",
       "      <td>63.554620</td>\n",
       "      <td>9.980</td>\n",
       "      <td>44.854190</td>\n",
       "    </tr>\n",
       "    <tr>\n",
       "      <th>192</th>\n",
       "      <td>2023-01-01</td>\n",
       "      <td>56.908675</td>\n",
       "      <td>55.724787</td>\n",
       "      <td>12.500</td>\n",
       "      <td>46.411488</td>\n",
       "    </tr>\n",
       "    <tr>\n",
       "      <th>193</th>\n",
       "      <td>2023-02-01</td>\n",
       "      <td>43.836550</td>\n",
       "      <td>44.170272</td>\n",
       "      <td>12.850</td>\n",
       "      <td>47.968786</td>\n",
       "    </tr>\n",
       "    <tr>\n",
       "      <th>194</th>\n",
       "      <td>2023-03-01</td>\n",
       "      <td>46.517338</td>\n",
       "      <td>45.828924</td>\n",
       "      <td>11.550</td>\n",
       "      <td>49.526084</td>\n",
       "    </tr>\n",
       "    <tr>\n",
       "      <th>195</th>\n",
       "      <td>2023-04-01</td>\n",
       "      <td>44.311413</td>\n",
       "      <td>52.308482</td>\n",
       "      <td>11.800</td>\n",
       "      <td>51.083382</td>\n",
       "    </tr>\n",
       "    <tr>\n",
       "      <th>196</th>\n",
       "      <td>2023-05-01</td>\n",
       "      <td>42.071260</td>\n",
       "      <td>54.955418</td>\n",
       "      <td>11.250</td>\n",
       "      <td>52.640680</td>\n",
       "    </tr>\n",
       "    <tr>\n",
       "      <th>197</th>\n",
       "      <td>2023-06-01</td>\n",
       "      <td>43.822793</td>\n",
       "      <td>55.113344</td>\n",
       "      <td>11.325</td>\n",
       "      <td>54.197978</td>\n",
       "    </tr>\n",
       "    <tr>\n",
       "      <th>198</th>\n",
       "      <td>2023-07-01</td>\n",
       "      <td>48.791354</td>\n",
       "      <td>53.437529</td>\n",
       "      <td>11.320</td>\n",
       "      <td>55.755276</td>\n",
       "    </tr>\n",
       "  </tbody>\n",
       "</table>\n",
       "</div>"
      ],
      "text/plain": [
       "            ds          y  maizeusdprice  exchangerate  Inflation\n",
       "175 2021-08-01  48.843042      57.189769         6.040  19.634017\n",
       "176 2021-09-01  48.372817      55.879754         6.050  21.137773\n",
       "177 2021-10-01  47.663308      51.047985         6.110  22.748613\n",
       "178 2021-11-01  47.978858      47.456400         6.135  24.466538\n",
       "179 2021-12-01  48.816815      48.097840         6.150  26.291548\n",
       "180 2022-01-01  48.930931      50.201780         6.275  28.223642\n",
       "181 2022-02-01  42.947918      48.708754         6.725  29.281212\n",
       "182 2022-03-01  45.845350      51.271215         7.525  30.838509\n",
       "183 2022-04-01  44.021250      48.626015         7.525  32.395807\n",
       "184 2022-05-01  47.812533      56.400454         7.800  33.953105\n",
       "185 2022-06-01  44.499009      53.642467         8.025  35.510403\n",
       "186 2022-07-01  42.448083      50.335269         8.450  37.067701\n",
       "187 2022-08-01  35.726690      41.018958        10.100  38.624999\n",
       "188 2022-09-01  35.582220      37.097882        10.375  40.182297\n",
       "189 2022-10-01  40.374733      31.189954        14.000  41.739595\n",
       "190 2022-11-01  37.046618      31.868292        14.400  43.296893\n",
       "191 2022-12-01  63.651100      63.554620         9.980  44.854190\n",
       "192 2023-01-01  56.908675      55.724787        12.500  46.411488\n",
       "193 2023-02-01  43.836550      44.170272        12.850  47.968786\n",
       "194 2023-03-01  46.517338      45.828924        11.550  49.526084\n",
       "195 2023-04-01  44.311413      52.308482        11.800  51.083382\n",
       "196 2023-05-01  42.071260      54.955418        11.250  52.640680\n",
       "197 2023-06-01  43.822793      55.113344        11.325  54.197978\n",
       "198 2023-07-01  48.791354      53.437529        11.320  55.755276"
      ]
     },
     "execution_count": 126,
     "metadata": {},
     "output_type": "execute_result"
    }
   ],
   "source": [
    "test"
   ]
  },
  {
   "cell_type": "code",
   "execution_count": 128,
   "id": "e893ebb6",
   "metadata": {},
   "outputs": [
    {
     "name": "stderr",
     "output_type": "stream",
     "text": [
      "INFO:nixtla.nixtla_client:Validating inputs...\n",
      "INFO:nixtla.nixtla_client:Preprocessing dataframes...\n",
      "INFO:nixtla.nixtla_client:Inferred freq: MS\n",
      "WARNING:nixtla.nixtla_client:You did not provide X_df. Exogenous variables in df are ignored. To surpress this warning, please add X_df with exogenous variables: maizeusdprice, exchangerate, Inflation\n",
      "INFO:nixtla.nixtla_client:Calling Forecast Endpoint...\n"
     ]
    }
   ],
   "source": [
    "fcst_df = nixtla_client.forecast(\n",
    "    df=input_seq,\n",
    "    h=24,\n",
    "    level=[90],\n",
    "    finetune_steps=10,\n",
    "    finetune_loss='mae',\n",
    "    model='timegpt-1-long-horizon',\n",
    "    time_col='ds',\n",
    "    target_col='y'\n",
    ")"
   ]
  },
  {
   "cell_type": "code",
   "execution_count": 133,
   "id": "f7f5864d",
   "metadata": {},
   "outputs": [
    {
     "data": {
      "image/png": "[encoded data removed]",
      "text/plain": [
       "<Figure size 1600x350 with 1 Axes>"
      ]
     },
     "execution_count": 133,
     "metadata": {},
     "output_type": "execute_result"
    }
   ],
   "source": [
    "nixtla_client.plot(nix_df[-168:], fcst_df, models=['TimeGPT'], level=[90], time_col='ds', target_col='y')"
   ]
  },
  {
   "cell_type": "code",
   "execution_count": 134,
   "id": "c2ca897b",
   "metadata": {},
   "outputs": [],
   "source": [
    "test = test.copy()\n",
    "\n",
    "test.loc[:, 'TimeGPT'] = fcst_df['TimeGPT'].values"
   ]
  },
  {
   "cell_type": "code",
   "execution_count": 142,
   "id": "68fabe32",
   "metadata": {},
   "outputs": [],
   "source": [
    "# Create a unique ID based on the index\n",
    "test = test.reset_index(drop=True)\n",
    "test['unique_id'] = 'GH'  # Adding 1 to start IDs from 1 instead of 0\n"
   ]
  },
  {
   "cell_type": "code",
   "execution_count": 144,
   "id": "e77003ee",
   "metadata": {
    "scrolled": true
   },
   "outputs": [
    {
     "data": {
      "text/html": [
       "<div>\n",
       "<style scoped>\n",
       "    .dataframe tbody tr th:only-of-type {\n",
       "        vertical-align: middle;\n",
       "    }\n",
       "\n",
       "    .dataframe tbody tr th {\n",
       "        vertical-align: top;\n",
       "    }\n",
       "\n",
       "    .dataframe thead th {\n",
       "        text-align: right;\n",
       "    }\n",
       "</style>\n",
       "<table border=\"1\" class=\"dataframe\">\n",
       "  <thead>\n",
       "    <tr style=\"text-align: right;\">\n",
       "      <th></th>\n",
       "      <th>unique_id</th>\n",
       "      <th>TimeGPT</th>\n",
       "    </tr>\n",
       "  </thead>\n",
       "  <tbody>\n",
       "    <tr>\n",
       "      <th>0</th>\n",
       "      <td>GH</td>\n",
       "      <td>5.548381</td>\n",
       "    </tr>\n",
       "  </tbody>\n",
       "</table>\n",
       "</div>"
      ],
      "text/plain": [
       "  unique_id   TimeGPT\n",
       "0        GH  5.548381"
      ]
     },
     "execution_count": 144,
     "metadata": {},
     "output_type": "execute_result"
    }
   ],
   "source": [
    "evaluation = mae(test, models=['TimeGPT'], id_col='unique_id', target_col='y')\n",
    "\n",
    "evaluation"
   ]
  },
  {
   "cell_type": "markdown",
   "id": "58478990",
   "metadata": {},
   "source": [
    "Mean absolute error of 5.548"
   ]
  },
  {
   "cell_type": "code",
   "execution_count": 171,
   "id": "42d494e3",
   "metadata": {},
   "outputs": [
    {
     "data": {
      "text/html": [
       "<div>\n",
       "<style scoped>\n",
       "    .dataframe tbody tr th:only-of-type {\n",
       "        vertical-align: middle;\n",
       "    }\n",
       "\n",
       "    .dataframe tbody tr th {\n",
       "        vertical-align: top;\n",
       "    }\n",
       "\n",
       "    .dataframe thead th {\n",
       "        text-align: right;\n",
       "    }\n",
       "</style>\n",
       "<table border=\"1\" class=\"dataframe\">\n",
       "  <thead>\n",
       "    <tr style=\"text-align: right;\">\n",
       "      <th></th>\n",
       "      <th>ds</th>\n",
       "      <th>y</th>\n",
       "      <th>maizeusdprice</th>\n",
       "      <th>exchangerate</th>\n",
       "      <th>Inflation</th>\n",
       "    </tr>\n",
       "  </thead>\n",
       "  <tbody>\n",
       "    <tr>\n",
       "      <th>0</th>\n",
       "      <td>2007-01-01</td>\n",
       "      <td>37.844100</td>\n",
       "      <td>20.495183</td>\n",
       "      <td>0.9210</td>\n",
       "      <td>18.541578</td>\n",
       "    </tr>\n",
       "    <tr>\n",
       "      <th>1</th>\n",
       "      <td>2007-02-01</td>\n",
       "      <td>36.425600</td>\n",
       "      <td>22.002383</td>\n",
       "      <td>0.9295</td>\n",
       "      <td>14.262831</td>\n",
       "    </tr>\n",
       "    <tr>\n",
       "      <th>2</th>\n",
       "      <td>2007-03-01</td>\n",
       "      <td>36.701883</td>\n",
       "      <td>23.088567</td>\n",
       "      <td>0.9263</td>\n",
       "      <td>13.017348</td>\n",
       "    </tr>\n",
       "    <tr>\n",
       "      <th>3</th>\n",
       "      <td>2007-04-01</td>\n",
       "      <td>37.661983</td>\n",
       "      <td>24.117650</td>\n",
       "      <td>0.9270</td>\n",
       "      <td>12.367792</td>\n",
       "    </tr>\n",
       "    <tr>\n",
       "      <th>4</th>\n",
       "      <td>2007-05-01</td>\n",
       "      <td>38.772450</td>\n",
       "      <td>24.460667</td>\n",
       "      <td>0.9276</td>\n",
       "      <td>12.314164</td>\n",
       "    </tr>\n",
       "    <tr>\n",
       "      <th>...</th>\n",
       "      <td>...</td>\n",
       "      <td>...</td>\n",
       "      <td>...</td>\n",
       "      <td>...</td>\n",
       "      <td>...</td>\n",
       "    </tr>\n",
       "    <tr>\n",
       "      <th>194</th>\n",
       "      <td>2023-03-01</td>\n",
       "      <td>46.517338</td>\n",
       "      <td>45.828924</td>\n",
       "      <td>11.5500</td>\n",
       "      <td>49.526084</td>\n",
       "    </tr>\n",
       "    <tr>\n",
       "      <th>195</th>\n",
       "      <td>2023-04-01</td>\n",
       "      <td>44.311413</td>\n",
       "      <td>52.308482</td>\n",
       "      <td>11.8000</td>\n",
       "      <td>51.083382</td>\n",
       "    </tr>\n",
       "    <tr>\n",
       "      <th>196</th>\n",
       "      <td>2023-05-01</td>\n",
       "      <td>42.071260</td>\n",
       "      <td>54.955418</td>\n",
       "      <td>11.2500</td>\n",
       "      <td>52.640680</td>\n",
       "    </tr>\n",
       "    <tr>\n",
       "      <th>197</th>\n",
       "      <td>2023-06-01</td>\n",
       "      <td>43.822793</td>\n",
       "      <td>55.113344</td>\n",
       "      <td>11.3250</td>\n",
       "      <td>54.197978</td>\n",
       "    </tr>\n",
       "    <tr>\n",
       "      <th>198</th>\n",
       "      <td>2023-07-01</td>\n",
       "      <td>48.791354</td>\n",
       "      <td>53.437529</td>\n",
       "      <td>11.3200</td>\n",
       "      <td>55.755276</td>\n",
       "    </tr>\n",
       "  </tbody>\n",
       "</table>\n",
       "<p>199 rows × 5 columns</p>\n",
       "</div>"
      ],
      "text/plain": [
       "            ds          y  maizeusdprice  exchangerate  Inflation\n",
       "0   2007-01-01  37.844100      20.495183        0.9210  18.541578\n",
       "1   2007-02-01  36.425600      22.002383        0.9295  14.262831\n",
       "2   2007-03-01  36.701883      23.088567        0.9263  13.017348\n",
       "3   2007-04-01  37.661983      24.117650        0.9270  12.367792\n",
       "4   2007-05-01  38.772450      24.460667        0.9276  12.314164\n",
       "..         ...        ...            ...           ...        ...\n",
       "194 2023-03-01  46.517338      45.828924       11.5500  49.526084\n",
       "195 2023-04-01  44.311413      52.308482       11.8000  51.083382\n",
       "196 2023-05-01  42.071260      54.955418       11.2500  52.640680\n",
       "197 2023-06-01  43.822793      55.113344       11.3250  54.197978\n",
       "198 2023-07-01  48.791354      53.437529       11.3200  55.755276\n",
       "\n",
       "[199 rows x 5 columns]"
      ]
     },
     "execution_count": 171,
     "metadata": {},
     "output_type": "execute_result"
    }
   ],
   "source": [
    "nix_df"
   ]
  },
  {
   "cell_type": "code",
   "execution_count": 186,
   "id": "73a67d63",
   "metadata": {},
   "outputs": [],
   "source": [
    "# 1. Split the Data\n",
    "train_size = int(len(df) * 0.95)\n",
    "train_df = nix_df.iloc[:train_size]\n",
    "test_df = nix_df.iloc[train_size:]\n",
    "\n"
   ]
  },
  {
   "cell_type": "code",
   "execution_count": 187,
   "id": "8fa90e1b",
   "metadata": {},
   "outputs": [],
   "source": [
    "forecast_horizon =12"
   ]
  },
  {
   "cell_type": "code",
   "execution_count": 188,
   "id": "4e96f7f2",
   "metadata": {},
   "outputs": [],
   "source": [
    "future_dates = pd.date_range(start=last_date + pd.DateOffset(months=1), periods=forecast_horizon, freq='M')"
   ]
  },
  {
   "cell_type": "code",
   "execution_count": null,
   "id": "145d0734",
   "metadata": {},
   "outputs": [],
   "source": [
    "# Train the model\n",
    "main_forecast = nixtla_client.forecast(\n",
    "    df=train.reset_index(),\n",
    "    h=len(test),\n",
    "    target_col='riceusdprice',\n",
    "    X_df=train_exogenous.reset_index()\n",
    ")\n",
    "\n",
    "# Make predictions\n",
    "predictions_df = nixtla_client.forecast(\n",
    "    df=test.reset_index(),\n",
    "    h=len(test),\n",
    "    target_col='riceusdprice',\n",
    "    X_df=test_exogenous_future\n",
    ")\n",
    "\n",
    "# Evaluate the model\n",
    "y_true = test['riceusdprice']\n",
    "y_pred = predictions_df['TimeGPT']  # Replace 'TimeGPT' with the correct column name in your predictions\n",
    "\n",
    "# Calculate Mean Squared Error\n",
    "mse = mean_squared_error(y_true, y_pred)\n",
    "print(f\"Mean Squared Error: {mse}\")\n",
    "\n",
    "# Plot the results\n",
    "plt.figure(figsize=(14, 7))\n",
    "plt.plot(train.index, train['riceusdprice'], label='Train', color='blue', linewidth=1.5)\n",
    "plt.plot(test.index, y_true, label='True Values', color='orange', linewidth=1.5)\n",
    "plt.plot(test.index, y_pred, label='Predicted Values', linestyle='--', color='green', linewidth=1.5)\n",
    "plt.fill_between(test.index, predictions_df['TimeGPT_level_90_lower'], predictions_df['TimeGPT_level_90_upper'], color='pink', alpha=0.3, label='Confidence Interval (90%)')\n",
    "plt.legend()\n",
    "plt.title('Rice Price Forecast', fontsize=16)\n",
    "plt.xlabel('Date', fontsize=14)\n",
    "plt.ylabel('Price', fontsize=14)\n",
    "plt.grid(True)\n",
    "plt.show()"
   ]
  },
  {
   "cell_type": "code",
   "execution_count": 189,
   "id": "6d70e89a",
   "metadata": {},
   "outputs": [
    {
     "ename": "ValueError",
     "evalue": "All arrays must be of the same length",
     "output_type": "error",
     "traceback": [
      "\u001b[0;31m---------------------------------------------------------------------------\u001b[0m",
      "\u001b[0;31mValueError\u001b[0m                                Traceback (most recent call last)",
      "Cell \u001b[0;32mIn[189], line 7\u001b[0m\n\u001b[1;32m      4\u001b[0m inflation_forecast \u001b[38;5;241m=\u001b[39m train_df[\u001b[38;5;124m'\u001b[39m\u001b[38;5;124mInflation\u001b[39m\u001b[38;5;124m'\u001b[39m]\u001b[38;5;241m.\u001b[39mvalues  \n\u001b[1;32m      6\u001b[0m \u001b[38;5;66;03m# Create DataFrame with future dates and forecasted values\u001b[39;00m\n\u001b[0;32m----> 7\u001b[0m forecast_exogenous_df \u001b[38;5;241m=\u001b[39m pd\u001b[38;5;241m.\u001b[39mDataFrame({\n\u001b[1;32m      8\u001b[0m     \u001b[38;5;124m'\u001b[39m\u001b[38;5;124mds\u001b[39m\u001b[38;5;124m'\u001b[39m: future_dates,\n\u001b[1;32m      9\u001b[0m     \u001b[38;5;124m'\u001b[39m\u001b[38;5;124mmaizeusdprice\u001b[39m\u001b[38;5;124m'\u001b[39m: maize_forecast,\n\u001b[1;32m     10\u001b[0m     \u001b[38;5;124m'\u001b[39m\u001b[38;5;124mexchangerate\u001b[39m\u001b[38;5;124m'\u001b[39m: exchangerate_actual,\n\u001b[1;32m     11\u001b[0m     \u001b[38;5;124m'\u001b[39m\u001b[38;5;124mInflation\u001b[39m\u001b[38;5;124m'\u001b[39m: inflation_forecast\n\u001b[1;32m     12\u001b[0m })\n\u001b[1;32m     14\u001b[0m \u001b[38;5;66;03m# Convert 'ds' to datetime format (assuming 'MM-YYYY' format)\u001b[39;00m\n\u001b[1;32m     15\u001b[0m forecast_exogenous_df[\u001b[38;5;124m'\u001b[39m\u001b[38;5;124mds\u001b[39m\u001b[38;5;124m'\u001b[39m] \u001b[38;5;241m=\u001b[39m pd\u001b[38;5;241m.\u001b[39mto_datetime(forecast_exogenous_df[\u001b[38;5;124m'\u001b[39m\u001b[38;5;124mds\u001b[39m\u001b[38;5;124m'\u001b[39m], \u001b[38;5;28mformat\u001b[39m\u001b[38;5;241m=\u001b[39m\u001b[38;5;124m'\u001b[39m\u001b[38;5;124m%\u001b[39m\u001b[38;5;124mY-\u001b[39m\u001b[38;5;124m%\u001b[39m\u001b[38;5;124mm-\u001b[39m\u001b[38;5;132;01m%d\u001b[39;00m\u001b[38;5;124m'\u001b[39m)\n",
      "File \u001b[0;32m/opt/anaconda3/lib/python3.11/site-packages/pandas/core/frame.py:733\u001b[0m, in \u001b[0;36mDataFrame.__init__\u001b[0;34m(self, data, index, columns, dtype, copy)\u001b[0m\n\u001b[1;32m    727\u001b[0m     mgr \u001b[38;5;241m=\u001b[39m \u001b[38;5;28mself\u001b[39m\u001b[38;5;241m.\u001b[39m_init_mgr(\n\u001b[1;32m    728\u001b[0m         data, axes\u001b[38;5;241m=\u001b[39m{\u001b[38;5;124m\"\u001b[39m\u001b[38;5;124mindex\u001b[39m\u001b[38;5;124m\"\u001b[39m: index, \u001b[38;5;124m\"\u001b[39m\u001b[38;5;124mcolumns\u001b[39m\u001b[38;5;124m\"\u001b[39m: columns}, dtype\u001b[38;5;241m=\u001b[39mdtype, copy\u001b[38;5;241m=\u001b[39mcopy\n\u001b[1;32m    729\u001b[0m     )\n\u001b[1;32m    731\u001b[0m \u001b[38;5;28;01melif\u001b[39;00m \u001b[38;5;28misinstance\u001b[39m(data, \u001b[38;5;28mdict\u001b[39m):\n\u001b[1;32m    732\u001b[0m     \u001b[38;5;66;03m# GH#38939 de facto copy defaults to False only in non-dict cases\u001b[39;00m\n\u001b[0;32m--> 733\u001b[0m     mgr \u001b[38;5;241m=\u001b[39m dict_to_mgr(data, index, columns, dtype\u001b[38;5;241m=\u001b[39mdtype, copy\u001b[38;5;241m=\u001b[39mcopy, typ\u001b[38;5;241m=\u001b[39mmanager)\n\u001b[1;32m    734\u001b[0m \u001b[38;5;28;01melif\u001b[39;00m \u001b[38;5;28misinstance\u001b[39m(data, ma\u001b[38;5;241m.\u001b[39mMaskedArray):\n\u001b[1;32m    735\u001b[0m     \u001b[38;5;28;01mfrom\u001b[39;00m \u001b[38;5;21;01mnumpy\u001b[39;00m\u001b[38;5;21;01m.\u001b[39;00m\u001b[38;5;21;01mma\u001b[39;00m \u001b[38;5;28;01mimport\u001b[39;00m mrecords\n",
      "File \u001b[0;32m/opt/anaconda3/lib/python3.11/site-packages/pandas/core/internals/construction.py:503\u001b[0m, in \u001b[0;36mdict_to_mgr\u001b[0;34m(data, index, columns, dtype, typ, copy)\u001b[0m\n\u001b[1;32m    499\u001b[0m     \u001b[38;5;28;01melse\u001b[39;00m:\n\u001b[1;32m    500\u001b[0m         \u001b[38;5;66;03m# dtype check to exclude e.g. range objects, scalars\u001b[39;00m\n\u001b[1;32m    501\u001b[0m         arrays \u001b[38;5;241m=\u001b[39m [x\u001b[38;5;241m.\u001b[39mcopy() \u001b[38;5;28;01mif\u001b[39;00m \u001b[38;5;28mhasattr\u001b[39m(x, \u001b[38;5;124m\"\u001b[39m\u001b[38;5;124mdtype\u001b[39m\u001b[38;5;124m\"\u001b[39m) \u001b[38;5;28;01melse\u001b[39;00m x \u001b[38;5;28;01mfor\u001b[39;00m x \u001b[38;5;129;01min\u001b[39;00m arrays]\n\u001b[0;32m--> 503\u001b[0m \u001b[38;5;28;01mreturn\u001b[39;00m arrays_to_mgr(arrays, columns, index, dtype\u001b[38;5;241m=\u001b[39mdtype, typ\u001b[38;5;241m=\u001b[39mtyp, consolidate\u001b[38;5;241m=\u001b[39mcopy)\n",
      "File \u001b[0;32m/opt/anaconda3/lib/python3.11/site-packages/pandas/core/internals/construction.py:114\u001b[0m, in \u001b[0;36marrays_to_mgr\u001b[0;34m(arrays, columns, index, dtype, verify_integrity, typ, consolidate)\u001b[0m\n\u001b[1;32m    111\u001b[0m \u001b[38;5;28;01mif\u001b[39;00m verify_integrity:\n\u001b[1;32m    112\u001b[0m     \u001b[38;5;66;03m# figure out the index, if necessary\u001b[39;00m\n\u001b[1;32m    113\u001b[0m     \u001b[38;5;28;01mif\u001b[39;00m index \u001b[38;5;129;01mis\u001b[39;00m \u001b[38;5;28;01mNone\u001b[39;00m:\n\u001b[0;32m--> 114\u001b[0m         index \u001b[38;5;241m=\u001b[39m _extract_index(arrays)\n\u001b[1;32m    115\u001b[0m     \u001b[38;5;28;01melse\u001b[39;00m:\n\u001b[1;32m    116\u001b[0m         index \u001b[38;5;241m=\u001b[39m ensure_index(index)\n",
      "File \u001b[0;32m/opt/anaconda3/lib/python3.11/site-packages/pandas/core/internals/construction.py:677\u001b[0m, in \u001b[0;36m_extract_index\u001b[0;34m(data)\u001b[0m\n\u001b[1;32m    675\u001b[0m lengths \u001b[38;5;241m=\u001b[39m \u001b[38;5;28mlist\u001b[39m(\u001b[38;5;28mset\u001b[39m(raw_lengths))\n\u001b[1;32m    676\u001b[0m \u001b[38;5;28;01mif\u001b[39;00m \u001b[38;5;28mlen\u001b[39m(lengths) \u001b[38;5;241m>\u001b[39m \u001b[38;5;241m1\u001b[39m:\n\u001b[0;32m--> 677\u001b[0m     \u001b[38;5;28;01mraise\u001b[39;00m \u001b[38;5;167;01mValueError\u001b[39;00m(\u001b[38;5;124m\"\u001b[39m\u001b[38;5;124mAll arrays must be of the same length\u001b[39m\u001b[38;5;124m\"\u001b[39m)\n\u001b[1;32m    679\u001b[0m \u001b[38;5;28;01mif\u001b[39;00m have_dicts:\n\u001b[1;32m    680\u001b[0m     \u001b[38;5;28;01mraise\u001b[39;00m \u001b[38;5;167;01mValueError\u001b[39;00m(\n\u001b[1;32m    681\u001b[0m         \u001b[38;5;124m\"\u001b[39m\u001b[38;5;124mMixing dicts with non-Series may lead to ambiguous ordering.\u001b[39m\u001b[38;5;124m\"\u001b[39m\n\u001b[1;32m    682\u001b[0m     )\n",
      "\u001b[0;31mValueError\u001b[0m: All arrays must be of the same length"
     ]
    }
   ],
   "source": [
    "# Extract forecasted values from train_df \n",
    "maize_forecast = train_df['maizeusdprice'].values  \n",
    "exchangerate_actual = train_df['exchangerate'].values \n",
    "inflation_forecast = train_df['Inflation'].values  \n",
    "\n",
    "# Create DataFrame with future dates and forecasted values\n",
    "forecast_exogenous_df = pd.DataFrame({\n",
    "    'ds': future_dates,\n",
    "    'maizeusdprice': maize_forecast,\n",
    "    'exchangerate': exchangerate_actual,\n",
    "    'Inflation': inflation_forecast\n",
    "})\n",
    "\n",
    "# Convert 'ds' to datetime format (assuming 'MM-YYYY' format)\n",
    "forecast_exogenous_df['ds'] = pd.to_datetime(forecast_exogenous_df['ds'], format='%Y-%m-%d')\n",
    "\n",
    "# Convert to 'YYYY-MM-DD' format, start of the month\n",
    "forecast_exogenous_df['ds'] = forecast_exogenous_df['ds'].dt.to_period('M').dt.to_timestamp()"
   ]
  },
  {
   "cell_type": "code",
   "execution_count": 176,
   "id": "5a5ecbdb",
   "metadata": {},
   "outputs": [],
   "source": [
    "X_df_train = train_df[['ds','riceusdprice', 'maizeusdprice', 'exchangerate', 'Inflation']]\n"
   ]
  },
  {
   "cell_type": "code",
   "execution_count": null,
   "id": "b8d9e418",
   "metadata": {},
   "outputs": [],
   "source": []
  },
  {
   "cell_type": "code",
   "execution_count": null,
   "id": "1de2552c",
   "metadata": {},
   "outputs": [],
   "source": []
  },
  {
   "cell_type": "code",
   "execution_count": null,
   "id": "19505d08",
   "metadata": {},
   "outputs": [],
   "source": [
    "maize_forecast = maize_forecast.rename(columns={'TimeGPT': 'maizeusdprice_forecast'})"
   ]
  },
  {
   "cell_type": "code",
   "execution_count": 178,
   "id": "1ef83e1d",
   "metadata": {
    "scrolled": true
   },
   "outputs": [
    {
     "data": {
      "text/html": [
       "<div>\n",
       "<style scoped>\n",
       "    .dataframe tbody tr th:only-of-type {\n",
       "        vertical-align: middle;\n",
       "    }\n",
       "\n",
       "    .dataframe tbody tr th {\n",
       "        vertical-align: top;\n",
       "    }\n",
       "\n",
       "    .dataframe thead th {\n",
       "        text-align: right;\n",
       "    }\n",
       "</style>\n",
       "<table border=\"1\" class=\"dataframe\">\n",
       "  <thead>\n",
       "    <tr style=\"text-align: right;\">\n",
       "      <th></th>\n",
       "      <th>ds</th>\n",
       "      <th>maizeusdprice</th>\n",
       "      <th>exchangerate</th>\n",
       "      <th>Inflation</th>\n",
       "    </tr>\n",
       "  </thead>\n",
       "  <tbody>\n",
       "    <tr>\n",
       "      <th>0</th>\n",
       "      <td>2007-01-01</td>\n",
       "      <td>20.495183</td>\n",
       "      <td>0.9210</td>\n",
       "      <td>18.541578</td>\n",
       "    </tr>\n",
       "    <tr>\n",
       "      <th>1</th>\n",
       "      <td>2007-02-01</td>\n",
       "      <td>22.002383</td>\n",
       "      <td>0.9295</td>\n",
       "      <td>14.262831</td>\n",
       "    </tr>\n",
       "    <tr>\n",
       "      <th>2</th>\n",
       "      <td>2007-03-01</td>\n",
       "      <td>23.088567</td>\n",
       "      <td>0.9263</td>\n",
       "      <td>13.017348</td>\n",
       "    </tr>\n",
       "    <tr>\n",
       "      <th>3</th>\n",
       "      <td>2007-04-01</td>\n",
       "      <td>24.117650</td>\n",
       "      <td>0.9270</td>\n",
       "      <td>12.367792</td>\n",
       "    </tr>\n",
       "    <tr>\n",
       "      <th>4</th>\n",
       "      <td>2007-05-01</td>\n",
       "      <td>24.460667</td>\n",
       "      <td>0.9276</td>\n",
       "      <td>12.314164</td>\n",
       "    </tr>\n",
       "    <tr>\n",
       "      <th>...</th>\n",
       "      <td>...</td>\n",
       "      <td>...</td>\n",
       "      <td>...</td>\n",
       "      <td>...</td>\n",
       "    </tr>\n",
       "    <tr>\n",
       "      <th>184</th>\n",
       "      <td>2022-05-01</td>\n",
       "      <td>56.400454</td>\n",
       "      <td>7.8000</td>\n",
       "      <td>33.953105</td>\n",
       "    </tr>\n",
       "    <tr>\n",
       "      <th>185</th>\n",
       "      <td>2022-06-01</td>\n",
       "      <td>53.642467</td>\n",
       "      <td>8.0250</td>\n",
       "      <td>35.510403</td>\n",
       "    </tr>\n",
       "    <tr>\n",
       "      <th>186</th>\n",
       "      <td>2022-07-01</td>\n",
       "      <td>50.335269</td>\n",
       "      <td>8.4500</td>\n",
       "      <td>37.067701</td>\n",
       "    </tr>\n",
       "    <tr>\n",
       "      <th>187</th>\n",
       "      <td>2022-08-01</td>\n",
       "      <td>41.018958</td>\n",
       "      <td>10.1000</td>\n",
       "      <td>38.624999</td>\n",
       "    </tr>\n",
       "    <tr>\n",
       "      <th>188</th>\n",
       "      <td>2022-09-01</td>\n",
       "      <td>37.097882</td>\n",
       "      <td>10.3750</td>\n",
       "      <td>40.182297</td>\n",
       "    </tr>\n",
       "  </tbody>\n",
       "</table>\n",
       "<p>189 rows × 4 columns</p>\n",
       "</div>"
      ],
      "text/plain": [
       "            ds  maizeusdprice  exchangerate  Inflation\n",
       "0   2007-01-01      20.495183        0.9210  18.541578\n",
       "1   2007-02-01      22.002383        0.9295  14.262831\n",
       "2   2007-03-01      23.088567        0.9263  13.017348\n",
       "3   2007-04-01      24.117650        0.9270  12.367792\n",
       "4   2007-05-01      24.460667        0.9276  12.314164\n",
       "..         ...            ...           ...        ...\n",
       "184 2022-05-01      56.400454        7.8000  33.953105\n",
       "185 2022-06-01      53.642467        8.0250  35.510403\n",
       "186 2022-07-01      50.335269        8.4500  37.067701\n",
       "187 2022-08-01      41.018958       10.1000  38.624999\n",
       "188 2022-09-01      37.097882       10.3750  40.182297\n",
       "\n",
       "[189 rows x 4 columns]"
      ]
     },
     "execution_count": 178,
     "metadata": {},
     "output_type": "execute_result"
    }
   ],
   "source": [
    "X_df_train"
   ]
  },
  {
   "cell_type": "code",
   "execution_count": 179,
   "id": "2c5dd380",
   "metadata": {
    "scrolled": true
   },
   "outputs": [
    {
     "name": "stderr",
     "output_type": "stream",
     "text": [
      "INFO:nixtla.nixtla_client:Validating inputs...\n",
      "INFO:nixtla.nixtla_client:Preprocessing dataframes...\n",
      "INFO:nixtla.nixtla_client:Inferred freq: MS\n"
     ]
    },
    {
     "ename": "KeyError",
     "evalue": "\"['y'] not in index\"",
     "output_type": "error",
     "traceback": [
      "\u001b[0;31m---------------------------------------------------------------------------\u001b[0m",
      "\u001b[0;31mKeyError\u001b[0m                                  Traceback (most recent call last)",
      "Cell \u001b[0;32mIn[179], line 4\u001b[0m\n\u001b[1;32m      1\u001b[0m \u001b[38;5;66;03m# 2. Train the Model\u001b[39;00m\n\u001b[1;32m      2\u001b[0m \n\u001b[1;32m      3\u001b[0m \u001b[38;5;66;03m# Train the model with the training set\u001b[39;00m\n\u001b[0;32m----> 4\u001b[0m trained_model \u001b[38;5;241m=\u001b[39m nixtla_client\u001b[38;5;241m.\u001b[39mforecast(\n\u001b[1;32m      5\u001b[0m     df\u001b[38;5;241m=\u001b[39mX_df_train,\n\u001b[1;32m      6\u001b[0m     h\u001b[38;5;241m=\u001b[39m\u001b[38;5;241m12\u001b[39m,  \u001b[38;5;66;03m# forecast horizon\u001b[39;00m\n\u001b[1;32m      7\u001b[0m     finetune_steps\u001b[38;5;241m=\u001b[39m\u001b[38;5;241m10\u001b[39m,  \u001b[38;5;66;03m# number of fine-tuning steps\u001b[39;00m\n\u001b[1;32m      8\u001b[0m     time_col\u001b[38;5;241m=\u001b[39m\u001b[38;5;124m'\u001b[39m\u001b[38;5;124mds\u001b[39m\u001b[38;5;124m'\u001b[39m,\n\u001b[1;32m      9\u001b[0m     target_col\u001b[38;5;241m=\u001b[39m\u001b[38;5;124m'\u001b[39m\u001b[38;5;124mriceusdprice\u001b[39m\u001b[38;5;124m'\u001b[39m,\n\u001b[1;32m     10\u001b[0m     X_df \u001b[38;5;241m=\u001b[39m X_df_train\n\u001b[1;32m     11\u001b[0m )\n",
      "File \u001b[0;32m/opt/anaconda3/lib/python3.11/site-packages/nixtla/nixtla_client.py:60\u001b[0m, in \u001b[0;36mdeprecated_argument.<locals>.decorator.<locals>.wrapper\u001b[0;34m(*args, **kwargs)\u001b[0m\n\u001b[1;32m     58\u001b[0m         \u001b[38;5;28;01mraise\u001b[39;00m \u001b[38;5;167;01mTypeError\u001b[39;00m(\u001b[38;5;124mf\u001b[39m\u001b[38;5;124m\"\u001b[39m\u001b[38;5;132;01m{\u001b[39;00mnew_name\u001b[38;5;132;01m}\u001b[39;00m\u001b[38;5;124m argument duplicated\u001b[39m\u001b[38;5;124m\"\u001b[39m)\n\u001b[1;32m     59\u001b[0m     kwargs[new_name] \u001b[38;5;241m=\u001b[39m kwargs\u001b[38;5;241m.\u001b[39mpop(old_name)\n\u001b[0;32m---> 60\u001b[0m \u001b[38;5;28;01mreturn\u001b[39;00m func(\u001b[38;5;241m*\u001b[39margs, \u001b[38;5;241m*\u001b[39m\u001b[38;5;241m*\u001b[39mkwargs)\n",
      "File \u001b[0;32m/opt/anaconda3/lib/python3.11/site-packages/nixtla/nixtla_client.py:60\u001b[0m, in \u001b[0;36mdeprecated_argument.<locals>.decorator.<locals>.wrapper\u001b[0;34m(*args, **kwargs)\u001b[0m\n\u001b[1;32m     58\u001b[0m         \u001b[38;5;28;01mraise\u001b[39;00m \u001b[38;5;167;01mTypeError\u001b[39;00m(\u001b[38;5;124mf\u001b[39m\u001b[38;5;124m\"\u001b[39m\u001b[38;5;132;01m{\u001b[39;00mnew_name\u001b[38;5;132;01m}\u001b[39;00m\u001b[38;5;124m argument duplicated\u001b[39m\u001b[38;5;124m\"\u001b[39m)\n\u001b[1;32m     59\u001b[0m     kwargs[new_name] \u001b[38;5;241m=\u001b[39m kwargs\u001b[38;5;241m.\u001b[39mpop(old_name)\n\u001b[0;32m---> 60\u001b[0m \u001b[38;5;28;01mreturn\u001b[39;00m func(\u001b[38;5;241m*\u001b[39margs, \u001b[38;5;241m*\u001b[39m\u001b[38;5;241m*\u001b[39mkwargs)\n",
      "File \u001b[0;32m/opt/anaconda3/lib/python3.11/site-packages/nixtla/nixtla_client.py:1316\u001b[0m, in \u001b[0;36mNixtlaClient.forecast\u001b[0;34m(self, df, h, freq, id_col, time_col, target_col, X_df, level, quantiles, finetune_steps, finetune_loss, clean_ex_first, validate_api_key, add_history, date_features, date_features_to_one_hot, model, num_partitions)\u001b[0m\n\u001b[1;32m   1239\u001b[0m \u001b[38;5;250m\u001b[39m\u001b[38;5;124;03m\"\"\"Forecast your time series using TimeGPT.\u001b[39;00m\n\u001b[1;32m   1240\u001b[0m \n\u001b[1;32m   1241\u001b[0m \u001b[38;5;124;03mParameters\u001b[39;00m\n\u001b[0;32m   (...)\u001b[0m\n\u001b[1;32m   1313\u001b[0m \u001b[38;5;124;03m    predictions (if level is not None).\u001b[39;00m\n\u001b[1;32m   1314\u001b[0m \u001b[38;5;124;03m\"\"\"\u001b[39;00m\n\u001b[1;32m   1315\u001b[0m \u001b[38;5;28;01mif\u001b[39;00m \u001b[38;5;28misinstance\u001b[39m(df, pd\u001b[38;5;241m.\u001b[39mDataFrame):\n\u001b[0;32m-> 1316\u001b[0m     \u001b[38;5;28;01mreturn\u001b[39;00m \u001b[38;5;28mself\u001b[39m\u001b[38;5;241m.\u001b[39m_forecast(\n\u001b[1;32m   1317\u001b[0m         df\u001b[38;5;241m=\u001b[39mdf,\n\u001b[1;32m   1318\u001b[0m         h\u001b[38;5;241m=\u001b[39mh,\n\u001b[1;32m   1319\u001b[0m         freq\u001b[38;5;241m=\u001b[39mfreq,\n\u001b[1;32m   1320\u001b[0m         id_col\u001b[38;5;241m=\u001b[39mid_col,\n\u001b[1;32m   1321\u001b[0m         time_col\u001b[38;5;241m=\u001b[39mtime_col,\n\u001b[1;32m   1322\u001b[0m         target_col\u001b[38;5;241m=\u001b[39mtarget_col,\n\u001b[1;32m   1323\u001b[0m         X_df\u001b[38;5;241m=\u001b[39mX_df,\n\u001b[1;32m   1324\u001b[0m         level\u001b[38;5;241m=\u001b[39mlevel,\n\u001b[1;32m   1325\u001b[0m         quantiles\u001b[38;5;241m=\u001b[39mquantiles,\n\u001b[1;32m   1326\u001b[0m         finetune_steps\u001b[38;5;241m=\u001b[39mfinetune_steps,\n\u001b[1;32m   1327\u001b[0m         finetune_loss\u001b[38;5;241m=\u001b[39mfinetune_loss,\n\u001b[1;32m   1328\u001b[0m         clean_ex_first\u001b[38;5;241m=\u001b[39mclean_ex_first,\n\u001b[1;32m   1329\u001b[0m         validate_api_key\u001b[38;5;241m=\u001b[39mvalidate_api_key,\n\u001b[1;32m   1330\u001b[0m         add_history\u001b[38;5;241m=\u001b[39madd_history,\n\u001b[1;32m   1331\u001b[0m         date_features\u001b[38;5;241m=\u001b[39mdate_features,\n\u001b[1;32m   1332\u001b[0m         date_features_to_one_hot\u001b[38;5;241m=\u001b[39mdate_features_to_one_hot,\n\u001b[1;32m   1333\u001b[0m         model\u001b[38;5;241m=\u001b[39mmodel,\n\u001b[1;32m   1334\u001b[0m         num_partitions\u001b[38;5;241m=\u001b[39mnum_partitions,\n\u001b[1;32m   1335\u001b[0m     )\n\u001b[1;32m   1336\u001b[0m \u001b[38;5;28;01melse\u001b[39;00m:\n\u001b[1;32m   1337\u001b[0m     dist_nixtla_client \u001b[38;5;241m=\u001b[39m \u001b[38;5;28mself\u001b[39m\u001b[38;5;241m.\u001b[39m_instantiate_distributed_nixtla_client()\n",
      "File \u001b[0;32m/opt/anaconda3/lib/python3.11/site-packages/nixtla/nixtla_client.py:742\u001b[0m, in \u001b[0;36mvalidate_model_parameter.<locals>.wrapper\u001b[0;34m(self, *args, **kwargs)\u001b[0m\n\u001b[1;32m    737\u001b[0m     \u001b[38;5;28;01mif\u001b[39;00m model \u001b[38;5;129;01mnot\u001b[39;00m \u001b[38;5;129;01min\u001b[39;00m \u001b[38;5;28mself\u001b[39m\u001b[38;5;241m.\u001b[39msupported_models:\n\u001b[1;32m    738\u001b[0m         \u001b[38;5;28;01mraise\u001b[39;00m \u001b[38;5;167;01mValueError\u001b[39;00m(\n\u001b[1;32m    739\u001b[0m             \u001b[38;5;124mf\u001b[39m\u001b[38;5;124m'\u001b[39m\u001b[38;5;124munsupported model: \u001b[39m\u001b[38;5;132;01m{\u001b[39;00mkwargs[\u001b[38;5;124m\"\u001b[39m\u001b[38;5;124mmodel\u001b[39m\u001b[38;5;124m\"\u001b[39m]\u001b[38;5;132;01m}\u001b[39;00m\u001b[38;5;124m \u001b[39m\u001b[38;5;124m'\u001b[39m\n\u001b[1;32m    740\u001b[0m             \u001b[38;5;124mf\u001b[39m\u001b[38;5;124m'\u001b[39m\u001b[38;5;124msupported models: \u001b[39m\u001b[38;5;132;01m{\u001b[39;00m\u001b[38;5;124m\"\u001b[39m\u001b[38;5;124m, \u001b[39m\u001b[38;5;124m\"\u001b[39m\u001b[38;5;241m.\u001b[39mjoin(\u001b[38;5;28mself\u001b[39m\u001b[38;5;241m.\u001b[39msupported_models)\u001b[38;5;132;01m}\u001b[39;00m\u001b[38;5;124m'\u001b[39m\n\u001b[1;32m    741\u001b[0m         )\n\u001b[0;32m--> 742\u001b[0m \u001b[38;5;28;01mreturn\u001b[39;00m func(\u001b[38;5;28mself\u001b[39m, \u001b[38;5;241m*\u001b[39margs, \u001b[38;5;241m*\u001b[39m\u001b[38;5;241m*\u001b[39mkwargs)\n",
      "File \u001b[0;32m/opt/anaconda3/lib/python3.11/site-packages/nixtla/nixtla_client.py:760\u001b[0m, in \u001b[0;36mpartition_by_uid.<locals>.wrapper\u001b[0;34m(self, num_partitions, **kwargs)\u001b[0m\n\u001b[1;32m    758\u001b[0m \u001b[38;5;28;01mdef\u001b[39;00m \u001b[38;5;21mwrapper\u001b[39m(\u001b[38;5;28mself\u001b[39m, num_partitions, \u001b[38;5;241m*\u001b[39m\u001b[38;5;241m*\u001b[39mkwargs):\n\u001b[1;32m    759\u001b[0m     \u001b[38;5;28;01mif\u001b[39;00m num_partitions \u001b[38;5;129;01mis\u001b[39;00m \u001b[38;5;28;01mNone\u001b[39;00m \u001b[38;5;129;01mor\u001b[39;00m num_partitions \u001b[38;5;241m==\u001b[39m \u001b[38;5;241m1\u001b[39m:\n\u001b[0;32m--> 760\u001b[0m         \u001b[38;5;28;01mreturn\u001b[39;00m func(\u001b[38;5;28mself\u001b[39m, \u001b[38;5;241m*\u001b[39m\u001b[38;5;241m*\u001b[39mkwargs, num_partitions\u001b[38;5;241m=\u001b[39m\u001b[38;5;241m1\u001b[39m)\n\u001b[1;32m    761\u001b[0m     df \u001b[38;5;241m=\u001b[39m kwargs\u001b[38;5;241m.\u001b[39mpop(\u001b[38;5;124m\"\u001b[39m\u001b[38;5;124mdf\u001b[39m\u001b[38;5;124m\"\u001b[39m)\n\u001b[1;32m    762\u001b[0m     X_df \u001b[38;5;241m=\u001b[39m kwargs\u001b[38;5;241m.\u001b[39mpop(\u001b[38;5;124m\"\u001b[39m\u001b[38;5;124mX_df\u001b[39m\u001b[38;5;124m\"\u001b[39m, \u001b[38;5;28;01mNone\u001b[39;00m)\n",
      "File \u001b[0;32m/opt/anaconda3/lib/python3.11/site-packages/nixtla/nixtla_client.py:988\u001b[0m, in \u001b[0;36m_NixtlaClient._forecast\u001b[0;34m(self, df, h, freq, id_col, time_col, target_col, X_df, level, quantiles, finetune_steps, finetune_loss, clean_ex_first, validate_api_key, add_history, date_features, date_features_to_one_hot, model, num_partitions)\u001b[0m\n\u001b[1;32m    966\u001b[0m nixtla_client_model \u001b[38;5;241m=\u001b[39m _NixtlaClientModel(\n\u001b[1;32m    967\u001b[0m     client\u001b[38;5;241m=\u001b[39m\u001b[38;5;28mself\u001b[39m\u001b[38;5;241m.\u001b[39mclient,\n\u001b[1;32m    968\u001b[0m     h\u001b[38;5;241m=\u001b[39mh,\n\u001b[0;32m   (...)\u001b[0m\n\u001b[1;32m    983\u001b[0m     max_wait_time\u001b[38;5;241m=\u001b[39m\u001b[38;5;28mself\u001b[39m\u001b[38;5;241m.\u001b[39mmax_wait_time,\n\u001b[1;32m    984\u001b[0m )\n\u001b[1;32m    985\u001b[0m df, X_df, uids_dtype \u001b[38;5;241m=\u001b[39m \u001b[38;5;28mself\u001b[39m\u001b[38;5;241m.\u001b[39m_uids_to_categorical(\n\u001b[1;32m    986\u001b[0m     df\u001b[38;5;241m=\u001b[39mdf, X_df\u001b[38;5;241m=\u001b[39mX_df, id_col\u001b[38;5;241m=\u001b[39mid_col\n\u001b[1;32m    987\u001b[0m )\n\u001b[0;32m--> 988\u001b[0m fcst_df \u001b[38;5;241m=\u001b[39m nixtla_client_model\u001b[38;5;241m.\u001b[39mforecast(\n\u001b[1;32m    989\u001b[0m     df\u001b[38;5;241m=\u001b[39mdf, X_df\u001b[38;5;241m=\u001b[39mX_df, add_history\u001b[38;5;241m=\u001b[39madd_history\n\u001b[1;32m    990\u001b[0m )\n\u001b[1;32m    991\u001b[0m fcst_df \u001b[38;5;241m=\u001b[39m \u001b[38;5;28mself\u001b[39m\u001b[38;5;241m.\u001b[39m_restore_uids(fcst_df, dtype\u001b[38;5;241m=\u001b[39muids_dtype, id_col\u001b[38;5;241m=\u001b[39mid_col)\n\u001b[1;32m    992\u001b[0m \u001b[38;5;28mself\u001b[39m\u001b[38;5;241m.\u001b[39mweights_x \u001b[38;5;241m=\u001b[39m nixtla_client_model\u001b[38;5;241m.\u001b[39mweights_x\n",
      "File \u001b[0;32m/opt/anaconda3/lib/python3.11/site-packages/nixtla/nixtla_client.py:570\u001b[0m, in \u001b[0;36m_NixtlaClientModel.forecast\u001b[0;34m(self, df, X_df, add_history)\u001b[0m\n\u001b[1;32m    568\u001b[0m df, X_df \u001b[38;5;241m=\u001b[39m \u001b[38;5;28mself\u001b[39m\u001b[38;5;241m.\u001b[39mtransform_inputs(df\u001b[38;5;241m=\u001b[39mdf, X_df\u001b[38;5;241m=\u001b[39mX_df)\n\u001b[1;32m    569\u001b[0m main_logger\u001b[38;5;241m.\u001b[39minfo(\u001b[38;5;124m\"\u001b[39m\u001b[38;5;124mPreprocessing dataframes...\u001b[39m\u001b[38;5;124m\"\u001b[39m)\n\u001b[0;32m--> 570\u001b[0m Y_df, X_df, x_cols \u001b[38;5;241m=\u001b[39m \u001b[38;5;28mself\u001b[39m\u001b[38;5;241m.\u001b[39mpreprocess_dataframes(df\u001b[38;5;241m=\u001b[39mdf, X_df\u001b[38;5;241m=\u001b[39mX_df)\n\u001b[1;32m    571\u001b[0m \u001b[38;5;28mself\u001b[39m\u001b[38;5;241m.\u001b[39mset_model_params()\n\u001b[1;32m    572\u001b[0m \u001b[38;5;28;01mif\u001b[39;00m \u001b[38;5;28mself\u001b[39m\u001b[38;5;241m.\u001b[39mh \u001b[38;5;241m>\u001b[39m \u001b[38;5;28mself\u001b[39m\u001b[38;5;241m.\u001b[39mmodel_horizon:\n",
      "File \u001b[0;32m/opt/anaconda3/lib/python3.11/site-packages/nixtla/nixtla_client.py:465\u001b[0m, in \u001b[0;36m_NixtlaClientModel.preprocess_dataframes\u001b[0;34m(self, df, X_df)\u001b[0m\n\u001b[1;32m    463\u001b[0m df, X_df \u001b[38;5;241m=\u001b[39m \u001b[38;5;28mself\u001b[39m\u001b[38;5;241m.\u001b[39madd_date_features(df\u001b[38;5;241m=\u001b[39mdf, X_df\u001b[38;5;241m=\u001b[39mX_df)\n\u001b[1;32m    464\u001b[0m y_cols \u001b[38;5;241m=\u001b[39m [\u001b[38;5;124m\"\u001b[39m\u001b[38;5;124munique_id\u001b[39m\u001b[38;5;124m\"\u001b[39m, \u001b[38;5;124m\"\u001b[39m\u001b[38;5;124mds\u001b[39m\u001b[38;5;124m\"\u001b[39m, \u001b[38;5;124m\"\u001b[39m\u001b[38;5;124my\u001b[39m\u001b[38;5;124m\"\u001b[39m]\n\u001b[0;32m--> 465\u001b[0m Y_df \u001b[38;5;241m=\u001b[39m df[y_cols]\n\u001b[1;32m    466\u001b[0m \u001b[38;5;28;01mif\u001b[39;00m Y_df[\u001b[38;5;124m\"\u001b[39m\u001b[38;5;124my\u001b[39m\u001b[38;5;124m\"\u001b[39m]\u001b[38;5;241m.\u001b[39misna()\u001b[38;5;241m.\u001b[39many():\n\u001b[1;32m    467\u001b[0m     \u001b[38;5;28;01mraise\u001b[39;00m \u001b[38;5;167;01mException\u001b[39;00m(\u001b[38;5;124m\"\u001b[39m\u001b[38;5;124mYour target variable contains NA, please check\u001b[39m\u001b[38;5;124m\"\u001b[39m)\n",
      "File \u001b[0;32m/opt/anaconda3/lib/python3.11/site-packages/pandas/core/frame.py:3899\u001b[0m, in \u001b[0;36mDataFrame.__getitem__\u001b[0;34m(self, key)\u001b[0m\n\u001b[1;32m   3897\u001b[0m     \u001b[38;5;28;01mif\u001b[39;00m is_iterator(key):\n\u001b[1;32m   3898\u001b[0m         key \u001b[38;5;241m=\u001b[39m \u001b[38;5;28mlist\u001b[39m(key)\n\u001b[0;32m-> 3899\u001b[0m     indexer \u001b[38;5;241m=\u001b[39m \u001b[38;5;28mself\u001b[39m\u001b[38;5;241m.\u001b[39mcolumns\u001b[38;5;241m.\u001b[39m_get_indexer_strict(key, \u001b[38;5;124m\"\u001b[39m\u001b[38;5;124mcolumns\u001b[39m\u001b[38;5;124m\"\u001b[39m)[\u001b[38;5;241m1\u001b[39m]\n\u001b[1;32m   3901\u001b[0m \u001b[38;5;66;03m# take() does not accept boolean indexers\u001b[39;00m\n\u001b[1;32m   3902\u001b[0m \u001b[38;5;28;01mif\u001b[39;00m \u001b[38;5;28mgetattr\u001b[39m(indexer, \u001b[38;5;124m\"\u001b[39m\u001b[38;5;124mdtype\u001b[39m\u001b[38;5;124m\"\u001b[39m, \u001b[38;5;28;01mNone\u001b[39;00m) \u001b[38;5;241m==\u001b[39m \u001b[38;5;28mbool\u001b[39m:\n",
      "File \u001b[0;32m/opt/anaconda3/lib/python3.11/site-packages/pandas/core/indexes/base.py:6115\u001b[0m, in \u001b[0;36mIndex._get_indexer_strict\u001b[0;34m(self, key, axis_name)\u001b[0m\n\u001b[1;32m   6112\u001b[0m \u001b[38;5;28;01melse\u001b[39;00m:\n\u001b[1;32m   6113\u001b[0m     keyarr, indexer, new_indexer \u001b[38;5;241m=\u001b[39m \u001b[38;5;28mself\u001b[39m\u001b[38;5;241m.\u001b[39m_reindex_non_unique(keyarr)\n\u001b[0;32m-> 6115\u001b[0m \u001b[38;5;28mself\u001b[39m\u001b[38;5;241m.\u001b[39m_raise_if_missing(keyarr, indexer, axis_name)\n\u001b[1;32m   6117\u001b[0m keyarr \u001b[38;5;241m=\u001b[39m \u001b[38;5;28mself\u001b[39m\u001b[38;5;241m.\u001b[39mtake(indexer)\n\u001b[1;32m   6118\u001b[0m \u001b[38;5;28;01mif\u001b[39;00m \u001b[38;5;28misinstance\u001b[39m(key, Index):\n\u001b[1;32m   6119\u001b[0m     \u001b[38;5;66;03m# GH 42790 - Preserve name from an Index\u001b[39;00m\n",
      "File \u001b[0;32m/opt/anaconda3/lib/python3.11/site-packages/pandas/core/indexes/base.py:6179\u001b[0m, in \u001b[0;36mIndex._raise_if_missing\u001b[0;34m(self, key, indexer, axis_name)\u001b[0m\n\u001b[1;32m   6176\u001b[0m     \u001b[38;5;28;01mraise\u001b[39;00m \u001b[38;5;167;01mKeyError\u001b[39;00m(\u001b[38;5;124mf\u001b[39m\u001b[38;5;124m\"\u001b[39m\u001b[38;5;124mNone of [\u001b[39m\u001b[38;5;132;01m{\u001b[39;00mkey\u001b[38;5;132;01m}\u001b[39;00m\u001b[38;5;124m] are in the [\u001b[39m\u001b[38;5;132;01m{\u001b[39;00maxis_name\u001b[38;5;132;01m}\u001b[39;00m\u001b[38;5;124m]\u001b[39m\u001b[38;5;124m\"\u001b[39m)\n\u001b[1;32m   6178\u001b[0m not_found \u001b[38;5;241m=\u001b[39m \u001b[38;5;28mlist\u001b[39m(ensure_index(key)[missing_mask\u001b[38;5;241m.\u001b[39mnonzero()[\u001b[38;5;241m0\u001b[39m]]\u001b[38;5;241m.\u001b[39munique())\n\u001b[0;32m-> 6179\u001b[0m \u001b[38;5;28;01mraise\u001b[39;00m \u001b[38;5;167;01mKeyError\u001b[39;00m(\u001b[38;5;124mf\u001b[39m\u001b[38;5;124m\"\u001b[39m\u001b[38;5;132;01m{\u001b[39;00mnot_found\u001b[38;5;132;01m}\u001b[39;00m\u001b[38;5;124m not in index\u001b[39m\u001b[38;5;124m\"\u001b[39m)\n",
      "\u001b[0;31mKeyError\u001b[0m: \"['y'] not in index\""
     ]
    }
   ],
   "source": [
    "# 2. Train the Model\n",
    "\n",
    "# Train the model with the training set\n",
    "trained_model = nixtla_client.forecast(\n",
    "    df=X_df_train,\n",
    "    h=12,  # forecast horizon\n",
    "    finetune_steps=10,  # number of fine-tuning steps\n",
    "    time_col='ds',\n",
    "    target_col='riceusdprice',\n",
    "    X_df = X_df_train\n",
    ")\n",
    "\n"
   ]
  },
  {
   "cell_type": "code",
   "execution_count": null,
   "id": "13f56d07",
   "metadata": {},
   "outputs": [],
   "source": [
    "# Ensure `X_df` includes exogenous variables for the forecast\n",
    "X_df = maize_forecast.merge(inflation_forecast, on='ds').merge(exchange_rate_actual, on='ds')\n",
    "\n",
    "# Forecast with the exogenous variables\n",
    "test_forecast = nixtla_client.forecast(\n",
    "    df=test_df,\n",
    "    h=12,  # forecast horizon\n",
    "    time_col='ds',\n",
    "    target_col='riceusdprice',\n",
    "    X_df=X_df  # Include exogenous variables\n",
    ")\n"
   ]
  },
  {
   "cell_type": "code",
   "execution_count": 174,
   "id": "8a28afa3",
   "metadata": {},
   "outputs": [
    {
     "name": "stderr",
     "output_type": "stream",
     "text": [
      "INFO:nixtla.nixtla_client:Validating inputs...\n",
      "INFO:nixtla.nixtla_client:Preprocessing dataframes...\n",
      "INFO:nixtla.nixtla_client:Inferred freq: MS\n",
      "WARNING:nixtla.nixtla_client:You did not provide X_df. Exogenous variables in df are ignored. To surpress this warning, please add X_df with exogenous variables: maizeusdprice, exchangerate, Inflation\n",
      "INFO:nixtla.nixtla_client:Restricting input...\n",
      "INFO:nixtla.nixtla_client:Calling Forecast Endpoint...\n",
      "/var/folders/fb/7_tr03xs3mz__43hcn2dy5dr0000gn/T/ipykernel_75231/3787486312.py:11: SettingWithCopyWarning: \n",
      "A value is trying to be set on a copy of a slice from a DataFrame.\n",
      "Try using .loc[row_indexer,col_indexer] = value instead\n",
      "\n",
      "See the caveats in the documentation: https://pandas.pydata.org/pandas-docs/stable/user_guide/indexing.html#returning-a-view-versus-a-copy\n",
      "  test_df['forecast'] = test_forecast['TimeGPT']\n"
     ]
    },
    {
     "ename": "KeyError",
     "evalue": "'riceusdprice'",
     "output_type": "error",
     "traceback": [
      "\u001b[0;31m---------------------------------------------------------------------------\u001b[0m",
      "\u001b[0;31mKeyError\u001b[0m                                  Traceback (most recent call last)",
      "File \u001b[0;32m/opt/anaconda3/lib/python3.11/site-packages/pandas/core/indexes/base.py:3791\u001b[0m, in \u001b[0;36mIndex.get_loc\u001b[0;34m(self, key)\u001b[0m\n\u001b[1;32m   3790\u001b[0m \u001b[38;5;28;01mtry\u001b[39;00m:\n\u001b[0;32m-> 3791\u001b[0m     \u001b[38;5;28;01mreturn\u001b[39;00m \u001b[38;5;28mself\u001b[39m\u001b[38;5;241m.\u001b[39m_engine\u001b[38;5;241m.\u001b[39mget_loc(casted_key)\n\u001b[1;32m   3792\u001b[0m \u001b[38;5;28;01mexcept\u001b[39;00m \u001b[38;5;167;01mKeyError\u001b[39;00m \u001b[38;5;28;01mas\u001b[39;00m err:\n",
      "File \u001b[0;32mindex.pyx:152\u001b[0m, in \u001b[0;36mpandas._libs.index.IndexEngine.get_loc\u001b[0;34m()\u001b[0m\n",
      "File \u001b[0;32mindex.pyx:181\u001b[0m, in \u001b[0;36mpandas._libs.index.IndexEngine.get_loc\u001b[0;34m()\u001b[0m\n",
      "File \u001b[0;32mpandas/_libs/hashtable_class_helper.pxi:7080\u001b[0m, in \u001b[0;36mpandas._libs.hashtable.PyObjectHashTable.get_item\u001b[0;34m()\u001b[0m\n",
      "File \u001b[0;32mpandas/_libs/hashtable_class_helper.pxi:7088\u001b[0m, in \u001b[0;36mpandas._libs.hashtable.PyObjectHashTable.get_item\u001b[0;34m()\u001b[0m\n",
      "\u001b[0;31mKeyError\u001b[0m: 'riceusdprice'",
      "\nThe above exception was the direct cause of the following exception:\n",
      "\u001b[0;31mKeyError\u001b[0m                                  Traceback (most recent call last)",
      "Cell \u001b[0;32mIn[174], line 13\u001b[0m\n\u001b[1;32m     11\u001b[0m test_df[\u001b[38;5;124m'\u001b[39m\u001b[38;5;124mforecast\u001b[39m\u001b[38;5;124m'\u001b[39m] \u001b[38;5;241m=\u001b[39m test_forecast[\u001b[38;5;124m'\u001b[39m\u001b[38;5;124mTimeGPT\u001b[39m\u001b[38;5;124m'\u001b[39m]\n\u001b[1;32m     12\u001b[0m plt\u001b[38;5;241m.\u001b[39mfigure(figsize\u001b[38;5;241m=\u001b[39m(\u001b[38;5;241m12\u001b[39m, \u001b[38;5;241m6\u001b[39m))\n\u001b[0;32m---> 13\u001b[0m plt\u001b[38;5;241m.\u001b[39mplot(test_df[\u001b[38;5;124m'\u001b[39m\u001b[38;5;124mds\u001b[39m\u001b[38;5;124m'\u001b[39m], test_df[\u001b[38;5;124m'\u001b[39m\u001b[38;5;124mriceusdprice\u001b[39m\u001b[38;5;124m'\u001b[39m], label\u001b[38;5;241m=\u001b[39m\u001b[38;5;124m'\u001b[39m\u001b[38;5;124mActual Prices\u001b[39m\u001b[38;5;124m'\u001b[39m)\n\u001b[1;32m     14\u001b[0m plt\u001b[38;5;241m.\u001b[39mplot(test_df[\u001b[38;5;124m'\u001b[39m\u001b[38;5;124mds\u001b[39m\u001b[38;5;124m'\u001b[39m], test_df[\u001b[38;5;124m'\u001b[39m\u001b[38;5;124mforecast\u001b[39m\u001b[38;5;124m'\u001b[39m], label\u001b[38;5;241m=\u001b[39m\u001b[38;5;124m'\u001b[39m\u001b[38;5;124mForecasted Prices\u001b[39m\u001b[38;5;124m'\u001b[39m)\n\u001b[1;32m     15\u001b[0m plt\u001b[38;5;241m.\u001b[39mxlabel(\u001b[38;5;124m'\u001b[39m\u001b[38;5;124mDate\u001b[39m\u001b[38;5;124m'\u001b[39m)\n",
      "File \u001b[0;32m/opt/anaconda3/lib/python3.11/site-packages/pandas/core/frame.py:3893\u001b[0m, in \u001b[0;36mDataFrame.__getitem__\u001b[0;34m(self, key)\u001b[0m\n\u001b[1;32m   3891\u001b[0m \u001b[38;5;28;01mif\u001b[39;00m \u001b[38;5;28mself\u001b[39m\u001b[38;5;241m.\u001b[39mcolumns\u001b[38;5;241m.\u001b[39mnlevels \u001b[38;5;241m>\u001b[39m \u001b[38;5;241m1\u001b[39m:\n\u001b[1;32m   3892\u001b[0m     \u001b[38;5;28;01mreturn\u001b[39;00m \u001b[38;5;28mself\u001b[39m\u001b[38;5;241m.\u001b[39m_getitem_multilevel(key)\n\u001b[0;32m-> 3893\u001b[0m indexer \u001b[38;5;241m=\u001b[39m \u001b[38;5;28mself\u001b[39m\u001b[38;5;241m.\u001b[39mcolumns\u001b[38;5;241m.\u001b[39mget_loc(key)\n\u001b[1;32m   3894\u001b[0m \u001b[38;5;28;01mif\u001b[39;00m is_integer(indexer):\n\u001b[1;32m   3895\u001b[0m     indexer \u001b[38;5;241m=\u001b[39m [indexer]\n",
      "File \u001b[0;32m/opt/anaconda3/lib/python3.11/site-packages/pandas/core/indexes/base.py:3798\u001b[0m, in \u001b[0;36mIndex.get_loc\u001b[0;34m(self, key)\u001b[0m\n\u001b[1;32m   3793\u001b[0m     \u001b[38;5;28;01mif\u001b[39;00m \u001b[38;5;28misinstance\u001b[39m(casted_key, \u001b[38;5;28mslice\u001b[39m) \u001b[38;5;129;01mor\u001b[39;00m (\n\u001b[1;32m   3794\u001b[0m         \u001b[38;5;28misinstance\u001b[39m(casted_key, abc\u001b[38;5;241m.\u001b[39mIterable)\n\u001b[1;32m   3795\u001b[0m         \u001b[38;5;129;01mand\u001b[39;00m \u001b[38;5;28many\u001b[39m(\u001b[38;5;28misinstance\u001b[39m(x, \u001b[38;5;28mslice\u001b[39m) \u001b[38;5;28;01mfor\u001b[39;00m x \u001b[38;5;129;01min\u001b[39;00m casted_key)\n\u001b[1;32m   3796\u001b[0m     ):\n\u001b[1;32m   3797\u001b[0m         \u001b[38;5;28;01mraise\u001b[39;00m InvalidIndexError(key)\n\u001b[0;32m-> 3798\u001b[0m     \u001b[38;5;28;01mraise\u001b[39;00m \u001b[38;5;167;01mKeyError\u001b[39;00m(key) \u001b[38;5;28;01mfrom\u001b[39;00m \u001b[38;5;21;01merr\u001b[39;00m\n\u001b[1;32m   3799\u001b[0m \u001b[38;5;28;01mexcept\u001b[39;00m \u001b[38;5;167;01mTypeError\u001b[39;00m:\n\u001b[1;32m   3800\u001b[0m     \u001b[38;5;66;03m# If we have a listlike key, _check_indexing_error will raise\u001b[39;00m\n\u001b[1;32m   3801\u001b[0m     \u001b[38;5;66;03m#  InvalidIndexError. Otherwise we fall through and re-raise\u001b[39;00m\n\u001b[1;32m   3802\u001b[0m     \u001b[38;5;66;03m#  the TypeError.\u001b[39;00m\n\u001b[1;32m   3803\u001b[0m     \u001b[38;5;28mself\u001b[39m\u001b[38;5;241m.\u001b[39m_check_indexing_error(key)\n",
      "\u001b[0;31mKeyError\u001b[0m: 'riceusdprice'"
     ]
    },
    {
     "data": {
      "text/plain": [
       "<Figure size 1200x600 with 0 Axes>"
      ]
     },
     "metadata": {},
     "output_type": "display_data"
    }
   ],
   "source": [
    "# 3. Test the Model\n",
    "# Forecast with the testing set\n",
    "test_forecast = nixtla_client.forecast(\n",
    "    df=test_df,\n",
    "    h=12,  # forecast horizon\n",
    "    time_col='ds',\n",
    "    target_col='riceusdprice',\n",
    ")\n",
    "\n",
    "# Compare the forecasts with the actual test data\n",
    "test_df['forecast'] = test_forecast['TimeGPT']\n",
    "plt.figure(figsize=(12, 6))\n",
    "plt.plot(test_df['ds'], test_df['riceusdprice'], label='Actual Prices')\n",
    "plt.plot(test_df['ds'], test_df['forecast'], label='Forecasted Prices')\n",
    "plt.xlabel('Date')\n",
    "plt.ylabel('Prices($)')\n",
    "plt.title('Actual vs Forecasted Prices')\n",
    "plt.legend()\n",
    "plt.grid(True)\n",
    "plt.show()\n"
   ]
  },
  {
   "cell_type": "code",
   "execution_count": null,
   "id": "a1ecf2d9",
   "metadata": {},
   "outputs": [],
   "source": []
  },
  {
   "cell_type": "code",
   "execution_count": null,
   "id": "f89b0de8",
   "metadata": {},
   "outputs": [],
   "source": []
  },
  {
   "cell_type": "code",
   "execution_count": null,
   "id": "4993d4df",
   "metadata": {},
   "outputs": [],
   "source": []
  },
  {
   "cell_type": "code",
   "execution_count": null,
   "id": "7c6b25a8",
   "metadata": {},
   "outputs": [],
   "source": []
  },
  {
   "cell_type": "code",
   "execution_count": null,
   "id": "71fea648",
   "metadata": {},
   "outputs": [],
   "source": []
  },
  {
   "cell_type": "code",
   "execution_count": null,
   "id": "80ad4725",
   "metadata": {},
   "outputs": [],
   "source": []
  },
  {
   "cell_type": "code",
   "execution_count": null,
   "id": "b2ad0b52",
   "metadata": {},
   "outputs": [],
   "source": []
  },
  {
   "cell_type": "code",
   "execution_count": null,
   "id": "66d423c0",
   "metadata": {},
   "outputs": [],
   "source": []
  },
  {
   "cell_type": "code",
   "execution_count": null,
   "id": "be5a58a9",
   "metadata": {},
   "outputs": [],
   "source": []
  },
  {
   "cell_type": "code",
   "execution_count": null,
   "id": "9db005a8",
   "metadata": {},
   "outputs": [],
   "source": []
  },
  {
   "cell_type": "code",
   "execution_count": 146,
   "id": "db1719b2",
   "metadata": {},
   "outputs": [],
   "source": [
    "# Finetuning"
   ]
  },
  {
   "cell_type": "code",
   "execution_count": 150,
   "id": "194b7781",
   "metadata": {},
   "outputs": [
    {
     "data": {
      "text/html": [
       "<div>\n",
       "<style scoped>\n",
       "    .dataframe tbody tr th:only-of-type {\n",
       "        vertical-align: middle;\n",
       "    }\n",
       "\n",
       "    .dataframe tbody tr th {\n",
       "        vertical-align: top;\n",
       "    }\n",
       "\n",
       "    .dataframe thead th {\n",
       "        text-align: right;\n",
       "    }\n",
       "</style>\n",
       "<table border=\"1\" class=\"dataframe\">\n",
       "  <thead>\n",
       "    <tr style=\"text-align: right;\">\n",
       "      <th></th>\n",
       "      <th>ds</th>\n",
       "      <th>y</th>\n",
       "      <th>maizeusdprice</th>\n",
       "      <th>exchangerate</th>\n",
       "      <th>Inflation</th>\n",
       "    </tr>\n",
       "  </thead>\n",
       "  <tbody>\n",
       "    <tr>\n",
       "      <th>0</th>\n",
       "      <td>2007-01-01</td>\n",
       "      <td>37.844100</td>\n",
       "      <td>20.495183</td>\n",
       "      <td>0.9210</td>\n",
       "      <td>18.541578</td>\n",
       "    </tr>\n",
       "    <tr>\n",
       "      <th>1</th>\n",
       "      <td>2007-02-01</td>\n",
       "      <td>36.425600</td>\n",
       "      <td>22.002383</td>\n",
       "      <td>0.9295</td>\n",
       "      <td>14.262831</td>\n",
       "    </tr>\n",
       "    <tr>\n",
       "      <th>2</th>\n",
       "      <td>2007-03-01</td>\n",
       "      <td>36.701883</td>\n",
       "      <td>23.088567</td>\n",
       "      <td>0.9263</td>\n",
       "      <td>13.017348</td>\n",
       "    </tr>\n",
       "    <tr>\n",
       "      <th>3</th>\n",
       "      <td>2007-04-01</td>\n",
       "      <td>37.661983</td>\n",
       "      <td>24.117650</td>\n",
       "      <td>0.9270</td>\n",
       "      <td>12.367792</td>\n",
       "    </tr>\n",
       "    <tr>\n",
       "      <th>4</th>\n",
       "      <td>2007-05-01</td>\n",
       "      <td>38.772450</td>\n",
       "      <td>24.460667</td>\n",
       "      <td>0.9276</td>\n",
       "      <td>12.314164</td>\n",
       "    </tr>\n",
       "    <tr>\n",
       "      <th>...</th>\n",
       "      <td>...</td>\n",
       "      <td>...</td>\n",
       "      <td>...</td>\n",
       "      <td>...</td>\n",
       "      <td>...</td>\n",
       "    </tr>\n",
       "    <tr>\n",
       "      <th>194</th>\n",
       "      <td>2023-03-01</td>\n",
       "      <td>46.517338</td>\n",
       "      <td>45.828924</td>\n",
       "      <td>11.5500</td>\n",
       "      <td>49.526084</td>\n",
       "    </tr>\n",
       "    <tr>\n",
       "      <th>195</th>\n",
       "      <td>2023-04-01</td>\n",
       "      <td>44.311413</td>\n",
       "      <td>52.308482</td>\n",
       "      <td>11.8000</td>\n",
       "      <td>51.083382</td>\n",
       "    </tr>\n",
       "    <tr>\n",
       "      <th>196</th>\n",
       "      <td>2023-05-01</td>\n",
       "      <td>42.071260</td>\n",
       "      <td>54.955418</td>\n",
       "      <td>11.2500</td>\n",
       "      <td>52.640680</td>\n",
       "    </tr>\n",
       "    <tr>\n",
       "      <th>197</th>\n",
       "      <td>2023-06-01</td>\n",
       "      <td>43.822793</td>\n",
       "      <td>55.113344</td>\n",
       "      <td>11.3250</td>\n",
       "      <td>54.197978</td>\n",
       "    </tr>\n",
       "    <tr>\n",
       "      <th>198</th>\n",
       "      <td>2023-07-01</td>\n",
       "      <td>48.791354</td>\n",
       "      <td>53.437529</td>\n",
       "      <td>11.3200</td>\n",
       "      <td>55.755276</td>\n",
       "    </tr>\n",
       "  </tbody>\n",
       "</table>\n",
       "<p>199 rows × 5 columns</p>\n",
       "</div>"
      ],
      "text/plain": [
       "            ds          y  maizeusdprice  exchangerate  Inflation\n",
       "0   2007-01-01  37.844100      20.495183        0.9210  18.541578\n",
       "1   2007-02-01  36.425600      22.002383        0.9295  14.262831\n",
       "2   2007-03-01  36.701883      23.088567        0.9263  13.017348\n",
       "3   2007-04-01  37.661983      24.117650        0.9270  12.367792\n",
       "4   2007-05-01  38.772450      24.460667        0.9276  12.314164\n",
       "..         ...        ...            ...           ...        ...\n",
       "194 2023-03-01  46.517338      45.828924       11.5500  49.526084\n",
       "195 2023-04-01  44.311413      52.308482       11.8000  51.083382\n",
       "196 2023-05-01  42.071260      54.955418       11.2500  52.640680\n",
       "197 2023-06-01  43.822793      55.113344       11.3250  54.197978\n",
       "198 2023-07-01  48.791354      53.437529       11.3200  55.755276\n",
       "\n",
       "[199 rows x 5 columns]"
      ]
     },
     "execution_count": 150,
     "metadata": {},
     "output_type": "execute_result"
    }
   ],
   "source": [
    "nix_df"
   ]
  },
  {
   "cell_type": "code",
   "execution_count": 153,
   "id": "243acefe",
   "metadata": {},
   "outputs": [
    {
     "name": "stderr",
     "output_type": "stream",
     "text": [
      "INFO:nixtla.nixtla_client:Validating inputs...\n",
      "INFO:nixtla.nixtla_client:Preprocessing dataframes...\n",
      "INFO:nixtla.nixtla_client:Inferred freq: MS\n",
      "INFO:nixtla.nixtla_client:Using the following exogenous variables: maizeusdprice, exchangerate, Inflation\n",
      "INFO:nixtla.nixtla_client:Calling Forecast Endpoint...\n"
     ]
    }
   ],
   "source": [
    "# Assuming 'future_exogenous_df' contains future values for exogenous variables\n",
    "# Prepare future exogenous DataFrame for the next 12 periods (monthly in this example)\n",
    "future_exogenous_df = pd.DataFrame({\n",
    "    'ds': pd.date_range(start=nix_df['ds'].max() + pd.DateOffset(months=1), periods=12, freq='MS'),\n",
    "    'maizeusdprice': X_df['maizeusdprice_forecast'].values * 12,  # Replace 'your_value' with actual forecasted values\n",
    "    'exchangerate': X_df['exchangerate'].values * 12,\n",
    "    'Inflation': X_df['Inflation_forecast'].values  * 12\n",
    "})\n",
    "\n",
    "# Convert 'ds' to datetime format\n",
    "future_exogenous_df['ds'] = pd.to_datetime(future_exogenous_df['ds'], format='%Y-%m-%d')\n",
    "\n",
    "# Ensure 'ds' is in the right format for the forecast\n",
    "future_exogenous_df['ds'] = future_exogenous_df['ds'].dt.to_period('M').dt.to_timestamp()\n",
    "\n",
    "# Forecast with the exogenous variables\n",
    "timegpt_fcst_finetune_df = nixtla_client.forecast(\n",
    "    df=nix_df,\n",
    "    h=12,\n",
    "    finetune_steps=10,\n",
    "    time_col='ds',\n",
    "    target_col='y',\n",
    "    X_df=future_exogenous_df  # Include future exogenous variables\n",
    ")\n"
   ]
  },
  {
   "cell_type": "code",
   "execution_count": 154,
   "id": "eac183f0",
   "metadata": {
    "scrolled": true
   },
   "outputs": [
    {
     "name": "stderr",
     "output_type": "stream",
     "text": [
      "INFO:nixtla.nixtla_client:Validating inputs...\n",
      "INFO:nixtla.nixtla_client:Preprocessing dataframes...\n",
      "INFO:nixtla.nixtla_client:Inferred freq: MS\n",
      "WARNING:nixtla.nixtla_client:You did not provide X_df. Exogenous variables in df are ignored. To surpress this warning, please add X_df with exogenous variables: maizeusdprice, exchangerate, Inflation\n",
      "INFO:nixtla.nixtla_client:Calling Forecast Endpoint...\n"
     ]
    }
   ],
   "source": [
    "timegpt_fcst_finetune_df = nixtla_client.forecast(\n",
    "    df=nix_df, h=12, finetune_steps=10,\n",
    "    time_col='ds', target_col='y',\n",
    ")"
   ]
  },
  {
   "cell_type": "code",
   "execution_count": 160,
   "id": "02a40de8",
   "metadata": {},
   "outputs": [
    {
     "ename": "TypeError",
     "evalue": "unhashable type: 'Series'",
     "output_type": "error",
     "traceback": [
      "\u001b[0;31m---------------------------------------------------------------------------\u001b[0m",
      "\u001b[0;31mTypeError\u001b[0m                                 Traceback (most recent call last)",
      "Cell \u001b[0;32mIn[160], line 1\u001b[0m\n\u001b[0;32m----> 1\u001b[0m nixtla_client\u001b[38;5;241m.\u001b[39mplot(\n\u001b[1;32m      2\u001b[0m     df, timegpt_fcst_finetune_df, \n\u001b[1;32m      3\u001b[0m     time_col\u001b[38;5;241m=\u001b[39m\u001b[38;5;124m'\u001b[39m\u001b[38;5;124mds\u001b[39m\u001b[38;5;124m'\u001b[39m , target_col\u001b[38;5;241m=\u001b[39my,\n\u001b[1;32m      4\u001b[0m )\n",
      "File \u001b[0;32m/opt/anaconda3/lib/python3.11/site-packages/nixtla/nixtla_client.py:1184\u001b[0m, in \u001b[0;36m_NixtlaClient.plot\u001b[0;34m(self, df, forecasts_df, id_col, time_col, target_col, unique_ids, plot_random, models, level, max_insample_length, plot_anomalies, engine, resampler_kwargs)\u001b[0m\n\u001b[1;32m   1182\u001b[0m         \u001b[38;5;66;03m# prevent double plotting\u001b[39;00m\n\u001b[1;32m   1183\u001b[0m         df\u001b[38;5;241m.\u001b[39mloc[:, target_col] \u001b[38;5;241m=\u001b[39m np\u001b[38;5;241m.\u001b[39mnan\n\u001b[0;32m-> 1184\u001b[0m \u001b[38;5;28;01mreturn\u001b[39;00m plot_series(\n\u001b[1;32m   1185\u001b[0m     df\u001b[38;5;241m=\u001b[39mdf,\n\u001b[1;32m   1186\u001b[0m     forecasts_df\u001b[38;5;241m=\u001b[39mforecasts_df,\n\u001b[1;32m   1187\u001b[0m     ids\u001b[38;5;241m=\u001b[39munique_ids,\n\u001b[1;32m   1188\u001b[0m     plot_random\u001b[38;5;241m=\u001b[39mplot_random,\n\u001b[1;32m   1189\u001b[0m     models\u001b[38;5;241m=\u001b[39mmodels,\n\u001b[1;32m   1190\u001b[0m     level\u001b[38;5;241m=\u001b[39mlevel,\n\u001b[1;32m   1191\u001b[0m     max_insample_length\u001b[38;5;241m=\u001b[39mmax_insample_length,\n\u001b[1;32m   1192\u001b[0m     plot_anomalies\u001b[38;5;241m=\u001b[39mplot_anomalies,\n\u001b[1;32m   1193\u001b[0m     engine\u001b[38;5;241m=\u001b[39mengine,\n\u001b[1;32m   1194\u001b[0m     resampler_kwargs\u001b[38;5;241m=\u001b[39mresampler_kwargs,\n\u001b[1;32m   1195\u001b[0m     palette\u001b[38;5;241m=\u001b[39m\u001b[38;5;124m\"\u001b[39m\u001b[38;5;124mtab20b\u001b[39m\u001b[38;5;124m\"\u001b[39m,\n\u001b[1;32m   1196\u001b[0m     id_col\u001b[38;5;241m=\u001b[39mid_col,\n\u001b[1;32m   1197\u001b[0m     time_col\u001b[38;5;241m=\u001b[39mtime_col,\n\u001b[1;32m   1198\u001b[0m     target_col\u001b[38;5;241m=\u001b[39mtarget_col,\n\u001b[1;32m   1199\u001b[0m )\n",
      "File \u001b[0;32m/opt/anaconda3/lib/python3.11/site-packages/utilsforecast/plotting.py:147\u001b[0m, in \u001b[0;36mplot_series\u001b[0;34m(df, forecasts_df, ids, plot_random, max_ids, models, level, max_insample_length, plot_anomalies, engine, palette, id_col, time_col, target_col, seed, resampler_kwargs, ax)\u001b[0m\n\u001b[1;32m    145\u001b[0m     \u001b[38;5;28;01mraise\u001b[39;00m \u001b[38;5;167;01mValueError\u001b[39;00m(\u001b[38;5;124m\"\u001b[39m\u001b[38;5;124mAt least one of `df` and `forecasts_df` must be provided.\u001b[39m\u001b[38;5;124m\"\u001b[39m)\n\u001b[1;32m    146\u001b[0m \u001b[38;5;28;01melif\u001b[39;00m df \u001b[38;5;129;01mis\u001b[39;00m \u001b[38;5;129;01mnot\u001b[39;00m \u001b[38;5;28;01mNone\u001b[39;00m:\n\u001b[0;32m--> 147\u001b[0m     validate_format(df, id_col, time_col, target_col)\n\u001b[1;32m    148\u001b[0m \u001b[38;5;28;01melif\u001b[39;00m forecasts_df \u001b[38;5;129;01mis\u001b[39;00m \u001b[38;5;129;01mnot\u001b[39;00m \u001b[38;5;28;01mNone\u001b[39;00m:\n\u001b[1;32m    149\u001b[0m     validate_format(forecasts_df, id_col, time_col, \u001b[38;5;28;01mNone\u001b[39;00m)\n",
      "File \u001b[0;32m/opt/anaconda3/lib/python3.11/site-packages/utilsforecast/validation.py:106\u001b[0m, in \u001b[0;36mvalidate_format\u001b[0;34m(df, id_col, time_col, target_col)\u001b[0m\n\u001b[1;32m    104\u001b[0m expected_cols \u001b[38;5;241m=\u001b[39m {id_col, time_col}\n\u001b[1;32m    105\u001b[0m \u001b[38;5;28;01mif\u001b[39;00m target_col \u001b[38;5;129;01mis\u001b[39;00m \u001b[38;5;129;01mnot\u001b[39;00m \u001b[38;5;28;01mNone\u001b[39;00m:\n\u001b[0;32m--> 106\u001b[0m     expected_cols\u001b[38;5;241m.\u001b[39madd(target_col)\n\u001b[1;32m    107\u001b[0m missing_cols \u001b[38;5;241m=\u001b[39m \u001b[38;5;28msorted\u001b[39m(expected_cols \u001b[38;5;241m-\u001b[39m \u001b[38;5;28mset\u001b[39m(df\u001b[38;5;241m.\u001b[39mcolumns))\n\u001b[1;32m    108\u001b[0m \u001b[38;5;28;01mif\u001b[39;00m missing_cols:\n",
      "\u001b[0;31mTypeError\u001b[0m: unhashable type: 'Series'"
     ]
    }
   ],
   "source": [
    "nixtla_client.plot(\n",
    "    df, timegpt_fcst_finetune_df, \n",
    "    time_col='ds' , target_col=y,\n",
    ")"
   ]
  },
  {
   "cell_type": "code",
   "execution_count": 192,
   "id": "0ce40572",
   "metadata": {},
   "outputs": [
    {
     "name": "stderr",
     "output_type": "stream",
     "text": [
      "INFO:nixtla.nixtla_client:Validating inputs...\n",
      "INFO:nixtla.nixtla_client:Preprocessing dataframes...\n"
     ]
    },
    {
     "ename": "IndexError",
     "evalue": "single positional indexer is out-of-bounds",
     "output_type": "error",
     "traceback": [
      "\u001b[0;31m---------------------------------------------------------------------------\u001b[0m",
      "\u001b[0;31mIndexError\u001b[0m                                Traceback (most recent call last)",
      "Cell \u001b[0;32mIn[192], line 43\u001b[0m\n\u001b[1;32m     40\u001b[0m nixtla_client \u001b[38;5;241m=\u001b[39m NixtlaClient(api_key\u001b[38;5;241m=\u001b[39m\u001b[38;5;124m'\u001b[39m\u001b[38;5;124myour_api_key\u001b[39m\u001b[38;5;124m'\u001b[39m)  \u001b[38;5;66;03m# Replace with your API key\u001b[39;00m\n\u001b[1;32m     42\u001b[0m \u001b[38;5;66;03m# Train the model\u001b[39;00m\n\u001b[0;32m---> 43\u001b[0m main_forecast \u001b[38;5;241m=\u001b[39m nixtla_client\u001b[38;5;241m.\u001b[39mforecast(\n\u001b[1;32m     44\u001b[0m     df\u001b[38;5;241m=\u001b[39mtrain_reset,\n\u001b[1;32m     45\u001b[0m     h\u001b[38;5;241m=\u001b[39m\u001b[38;5;28mlen\u001b[39m(test),\n\u001b[1;32m     46\u001b[0m     target_col\u001b[38;5;241m=\u001b[39m\u001b[38;5;124m'\u001b[39m\u001b[38;5;124mriceusdprice\u001b[39m\u001b[38;5;124m'\u001b[39m,\n\u001b[1;32m     47\u001b[0m     X_df\u001b[38;5;241m=\u001b[39mtrain_exogenous\u001b[38;5;241m.\u001b[39mreset_index(drop\u001b[38;5;241m=\u001b[39m\u001b[38;5;28;01mTrue\u001b[39;00m)\n\u001b[1;32m     48\u001b[0m )\n\u001b[1;32m     50\u001b[0m \u001b[38;5;66;03m# Make predictions\u001b[39;00m\n\u001b[1;32m     51\u001b[0m predictions_df \u001b[38;5;241m=\u001b[39m nixtla_client\u001b[38;5;241m.\u001b[39mforecast(\n\u001b[1;32m     52\u001b[0m     df\u001b[38;5;241m=\u001b[39mtest_reset,\n\u001b[1;32m     53\u001b[0m     h\u001b[38;5;241m=\u001b[39m\u001b[38;5;28mlen\u001b[39m(test),\n\u001b[1;32m     54\u001b[0m     target_col\u001b[38;5;241m=\u001b[39m\u001b[38;5;124m'\u001b[39m\u001b[38;5;124mriceusdprice\u001b[39m\u001b[38;5;124m'\u001b[39m,\n\u001b[1;32m     55\u001b[0m     X_df\u001b[38;5;241m=\u001b[39mtest_exogenous_future\n\u001b[1;32m     56\u001b[0m )\n",
      "File \u001b[0;32m/opt/anaconda3/lib/python3.11/site-packages/nixtla/nixtla_client.py:60\u001b[0m, in \u001b[0;36mdeprecated_argument.<locals>.decorator.<locals>.wrapper\u001b[0;34m(*args, **kwargs)\u001b[0m\n\u001b[1;32m     58\u001b[0m         \u001b[38;5;28;01mraise\u001b[39;00m \u001b[38;5;167;01mTypeError\u001b[39;00m(\u001b[38;5;124mf\u001b[39m\u001b[38;5;124m\"\u001b[39m\u001b[38;5;132;01m{\u001b[39;00mnew_name\u001b[38;5;132;01m}\u001b[39;00m\u001b[38;5;124m argument duplicated\u001b[39m\u001b[38;5;124m\"\u001b[39m)\n\u001b[1;32m     59\u001b[0m     kwargs[new_name] \u001b[38;5;241m=\u001b[39m kwargs\u001b[38;5;241m.\u001b[39mpop(old_name)\n\u001b[0;32m---> 60\u001b[0m \u001b[38;5;28;01mreturn\u001b[39;00m func(\u001b[38;5;241m*\u001b[39margs, \u001b[38;5;241m*\u001b[39m\u001b[38;5;241m*\u001b[39mkwargs)\n",
      "File \u001b[0;32m/opt/anaconda3/lib/python3.11/site-packages/nixtla/nixtla_client.py:60\u001b[0m, in \u001b[0;36mdeprecated_argument.<locals>.decorator.<locals>.wrapper\u001b[0;34m(*args, **kwargs)\u001b[0m\n\u001b[1;32m     58\u001b[0m         \u001b[38;5;28;01mraise\u001b[39;00m \u001b[38;5;167;01mTypeError\u001b[39;00m(\u001b[38;5;124mf\u001b[39m\u001b[38;5;124m\"\u001b[39m\u001b[38;5;132;01m{\u001b[39;00mnew_name\u001b[38;5;132;01m}\u001b[39;00m\u001b[38;5;124m argument duplicated\u001b[39m\u001b[38;5;124m\"\u001b[39m)\n\u001b[1;32m     59\u001b[0m     kwargs[new_name] \u001b[38;5;241m=\u001b[39m kwargs\u001b[38;5;241m.\u001b[39mpop(old_name)\n\u001b[0;32m---> 60\u001b[0m \u001b[38;5;28;01mreturn\u001b[39;00m func(\u001b[38;5;241m*\u001b[39margs, \u001b[38;5;241m*\u001b[39m\u001b[38;5;241m*\u001b[39mkwargs)\n",
      "File \u001b[0;32m/opt/anaconda3/lib/python3.11/site-packages/nixtla/nixtla_client.py:1316\u001b[0m, in \u001b[0;36mNixtlaClient.forecast\u001b[0;34m(self, df, h, freq, id_col, time_col, target_col, X_df, level, quantiles, finetune_steps, finetune_loss, clean_ex_first, validate_api_key, add_history, date_features, date_features_to_one_hot, model, num_partitions)\u001b[0m\n\u001b[1;32m   1239\u001b[0m \u001b[38;5;250m\u001b[39m\u001b[38;5;124;03m\"\"\"Forecast your time series using TimeGPT.\u001b[39;00m\n\u001b[1;32m   1240\u001b[0m \n\u001b[1;32m   1241\u001b[0m \u001b[38;5;124;03mParameters\u001b[39;00m\n\u001b[0;32m   (...)\u001b[0m\n\u001b[1;32m   1313\u001b[0m \u001b[38;5;124;03m    predictions (if level is not None).\u001b[39;00m\n\u001b[1;32m   1314\u001b[0m \u001b[38;5;124;03m\"\"\"\u001b[39;00m\n\u001b[1;32m   1315\u001b[0m \u001b[38;5;28;01mif\u001b[39;00m \u001b[38;5;28misinstance\u001b[39m(df, pd\u001b[38;5;241m.\u001b[39mDataFrame):\n\u001b[0;32m-> 1316\u001b[0m     \u001b[38;5;28;01mreturn\u001b[39;00m \u001b[38;5;28mself\u001b[39m\u001b[38;5;241m.\u001b[39m_forecast(\n\u001b[1;32m   1317\u001b[0m         df\u001b[38;5;241m=\u001b[39mdf,\n\u001b[1;32m   1318\u001b[0m         h\u001b[38;5;241m=\u001b[39mh,\n\u001b[1;32m   1319\u001b[0m         freq\u001b[38;5;241m=\u001b[39mfreq,\n\u001b[1;32m   1320\u001b[0m         id_col\u001b[38;5;241m=\u001b[39mid_col,\n\u001b[1;32m   1321\u001b[0m         time_col\u001b[38;5;241m=\u001b[39mtime_col,\n\u001b[1;32m   1322\u001b[0m         target_col\u001b[38;5;241m=\u001b[39mtarget_col,\n\u001b[1;32m   1323\u001b[0m         X_df\u001b[38;5;241m=\u001b[39mX_df,\n\u001b[1;32m   1324\u001b[0m         level\u001b[38;5;241m=\u001b[39mlevel,\n\u001b[1;32m   1325\u001b[0m         quantiles\u001b[38;5;241m=\u001b[39mquantiles,\n\u001b[1;32m   1326\u001b[0m         finetune_steps\u001b[38;5;241m=\u001b[39mfinetune_steps,\n\u001b[1;32m   1327\u001b[0m         finetune_loss\u001b[38;5;241m=\u001b[39mfinetune_loss,\n\u001b[1;32m   1328\u001b[0m         clean_ex_first\u001b[38;5;241m=\u001b[39mclean_ex_first,\n\u001b[1;32m   1329\u001b[0m         validate_api_key\u001b[38;5;241m=\u001b[39mvalidate_api_key,\n\u001b[1;32m   1330\u001b[0m         add_history\u001b[38;5;241m=\u001b[39madd_history,\n\u001b[1;32m   1331\u001b[0m         date_features\u001b[38;5;241m=\u001b[39mdate_features,\n\u001b[1;32m   1332\u001b[0m         date_features_to_one_hot\u001b[38;5;241m=\u001b[39mdate_features_to_one_hot,\n\u001b[1;32m   1333\u001b[0m         model\u001b[38;5;241m=\u001b[39mmodel,\n\u001b[1;32m   1334\u001b[0m         num_partitions\u001b[38;5;241m=\u001b[39mnum_partitions,\n\u001b[1;32m   1335\u001b[0m     )\n\u001b[1;32m   1336\u001b[0m \u001b[38;5;28;01melse\u001b[39;00m:\n\u001b[1;32m   1337\u001b[0m     dist_nixtla_client \u001b[38;5;241m=\u001b[39m \u001b[38;5;28mself\u001b[39m\u001b[38;5;241m.\u001b[39m_instantiate_distributed_nixtla_client()\n",
      "File \u001b[0;32m/opt/anaconda3/lib/python3.11/site-packages/nixtla/nixtla_client.py:742\u001b[0m, in \u001b[0;36mvalidate_model_parameter.<locals>.wrapper\u001b[0;34m(self, *args, **kwargs)\u001b[0m\n\u001b[1;32m    737\u001b[0m     \u001b[38;5;28;01mif\u001b[39;00m model \u001b[38;5;129;01mnot\u001b[39;00m \u001b[38;5;129;01min\u001b[39;00m \u001b[38;5;28mself\u001b[39m\u001b[38;5;241m.\u001b[39msupported_models:\n\u001b[1;32m    738\u001b[0m         \u001b[38;5;28;01mraise\u001b[39;00m \u001b[38;5;167;01mValueError\u001b[39;00m(\n\u001b[1;32m    739\u001b[0m             \u001b[38;5;124mf\u001b[39m\u001b[38;5;124m'\u001b[39m\u001b[38;5;124munsupported model: \u001b[39m\u001b[38;5;132;01m{\u001b[39;00mkwargs[\u001b[38;5;124m\"\u001b[39m\u001b[38;5;124mmodel\u001b[39m\u001b[38;5;124m\"\u001b[39m]\u001b[38;5;132;01m}\u001b[39;00m\u001b[38;5;124m \u001b[39m\u001b[38;5;124m'\u001b[39m\n\u001b[1;32m    740\u001b[0m             \u001b[38;5;124mf\u001b[39m\u001b[38;5;124m'\u001b[39m\u001b[38;5;124msupported models: \u001b[39m\u001b[38;5;132;01m{\u001b[39;00m\u001b[38;5;124m\"\u001b[39m\u001b[38;5;124m, \u001b[39m\u001b[38;5;124m\"\u001b[39m\u001b[38;5;241m.\u001b[39mjoin(\u001b[38;5;28mself\u001b[39m\u001b[38;5;241m.\u001b[39msupported_models)\u001b[38;5;132;01m}\u001b[39;00m\u001b[38;5;124m'\u001b[39m\n\u001b[1;32m    741\u001b[0m         )\n\u001b[0;32m--> 742\u001b[0m \u001b[38;5;28;01mreturn\u001b[39;00m func(\u001b[38;5;28mself\u001b[39m, \u001b[38;5;241m*\u001b[39margs, \u001b[38;5;241m*\u001b[39m\u001b[38;5;241m*\u001b[39mkwargs)\n",
      "File \u001b[0;32m/opt/anaconda3/lib/python3.11/site-packages/nixtla/nixtla_client.py:760\u001b[0m, in \u001b[0;36mpartition_by_uid.<locals>.wrapper\u001b[0;34m(self, num_partitions, **kwargs)\u001b[0m\n\u001b[1;32m    758\u001b[0m \u001b[38;5;28;01mdef\u001b[39;00m \u001b[38;5;21mwrapper\u001b[39m(\u001b[38;5;28mself\u001b[39m, num_partitions, \u001b[38;5;241m*\u001b[39m\u001b[38;5;241m*\u001b[39mkwargs):\n\u001b[1;32m    759\u001b[0m     \u001b[38;5;28;01mif\u001b[39;00m num_partitions \u001b[38;5;129;01mis\u001b[39;00m \u001b[38;5;28;01mNone\u001b[39;00m \u001b[38;5;129;01mor\u001b[39;00m num_partitions \u001b[38;5;241m==\u001b[39m \u001b[38;5;241m1\u001b[39m:\n\u001b[0;32m--> 760\u001b[0m         \u001b[38;5;28;01mreturn\u001b[39;00m func(\u001b[38;5;28mself\u001b[39m, \u001b[38;5;241m*\u001b[39m\u001b[38;5;241m*\u001b[39mkwargs, num_partitions\u001b[38;5;241m=\u001b[39m\u001b[38;5;241m1\u001b[39m)\n\u001b[1;32m    761\u001b[0m     df \u001b[38;5;241m=\u001b[39m kwargs\u001b[38;5;241m.\u001b[39mpop(\u001b[38;5;124m\"\u001b[39m\u001b[38;5;124mdf\u001b[39m\u001b[38;5;124m\"\u001b[39m)\n\u001b[1;32m    762\u001b[0m     X_df \u001b[38;5;241m=\u001b[39m kwargs\u001b[38;5;241m.\u001b[39mpop(\u001b[38;5;124m\"\u001b[39m\u001b[38;5;124mX_df\u001b[39m\u001b[38;5;124m\"\u001b[39m, \u001b[38;5;28;01mNone\u001b[39;00m)\n",
      "File \u001b[0;32m/opt/anaconda3/lib/python3.11/site-packages/nixtla/nixtla_client.py:988\u001b[0m, in \u001b[0;36m_NixtlaClient._forecast\u001b[0;34m(self, df, h, freq, id_col, time_col, target_col, X_df, level, quantiles, finetune_steps, finetune_loss, clean_ex_first, validate_api_key, add_history, date_features, date_features_to_one_hot, model, num_partitions)\u001b[0m\n\u001b[1;32m    966\u001b[0m nixtla_client_model \u001b[38;5;241m=\u001b[39m _NixtlaClientModel(\n\u001b[1;32m    967\u001b[0m     client\u001b[38;5;241m=\u001b[39m\u001b[38;5;28mself\u001b[39m\u001b[38;5;241m.\u001b[39mclient,\n\u001b[1;32m    968\u001b[0m     h\u001b[38;5;241m=\u001b[39mh,\n\u001b[0;32m   (...)\u001b[0m\n\u001b[1;32m    983\u001b[0m     max_wait_time\u001b[38;5;241m=\u001b[39m\u001b[38;5;28mself\u001b[39m\u001b[38;5;241m.\u001b[39mmax_wait_time,\n\u001b[1;32m    984\u001b[0m )\n\u001b[1;32m    985\u001b[0m df, X_df, uids_dtype \u001b[38;5;241m=\u001b[39m \u001b[38;5;28mself\u001b[39m\u001b[38;5;241m.\u001b[39m_uids_to_categorical(\n\u001b[1;32m    986\u001b[0m     df\u001b[38;5;241m=\u001b[39mdf, X_df\u001b[38;5;241m=\u001b[39mX_df, id_col\u001b[38;5;241m=\u001b[39mid_col\n\u001b[1;32m    987\u001b[0m )\n\u001b[0;32m--> 988\u001b[0m fcst_df \u001b[38;5;241m=\u001b[39m nixtla_client_model\u001b[38;5;241m.\u001b[39mforecast(\n\u001b[1;32m    989\u001b[0m     df\u001b[38;5;241m=\u001b[39mdf, X_df\u001b[38;5;241m=\u001b[39mX_df, add_history\u001b[38;5;241m=\u001b[39madd_history\n\u001b[1;32m    990\u001b[0m )\n\u001b[1;32m    991\u001b[0m fcst_df \u001b[38;5;241m=\u001b[39m \u001b[38;5;28mself\u001b[39m\u001b[38;5;241m.\u001b[39m_restore_uids(fcst_df, dtype\u001b[38;5;241m=\u001b[39muids_dtype, id_col\u001b[38;5;241m=\u001b[39mid_col)\n\u001b[1;32m    992\u001b[0m \u001b[38;5;28mself\u001b[39m\u001b[38;5;241m.\u001b[39mweights_x \u001b[38;5;241m=\u001b[39m nixtla_client_model\u001b[38;5;241m.\u001b[39mweights_x\n",
      "File \u001b[0;32m/opt/anaconda3/lib/python3.11/site-packages/nixtla/nixtla_client.py:570\u001b[0m, in \u001b[0;36m_NixtlaClientModel.forecast\u001b[0;34m(self, df, X_df, add_history)\u001b[0m\n\u001b[1;32m    568\u001b[0m df, X_df \u001b[38;5;241m=\u001b[39m \u001b[38;5;28mself\u001b[39m\u001b[38;5;241m.\u001b[39mtransform_inputs(df\u001b[38;5;241m=\u001b[39mdf, X_df\u001b[38;5;241m=\u001b[39mX_df)\n\u001b[1;32m    569\u001b[0m main_logger\u001b[38;5;241m.\u001b[39minfo(\u001b[38;5;124m\"\u001b[39m\u001b[38;5;124mPreprocessing dataframes...\u001b[39m\u001b[38;5;124m\"\u001b[39m)\n\u001b[0;32m--> 570\u001b[0m Y_df, X_df, x_cols \u001b[38;5;241m=\u001b[39m \u001b[38;5;28mself\u001b[39m\u001b[38;5;241m.\u001b[39mpreprocess_dataframes(df\u001b[38;5;241m=\u001b[39mdf, X_df\u001b[38;5;241m=\u001b[39mX_df)\n\u001b[1;32m    571\u001b[0m \u001b[38;5;28mself\u001b[39m\u001b[38;5;241m.\u001b[39mset_model_params()\n\u001b[1;32m    572\u001b[0m \u001b[38;5;28;01mif\u001b[39;00m \u001b[38;5;28mself\u001b[39m\u001b[38;5;241m.\u001b[39mh \u001b[38;5;241m>\u001b[39m \u001b[38;5;28mself\u001b[39m\u001b[38;5;241m.\u001b[39mmodel_horizon:\n",
      "File \u001b[0;32m/opt/anaconda3/lib/python3.11/site-packages/nixtla/nixtla_client.py:462\u001b[0m, in \u001b[0;36m_NixtlaClientModel.preprocess_dataframes\u001b[0;34m(self, df, X_df)\u001b[0m\n\u001b[1;32m    456\u001b[0m \u001b[38;5;28;01mdef\u001b[39;00m \u001b[38;5;21mpreprocess_dataframes\u001b[39m(\n\u001b[1;32m    457\u001b[0m     \u001b[38;5;28mself\u001b[39m,\n\u001b[1;32m    458\u001b[0m     df: pd\u001b[38;5;241m.\u001b[39mDataFrame,\n\u001b[1;32m    459\u001b[0m     X_df: Optional[pd\u001b[38;5;241m.\u001b[39mDataFrame],\n\u001b[1;32m    460\u001b[0m ):\n\u001b[1;32m    461\u001b[0m \u001b[38;5;250m    \u001b[39m\u001b[38;5;124;03m\"\"\"Returns Y_df and X_df dataframes in the structure expected by the endpoints.\"\"\"\u001b[39;00m\n\u001b[0;32m--> 462\u001b[0m     \u001b[38;5;28mself\u001b[39m\u001b[38;5;241m.\u001b[39minfer_freq(df\u001b[38;5;241m=\u001b[39mdf)\n\u001b[1;32m    463\u001b[0m     df, X_df \u001b[38;5;241m=\u001b[39m \u001b[38;5;28mself\u001b[39m\u001b[38;5;241m.\u001b[39madd_date_features(df\u001b[38;5;241m=\u001b[39mdf, X_df\u001b[38;5;241m=\u001b[39mX_df)\n\u001b[1;32m    464\u001b[0m     y_cols \u001b[38;5;241m=\u001b[39m [\u001b[38;5;124m\"\u001b[39m\u001b[38;5;124munique_id\u001b[39m\u001b[38;5;124m\"\u001b[39m, \u001b[38;5;124m\"\u001b[39m\u001b[38;5;124mds\u001b[39m\u001b[38;5;124m\"\u001b[39m, \u001b[38;5;124m\"\u001b[39m\u001b[38;5;124my\u001b[39m\u001b[38;5;124m\"\u001b[39m]\n",
      "File \u001b[0;32m/opt/anaconda3/lib/python3.11/site-packages/nixtla/nixtla_client.py:308\u001b[0m, in \u001b[0;36m_NixtlaClientModel.infer_freq\u001b[0;34m(self, df)\u001b[0m\n\u001b[1;32m    306\u001b[0m special_freqs \u001b[38;5;241m=\u001b[39m [\u001b[38;5;124m\"\u001b[39m\u001b[38;5;124mW\u001b[39m\u001b[38;5;124m\"\u001b[39m, \u001b[38;5;124m\"\u001b[39m\u001b[38;5;124mM\u001b[39m\u001b[38;5;124m\"\u001b[39m, \u001b[38;5;124m\"\u001b[39m\u001b[38;5;124mQ\u001b[39m\u001b[38;5;124m\"\u001b[39m, \u001b[38;5;124m\"\u001b[39m\u001b[38;5;124mY\u001b[39m\u001b[38;5;124m\"\u001b[39m, \u001b[38;5;124m\"\u001b[39m\u001b[38;5;124mA\u001b[39m\u001b[38;5;124m\"\u001b[39m]\n\u001b[1;32m    307\u001b[0m \u001b[38;5;28;01mif\u001b[39;00m \u001b[38;5;28mself\u001b[39m\u001b[38;5;241m.\u001b[39mfreq \u001b[38;5;129;01mis\u001b[39;00m \u001b[38;5;28;01mNone\u001b[39;00m \u001b[38;5;129;01mor\u001b[39;00m \u001b[38;5;28mself\u001b[39m\u001b[38;5;241m.\u001b[39mfreq \u001b[38;5;129;01min\u001b[39;00m special_freqs:\n\u001b[0;32m--> 308\u001b[0m     unique_id \u001b[38;5;241m=\u001b[39m df\u001b[38;5;241m.\u001b[39miloc[\u001b[38;5;241m0\u001b[39m][\u001b[38;5;124m\"\u001b[39m\u001b[38;5;124munique_id\u001b[39m\u001b[38;5;124m\"\u001b[39m]\n\u001b[1;32m    309\u001b[0m     df_id \u001b[38;5;241m=\u001b[39m df\u001b[38;5;241m.\u001b[39mquery(\u001b[38;5;124m\"\u001b[39m\u001b[38;5;124munique_id == @unique_id\u001b[39m\u001b[38;5;124m\"\u001b[39m)\n\u001b[1;32m    310\u001b[0m     inferred_freq \u001b[38;5;241m=\u001b[39m pd\u001b[38;5;241m.\u001b[39minfer_freq(df_id[\u001b[38;5;124m\"\u001b[39m\u001b[38;5;124mds\u001b[39m\u001b[38;5;124m\"\u001b[39m]\u001b[38;5;241m.\u001b[39msort_values())\n",
      "File \u001b[0;32m/opt/anaconda3/lib/python3.11/site-packages/pandas/core/indexing.py:1153\u001b[0m, in \u001b[0;36m_LocationIndexer.__getitem__\u001b[0;34m(self, key)\u001b[0m\n\u001b[1;32m   1150\u001b[0m axis \u001b[38;5;241m=\u001b[39m \u001b[38;5;28mself\u001b[39m\u001b[38;5;241m.\u001b[39maxis \u001b[38;5;129;01mor\u001b[39;00m \u001b[38;5;241m0\u001b[39m\n\u001b[1;32m   1152\u001b[0m maybe_callable \u001b[38;5;241m=\u001b[39m com\u001b[38;5;241m.\u001b[39mapply_if_callable(key, \u001b[38;5;28mself\u001b[39m\u001b[38;5;241m.\u001b[39mobj)\n\u001b[0;32m-> 1153\u001b[0m \u001b[38;5;28;01mreturn\u001b[39;00m \u001b[38;5;28mself\u001b[39m\u001b[38;5;241m.\u001b[39m_getitem_axis(maybe_callable, axis\u001b[38;5;241m=\u001b[39maxis)\n",
      "File \u001b[0;32m/opt/anaconda3/lib/python3.11/site-packages/pandas/core/indexing.py:1714\u001b[0m, in \u001b[0;36m_iLocIndexer._getitem_axis\u001b[0;34m(self, key, axis)\u001b[0m\n\u001b[1;32m   1711\u001b[0m     \u001b[38;5;28;01mraise\u001b[39;00m \u001b[38;5;167;01mTypeError\u001b[39;00m(\u001b[38;5;124m\"\u001b[39m\u001b[38;5;124mCannot index by location index with a non-integer key\u001b[39m\u001b[38;5;124m\"\u001b[39m)\n\u001b[1;32m   1713\u001b[0m \u001b[38;5;66;03m# validate the location\u001b[39;00m\n\u001b[0;32m-> 1714\u001b[0m \u001b[38;5;28mself\u001b[39m\u001b[38;5;241m.\u001b[39m_validate_integer(key, axis)\n\u001b[1;32m   1716\u001b[0m \u001b[38;5;28;01mreturn\u001b[39;00m \u001b[38;5;28mself\u001b[39m\u001b[38;5;241m.\u001b[39mobj\u001b[38;5;241m.\u001b[39m_ixs(key, axis\u001b[38;5;241m=\u001b[39maxis)\n",
      "File \u001b[0;32m/opt/anaconda3/lib/python3.11/site-packages/pandas/core/indexing.py:1647\u001b[0m, in \u001b[0;36m_iLocIndexer._validate_integer\u001b[0;34m(self, key, axis)\u001b[0m\n\u001b[1;32m   1645\u001b[0m len_axis \u001b[38;5;241m=\u001b[39m \u001b[38;5;28mlen\u001b[39m(\u001b[38;5;28mself\u001b[39m\u001b[38;5;241m.\u001b[39mobj\u001b[38;5;241m.\u001b[39m_get_axis(axis))\n\u001b[1;32m   1646\u001b[0m \u001b[38;5;28;01mif\u001b[39;00m key \u001b[38;5;241m>\u001b[39m\u001b[38;5;241m=\u001b[39m len_axis \u001b[38;5;129;01mor\u001b[39;00m key \u001b[38;5;241m<\u001b[39m \u001b[38;5;241m-\u001b[39mlen_axis:\n\u001b[0;32m-> 1647\u001b[0m     \u001b[38;5;28;01mraise\u001b[39;00m \u001b[38;5;167;01mIndexError\u001b[39;00m(\u001b[38;5;124m\"\u001b[39m\u001b[38;5;124msingle positional indexer is out-of-bounds\u001b[39m\u001b[38;5;124m\"\u001b[39m)\n",
      "\u001b[0;31mIndexError\u001b[0m: single positional indexer is out-of-bounds"
     ]
    }
   ],
   "source": [
    "# Ensure the frequency is consistent\n",
    "df = df.asfreq('MS')\n",
    "\n",
    "# Split the data into training and testing sets\n",
    "train_size = int(len(df) * 0.8)\n",
    "train = df.iloc[:train_size]\n",
    "test = df.iloc[train_size:]\n",
    "\n",
    "# Prepare exogenous variables\n",
    "def prepare_exogenous(df):\n",
    "    exog = df[['maizeusdprice', 'exchangerate', 'Inflation']].copy()\n",
    "    exog['ds'] = exog.index\n",
    "    return exog\n",
    "\n",
    "train_exogenous = prepare_exogenous(train)\n",
    "test_exogenous = prepare_exogenous(test)\n",
    "\n",
    "# Generate future dates\n",
    "future_dates = pd.date_range(start=test.index[-1] + pd.offsets.MonthBegin(), periods=len(test), freq='MS')\n",
    "\n",
    "# Repeat the last known values for exogenous variables\n",
    "future_exogenous = pd.DataFrame({\n",
    "    'maizeusdprice': [test['maizeusdprice'].iloc[-1]] * len(future_dates),\n",
    "    'exchangerate': [test['exchangerate'].iloc[-1]] * len(future_dates),\n",
    "    'Inflation': [test['Inflation'].iloc[-1]] * len(future_dates)\n",
    "}, index=future_dates)\n",
    "\n",
    "# Combine future exogenous variables with the test set\n",
    "future_exogenous['ds'] = future_exogenous.index\n",
    "test_exogenous_future = pd.concat([test_exogenous, future_exogenous])\n",
    "\n",
    "# Ensure the future exogenous data is in the correct format\n",
    "test_exogenous_future = test_exogenous_future.reset_index(drop=True)\n",
    "\n",
    "# Reset index for training and testing data\n",
    "train_reset = train.reset_index()\n",
    "test_reset = test.reset_index()\n",
    "\n",
    "# Initialize Nixtla client\n",
    "nixtla_client = NixtlaClient(api_key='your_api_key')  # Replace with your API key\n",
    "\n",
    "# Train the model\n",
    "main_forecast = nixtla_client.forecast(\n",
    "    df=train_reset,\n",
    "    h=len(test),\n",
    "    target_col='riceusdprice',\n",
    "    X_df=train_exogenous.reset_index(drop=True)\n",
    ")\n",
    "\n",
    "# Make predictions\n",
    "predictions_df = nixtla_client.forecast(\n",
    "    df=test_reset,\n",
    "    h=len(test),\n",
    "    target_col='riceusdprice',\n",
    "    X_df=test_exogenous_future\n",
    ")\n",
    "\n",
    "# Evaluate the model\n",
    "y_true = test['riceusdprice']\n",
    "y_pred = predictions_df['TimeGPT']  # Replace 'TimeGPT' with the correct column name in your predictions\n",
    "\n",
    "# Calculate Mean Squared Error\n",
    "mse = mean_squared_error(y_true, y_pred)\n",
    "print(f\"Mean Squared Error: {mse}\")\n",
    "\n",
    "# Plot the results\n",
    "plt.figure(figsize=(14, 7))\n",
    "plt.plot(train.index, train['riceusdprice'], label='Train', color='blue', linewidth=1.5)\n",
    "plt.plot(test.index, y_true, label='True Values', color='orange', linewidth=1.5)\n",
    "plt.plot(test.index, y_pred, label='Predicted Values', linestyle='--', color='green', linewidth=1.5)\n",
    "plt.fill_between(test.index, predictions_df['TimeGPT_level_90_lower'], predictions_df['TimeGPT_level_90_upper'], color='pink', alpha=0.3, label='Confidence Interval (90%)')\n",
    "plt.legend()\n",
    "plt.title('Rice Price Forecast', fontsize=16)\n",
    "plt.xlabel('Date', fontsize=14)\n",
    "plt.ylabel('Price', fontsize=14)\n",
    "plt.grid(True)\n",
    "plt.show()"
   ]
  },
  {
   "cell_type": "code",
   "execution_count": null,
   "id": "eade1587",
   "metadata": {},
   "outputs": [],
   "source": []
  }
 ],
 "metadata": {
  "kernelspec": {
   "display_name": "Python 3 (ipykernel)",
   "language": "python",
   "name": "python3"
  },
  "language_info": {
   "codemirror_mode": {
    "name": "ipython",
    "version": 3
   },
   "file_extension": ".py",
   "mimetype": "text/x-python",
   "name": "python",
   "nbconvert_exporter": "python",
   "pygments_lexer": "ipython3",
   "version": "3.11.7"
  }
 },
 "nbformat": 4,
 "nbformat_minor": 5
}
